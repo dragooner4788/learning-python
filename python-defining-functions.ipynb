{
 "metadata": {
  "language_info": {
   "codemirror_mode": {
    "name": "ipython",
    "version": 3
   },
   "file_extension": ".py",
   "mimetype": "text/x-python",
   "name": "python",
   "nbconvert_exporter": "python",
   "pygments_lexer": "ipython3",
   "version": "3.9.0-final"
  },
  "orig_nbformat": 2,
  "kernelspec": {
   "name": "python3",
   "display_name": "Python 3.9.0 64-bit",
   "metadata": {
    "interpreter": {
     "hash": "5122ed099dc5123678099b7db7e8f3488f5555799320b736a8038161c49cbd3b"
    }
   }
  }
 },
 "nbformat": 4,
 "nbformat_minor": 2,
 "cells": [
  {
   "source": [
    "# Defining Functions\n",
    "\n",
    "## Why write custom functions? \n",
    "\n",
    "We can use functions we write and create more than one file, instead of what we are doing here while learning.\n",
    "\n",
    "We can make more reusable code chunks."
   ],
   "cell_type": "markdown",
   "metadata": {}
  },
  {
   "cell_type": "code",
   "execution_count": 1,
   "metadata": {},
   "outputs": [
    {
     "output_type": "stream",
     "name": "stdout",
     "text": [
      "Hi there\nWelcome aboard!\n"
     ]
    }
   ],
   "source": [
    "def greet():\n",
    "    print(\"Hi there\")\n",
    "    print(\"Welcome aboard!\")\n",
    "\n",
    "\n",
    "greet()"
   ]
  },
  {
   "source": [
    "# Function Arguments"
   ],
   "cell_type": "markdown",
   "metadata": {}
  },
  {
   "cell_type": "code",
   "execution_count": 4,
   "metadata": {},
   "outputs": [
    {
     "output_type": "stream",
     "name": "stdout",
     "text": [
      "Hello there, Guy Friley!\nWelcome aboard!\n"
     ]
    }
   ],
   "source": [
    "def greet(first_name, last_name): # Paramters, the input we define.\n",
    "    print(f\"Hello there, {first_name} {last_name}!\")\n",
    "    print(\"Welcome aboard!\")\n",
    "\n",
    "\n",
    "greet(\"Guy\", \"Friley\") # Passing arguments"
   ]
  },
  {
   "source": [
    "**Remember**: You need to add in arguments for all of the parameters you define."
   ],
   "cell_type": "markdown",
   "metadata": {}
  },
  {
   "cell_type": "code",
   "execution_count": 5,
   "metadata": {},
   "outputs": [
    {
     "output_type": "stream",
     "name": "stdout",
     "text": [
      "Hello there, John Smith!\nWelcome aboard!\n"
     ]
    }
   ],
   "source": [
    "def greet(first_name, last_name): # Paramters, the input we define.\n",
    "    print(f\"Hello there, {first_name} {last_name}!\")\n",
    "    print(\"Welcome aboard!\")\n",
    "\n",
    "\n",
    "greet(\"John\", \"Smith\") # Passing arguments"
   ]
  },
  {
   "source": [
    "# Types of Functions\n",
    "\n",
    "2 Types of functions:\n",
    "\n",
    "1. Perform a task\n",
    "2. Return a value"
   ],
   "cell_type": "markdown",
   "metadata": {}
  },
  {
   "cell_type": "code",
   "execution_count": 7,
   "metadata": {},
   "outputs": [
    {
     "output_type": "stream",
     "name": "stdout",
     "text": [
      "Hi, Guy\n"
     ]
    }
   ],
   "source": [
    "# Type 1: Perform a Task\n",
    "\n",
    "def greet(name):\n",
    "    print(f\"Hi, {name}\")\n",
    "\n",
    "\n",
    "greet(\"Guy\")"
   ]
  },
  {
   "cell_type": "code",
   "execution_count": 14,
   "metadata": {},
   "outputs": [
    {
     "output_type": "execute_result",
     "data": {
      "text/plain": [
       "9"
      ]
     },
     "metadata": {},
     "execution_count": 14
    }
   ],
   "source": [
    "# Type 2: Return a Value\n",
    "\n",
    "def get_greeting(name):\n",
    "    return f\"Hi {name}\"\n",
    "\n",
    "greeting = get_greeting(\"Robert\")\n",
    "\n",
    "file = open(\"content.txt\",\"w\")\n",
    "\n",
    "file.write(greeting)"
   ]
  },
  {
   "cell_type": "code",
   "execution_count": 16,
   "metadata": {},
   "outputs": [
    {
     "output_type": "stream",
     "name": "stdout",
     "text": [
      "Hi, Guy\nNone\n"
     ]
    }
   ],
   "source": [
    "# Getting a None...\n",
    "\n",
    "def greet(name):\n",
    "    print(f\"Hi, {name}\")\n",
    "\n",
    "print(greet(\"Guy\"))"
   ]
  },
  {
   "source": [
    "By default a function will return None if there is no return value."
   ],
   "cell_type": "markdown",
   "metadata": {}
  },
  {
   "cell_type": "code",
   "execution_count": 17,
   "metadata": {},
   "outputs": [
    {
     "output_type": "stream",
     "name": "stdout",
     "text": [
      "Hi, Guy\n"
     ]
    }
   ],
   "source": [
    "# Fixing None\n",
    "\n",
    "def greet(name):\n",
    "    # print(f\"Hi, {name}\")\n",
    "    return f\"Hi, {name}\"\n",
    "\n",
    "print(greet(\"Guy\"))"
   ]
  },
  {
   "source": [
    "# Keyword Arguments"
   ],
   "cell_type": "markdown",
   "metadata": {}
  },
  {
   "cell_type": "code",
   "execution_count": 21,
   "metadata": {},
   "outputs": [
    {
     "output_type": "stream",
     "name": "stdout",
     "text": [
      "3\n"
     ]
    }
   ],
   "source": [
    "def increment(number, by):\n",
    "    return number + by\n",
    "\n",
    "result = increment(2,1)\n",
    "\n",
    "print(result)"
   ]
  },
  {
   "source": [
    "We can simplify this by doing this:"
   ],
   "cell_type": "markdown",
   "metadata": {}
  },
  {
   "cell_type": "code",
   "execution_count": 22,
   "metadata": {},
   "outputs": [
    {
     "output_type": "stream",
     "name": "stdout",
     "text": [
      "3\n"
     ]
    }
   ],
   "source": [
    "def increment(number, by):\n",
    "    return number + by\n",
    "\n",
    "\n",
    "print(increment(2,1))"
   ]
  },
  {
   "source": [
    "Can use keyword arguments to make code more readable:"
   ],
   "cell_type": "markdown",
   "metadata": {}
  },
  {
   "cell_type": "code",
   "execution_count": 23,
   "metadata": {},
   "outputs": [
    {
     "output_type": "stream",
     "name": "stdout",
     "text": [
      "3\n"
     ]
    }
   ],
   "source": [
    "def increment(number, by):\n",
    "    return number + by\n",
    "\n",
    "\n",
    "print(increment(2,by = 1))"
   ]
  },
  {
   "source": [
    "# Default Arguments"
   ],
   "cell_type": "markdown",
   "metadata": {}
  },
  {
   "cell_type": "code",
   "execution_count": 24,
   "metadata": {},
   "outputs": [
    {
     "output_type": "execute_result",
     "data": {
      "text/plain": [
       "3"
      ]
     },
     "metadata": {},
     "execution_count": 24
    }
   ],
   "source": [
    "def increment(number, by = 1):\n",
    "    return number + by\n",
    "\n",
    "increment(2)"
   ]
  },
  {
   "source": [
    "Optional paramters should come *after* your rquired parameters."
   ],
   "cell_type": "markdown",
   "metadata": {}
  },
  {
   "cell_type": "code",
   "execution_count": 25,
   "metadata": {},
   "outputs": [
    {
     "output_type": "execute_result",
     "data": {
      "text/plain": [
       "6"
      ]
     },
     "metadata": {},
     "execution_count": 25
    }
   ],
   "source": [
    "def increment(number, by = 1):\n",
    "    return number + by\n",
    "\n",
    "increment(5,1)"
   ]
  },
  {
   "source": [
    "# xargs"
   ],
   "cell_type": "markdown",
   "metadata": {}
  },
  {
   "cell_type": "code",
   "execution_count": 27,
   "metadata": {},
   "outputs": [
    {
     "output_type": "execute_result",
     "data": {
      "text/plain": [
       "4"
      ]
     },
     "metadata": {},
     "execution_count": 27
    }
   ],
   "source": [
    "def multiply(x, y):\n",
    "    return x * y\n",
    "\n",
    "multiply(2,2)"
   ]
  },
  {
   "cell_type": "code",
   "execution_count": 29,
   "metadata": {},
   "outputs": [
    {
     "output_type": "stream",
     "name": "stdout",
     "text": [
      "(2, 3, 4, 5)\n"
     ]
    }
   ],
   "source": [
    "def multiply(*numbers):\n",
    "    print(numbers)\n",
    "\n",
    "multiply(2,3,4,5) # This will create a Tuple. Tuples cannot be modified."
   ]
  },
  {
   "cell_type": "code",
   "execution_count": 34,
   "metadata": {},
   "outputs": [
    {
     "output_type": "stream",
     "name": "stdout",
     "text": [
      "2\n3\n4\n5\n"
     ]
    }
   ],
   "source": [
    "def multiply(*numbers):\n",
    "    for number in numbers:\n",
    "        print(number)\n",
    "\n",
    "multiply(2,3,4,5)"
   ]
  },
  {
   "cell_type": "code",
   "execution_count": 37,
   "metadata": {},
   "outputs": [
    {
     "output_type": "execute_result",
     "data": {
      "text/plain": [
       "120"
      ]
     },
     "metadata": {},
     "execution_count": 37
    }
   ],
   "source": [
    "def multiply(*numbers):\n",
    "    total = 1 # We use 1 instead of 0 because 1 is the identity number for multiplication. 1 * 2 = 2 wheras 0 * 2 = 0\n",
    "    for number in numbers:\n",
    "        total *= number\n",
    "    return total\n",
    "\n",
    "multiply(2,3,4,5)"
   ]
  },
  {
   "source": [
    "# xxargs "
   ],
   "cell_type": "markdown",
   "metadata": {}
  },
  {
   "cell_type": "code",
   "execution_count": 44,
   "metadata": {},
   "outputs": [
    {
     "output_type": "stream",
     "name": "stdout",
     "text": [
      "{'id': 1, 'name': 'John', 'age': 22}\n"
     ]
    }
   ],
   "source": [
    "def save_user(**user):\n",
    "    print(user)\n",
    "\n",
    "\n",
    "save_user(id=1, name=\"John\", age=22)"
   ]
  },
  {
   "cell_type": "code",
   "execution_count": 45,
   "metadata": {},
   "outputs": [
    {
     "output_type": "stream",
     "name": "stdout",
     "text": [
      "1\n"
     ]
    }
   ],
   "source": [
    "def save_user(**user):\n",
    "    print(user[\"id\"])\n",
    "\n",
    "\n",
    "save_user(id=1, name=\"John\", age=22)"
   ]
  },
  {
   "source": [
    "# Scope\n",
    "\n",
    "*Refer to pages*: 65-66 in *Automate the Boring Stuff with Python* for additonal information.\n",
    "\n",
    "Global Scope: This refers to variables and code that is not wrapped inside of a function. These varibales can be accessed by all functions.\n",
    "- Global Variable: Exists within the Global Scope\n",
    "\n",
    "Local Scope: The code within a local scope is separate from global and when you run a function, after it's done returning a value the varibales inside of a function are no longer accesible.\n",
    "- Local Variable: Exists within the Local Scope\n",
    "- Local Scope happens whenever a function is called. \n",
    "    - When a function returns a value, the local scope is destroyed\n",
    "\n",
    "\n",
    "Things to know: \n",
    "- You can have two varibales named the same thing:\n",
    "    - One in Global named '**spam**'\n",
    "    - One in Local (inside of a function) named '**spam**'\n",
    "- A variable cannot be both local and global, it is one or the other. "
   ],
   "cell_type": "markdown",
   "metadata": {}
  },
  {
   "cell_type": "code",
   "execution_count": 5,
   "metadata": {},
   "outputs": [],
   "source": [
    "def greet():\n",
    "    message = \"a\" # Only exists inside of this function"
   ]
  },
  {
   "cell_type": "code",
   "execution_count": 3,
   "metadata": {},
   "outputs": [
    {
     "output_type": "error",
     "ename": "NameError",
     "evalue": "name 'message' is not defined",
     "traceback": [
      "\u001b[1;31m---------------------------------------------------------------------------\u001b[0m",
      "\u001b[1;31mNameError\u001b[0m                                 Traceback (most recent call last)",
      "\u001b[1;32m<ipython-input-3-4e3799cc7103>\u001b[0m in \u001b[0;36m<module>\u001b[1;34m\u001b[0m\n\u001b[0;32m      2\u001b[0m     \u001b[0mmessage\u001b[0m \u001b[1;33m=\u001b[0m \u001b[1;34m\"a\"\u001b[0m \u001b[1;31m# Only exists inside of this function\u001b[0m\u001b[1;33m\u001b[0m\u001b[1;33m\u001b[0m\u001b[0m\n\u001b[0;32m      3\u001b[0m \u001b[1;33m\u001b[0m\u001b[0m\n\u001b[1;32m----> 4\u001b[1;33m \u001b[0mprint\u001b[0m\u001b[1;33m(\u001b[0m\u001b[0mmessage\u001b[0m\u001b[1;33m)\u001b[0m \u001b[1;31m# This will throw an error\u001b[0m\u001b[1;33m\u001b[0m\u001b[1;33m\u001b[0m\u001b[0m\n\u001b[0m",
      "\u001b[1;31mNameError\u001b[0m: name 'message' is not defined"
     ]
    }
   ],
   "source": [
    "def greet():\n",
    "    message = \"a\" # Only exists inside of this function\n",
    "\n",
    "print(message) # This will throw an error"
   ]
  },
  {
   "cell_type": "code",
   "execution_count": 2,
   "metadata": {},
   "outputs": [
    {
     "output_type": "error",
     "ename": "NameError",
     "evalue": "name 'name' is not defined",
     "traceback": [
      "\u001b[1;31m---------------------------------------------------------------------------\u001b[0m",
      "\u001b[1;31mNameError\u001b[0m                                 Traceback (most recent call last)",
      "\u001b[1;32m<ipython-input-2-4244f72ba3be>\u001b[0m in \u001b[0;36m<module>\u001b[1;34m\u001b[0m\n\u001b[0;32m      2\u001b[0m     \u001b[0mmessage\u001b[0m \u001b[1;33m=\u001b[0m \u001b[1;34m\"a\"\u001b[0m \u001b[1;31m# Only exists inside of this function\u001b[0m\u001b[1;33m\u001b[0m\u001b[1;33m\u001b[0m\u001b[0m\n\u001b[0;32m      3\u001b[0m \u001b[1;33m\u001b[0m\u001b[0m\n\u001b[1;32m----> 4\u001b[1;33m \u001b[0mprint\u001b[0m\u001b[1;33m(\u001b[0m\u001b[0mname\u001b[0m\u001b[1;33m)\u001b[0m \u001b[1;31m# This will fail\u001b[0m\u001b[1;33m\u001b[0m\u001b[1;33m\u001b[0m\u001b[0m\n\u001b[0m",
      "\u001b[1;31mNameError\u001b[0m: name 'name' is not defined"
     ]
    }
   ],
   "source": [
    "def greet(name):\n",
    "    message = \"a\" # Only exists inside of this function\n",
    "\n",
    "print(name) # This will fail "
   ]
  },
  {
   "source": [
    "# Example of Local Scope"
   ],
   "cell_type": "markdown",
   "metadata": {}
  },
  {
   "cell_type": "code",
   "execution_count": null,
   "metadata": {},
   "outputs": [],
   "source": [
    "def greet():\n",
    "    message = \"a\" # Only exists inside of this function\n",
    "\n",
    "def second_email(name):\n",
    "    message = \"b\" # This variable is different from the variable in the greet function.abs"
   ]
  },
  {
   "cell_type": "code",
   "execution_count": null,
   "metadata": {},
   "outputs": [],
   "source": [
    "def greet(name):\n",
    "    message = f\"Hello, {name}\"\n",
    "\n",
    "greet(\"Guy\")"
   ]
  },
  {
   "source": [
    "# Example of GLobal Scope"
   ],
   "cell_type": "markdown",
   "metadata": {}
  },
  {
   "cell_type": "code",
   "execution_count": null,
   "metadata": {},
   "outputs": [],
   "source": [
    "message = \"a\" # This exists in the global scope\n",
    "\n",
    "# Global variables stay in memory longer than local variabls. Until they are garbage collected.\n",
    "\n",
    "def greet(name):\n",
    "    message = f\"Hello, {name}\""
   ]
  },
  {
   "cell_type": "code",
   "execution_count": 6,
   "metadata": {},
   "outputs": [
    {
     "output_type": "stream",
     "name": "stdout",
     "text": [
      "a\n"
     ]
    }
   ],
   "source": [
    "message = \"a\"\n",
    "\n",
    "def greet(name):\n",
    "    message = \"b\"\n",
    "\n",
    "greet(\"Guy\")\n",
    "print(message) #Coming from the Global Variable"
   ]
  },
  {
   "source": [
    "# Bad Practice\n",
    "\n",
    "Using a global variable inside of a function by using the **global** keyword."
   ],
   "cell_type": "markdown",
   "metadata": {}
  },
  {
   "cell_type": "code",
   "execution_count": 7,
   "metadata": {},
   "outputs": [
    {
     "output_type": "stream",
     "name": "stdout",
     "text": [
      "b\n"
     ]
    }
   ],
   "source": [
    "message = \"a\"\n",
    "\n",
    "def greet(name):\n",
    "    global message # This will tell the function to use the global variable. \n",
    "    message = \"b\"\n",
    "\n",
    "greet(\"Guy\")\n",
    "print(message) #Coming from the Global Variable"
   ]
  },
  {
   "source": [
    "By using **global** inside of the function, you are altering the **global** variable with the new assignment of \"b\""
   ],
   "cell_type": "markdown",
   "metadata": {}
  },
  {
   "source": [
    "# Debugging Your Code"
   ],
   "cell_type": "markdown",
   "metadata": {}
  },
  {
   "cell_type": "code",
   "execution_count": 11,
   "metadata": {},
   "outputs": [
    {
     "output_type": "stream",
     "name": "stdout",
     "text": [
      "Start\n6\n"
     ]
    }
   ],
   "source": [
    "def multiply(*numbers):\n",
    "    total = 1\n",
    "\n",
    "    for number in numbers:\n",
    "        total *= number\n",
    "    return total\n",
    "\n",
    "print(\"Start\")\n",
    "print(multiply(1,2,3))"
   ]
  },
  {
   "source": [
    "Within VS Code you can go into debugging mode. And debugging mode should help you run through your code to see where the error is."
   ],
   "cell_type": "markdown",
   "metadata": {}
  },
  {
   "source": [
    "# VS Code Coding Tricks\n",
    "\n",
    "Move cursor to end of the line: END key. \n",
    "\n",
    "Move cursor to the begging of the line: HOME key.\n",
    "\n",
    "Move cursor to top of file: Crtl + HOME\n",
    "\n",
    "Move cursor to bottom of file: Crtl + END\n",
    "\n",
    "Move a line up or down: Alt + UP or DOWN arrows.\n",
    "- Can do this with multiple lines. \n",
    "\n",
    "Duplicate lines: Shift + Alt + Down Key\n",
    "\n",
    "Turn code into comment: Crtl + /\n",
    "\n",
    "Autocomplete:\n",
    "- Press enter\n",
    "- Any combination of letters"
   ],
   "cell_type": "markdown",
   "metadata": {}
  },
  {
   "source": [
    "# Exercise\n",
    "\n",
    "## Fizz Buzz\n",
    "\n",
    "If input is / by 3 Fizz\n",
    "\n",
    "if input is / by 5 Buzz \n",
    "\n",
    "if input is / by 3 or 5 Fizz Buzz\n",
    "\n",
    "if not divisble return the number..."
   ],
   "cell_type": "markdown",
   "metadata": {}
  },
  {
   "cell_type": "code",
   "execution_count": 22,
   "metadata": {},
   "outputs": [
    {
     "output_type": "execute_result",
     "data": {
      "text/plain": [
       "'Fizz Buzz'"
      ]
     },
     "metadata": {},
     "execution_count": 22
    }
   ],
   "source": [
    "def fizz_buzz(input):\n",
    "    if (input % 3 == 0) and (input % 5 == 0):\n",
    "        return \"Fizz Buzz\"\n",
    "    elif input % 3 == 0:\n",
    "        return \"Fizz\"\n",
    "    elif input % 5 == 0:\n",
    "        return \"Buzz\"\n",
    "    else:\n",
    "        return input\n",
    "\n",
    "\n",
    "fizz_buzz(15)"
   ]
  },
  {
   "cell_type": "code",
   "execution_count": 24,
   "metadata": {},
   "outputs": [
    {
     "output_type": "execute_result",
     "data": {
      "text/plain": [
       "'FizzBuzz'"
      ]
     },
     "metadata": {},
     "execution_count": 24
    }
   ],
   "source": [
    "# How Mosh did it:\n",
    "\n",
    "def fizz_buzz(input):\n",
    "    if (input % 3 == 0) and (input % 5 == 0):\n",
    "        return \"FizzBuzz\"\n",
    "    if input % 3 == 0:\n",
    "        return \"Fizz\"\n",
    "    if input % 5 == 0:\n",
    "        return \"Buzz\"\n",
    "    return input \n",
    "\n",
    "fizz_buzz(15)"
   ]
  }
 ]
}