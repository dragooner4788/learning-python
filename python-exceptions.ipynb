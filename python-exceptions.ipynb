{
 "metadata": {
  "language_info": {
   "codemirror_mode": {
    "name": "ipython",
    "version": 3
   },
   "file_extension": ".py",
   "mimetype": "text/x-python",
   "name": "python",
   "nbconvert_exporter": "python",
   "pygments_lexer": "ipython3",
   "version": "3.9.0-final"
  },
  "orig_nbformat": 2,
  "kernelspec": {
   "name": "python3",
   "display_name": "Python 3.9.0 64-bit",
   "metadata": {
    "interpreter": {
     "hash": "5122ed099dc5123678099b7db7e8f3488f5555799320b736a8038161c49cbd3b"
    }
   }
  }
 },
 "nbformat": 4,
 "nbformat_minor": 2,
 "cells": [
  {
   "source": [
    "# Exception\n",
    "\n",
    "Programs will get an error and terminate.\n",
    "\n",
    "Exception errors are what terminates the continuation of a program."
   ],
   "cell_type": "markdown",
   "metadata": {}
  },
  {
   "cell_type": "code",
   "execution_count": 7,
   "metadata": {},
   "outputs": [
    {
     "output_type": "error",
     "ename": "IndexError",
     "evalue": "list index out of range",
     "traceback": [
      "\u001b[1;31m---------------------------------------------------------------------------\u001b[0m",
      "\u001b[1;31mIndexError\u001b[0m                                Traceback (most recent call last)",
      "\u001b[1;32m<ipython-input-7-7bcc21197f3b>\u001b[0m in \u001b[0;36m<module>\u001b[1;34m\u001b[0m\n\u001b[0;32m      3\u001b[0m \u001b[0mnumbers\u001b[0m \u001b[1;33m=\u001b[0m \u001b[1;33m[\u001b[0m\u001b[1;36m1\u001b[0m\u001b[1;33m,\u001b[0m\u001b[1;36m2\u001b[0m\u001b[1;33m]\u001b[0m\u001b[1;33m\u001b[0m\u001b[1;33m\u001b[0m\u001b[0m\n\u001b[0;32m      4\u001b[0m \u001b[1;33m\u001b[0m\u001b[0m\n\u001b[1;32m----> 5\u001b[1;33m \u001b[0mprint\u001b[0m\u001b[1;33m(\u001b[0m\u001b[0mnumbers\u001b[0m\u001b[1;33m[\u001b[0m\u001b[1;36m3\u001b[0m\u001b[1;33m]\u001b[0m\u001b[1;33m)\u001b[0m\u001b[1;33m\u001b[0m\u001b[1;33m\u001b[0m\u001b[0m\n\u001b[0m",
      "\u001b[1;31mIndexError\u001b[0m: list index out of range"
     ]
    }
   ],
   "source": [
    "# Examples\n",
    "\n",
    "numbers = [1,2]\n",
    "\n",
    "print(numbers[3])"
   ]
  },
  {
   "cell_type": "code",
   "execution_count": 8,
   "metadata": {},
   "outputs": [
    {
     "output_type": "error",
     "ename": "ValueError",
     "evalue": "invalid literal for int() with base 10: 'a'",
     "traceback": [
      "\u001b[1;31m---------------------------------------------------------------------------\u001b[0m",
      "\u001b[1;31mValueError\u001b[0m                                Traceback (most recent call last)",
      "\u001b[1;32m<ipython-input-8-df001f06bfef>\u001b[0m in \u001b[0;36m<module>\u001b[1;34m\u001b[0m\n\u001b[0;32m      1\u001b[0m \u001b[1;31m# More Examples\u001b[0m\u001b[1;33m\u001b[0m\u001b[1;33m\u001b[0m\u001b[1;33m\u001b[0m\u001b[0m\n\u001b[0;32m      2\u001b[0m \u001b[1;33m\u001b[0m\u001b[0m\n\u001b[1;32m----> 3\u001b[1;33m \u001b[0mage\u001b[0m \u001b[1;33m=\u001b[0m \u001b[0mint\u001b[0m\u001b[1;33m(\u001b[0m\u001b[0minput\u001b[0m\u001b[1;33m(\u001b[0m\u001b[1;34m\"Age: \"\u001b[0m\u001b[1;33m)\u001b[0m\u001b[1;33m)\u001b[0m\u001b[1;33m\u001b[0m\u001b[1;33m\u001b[0m\u001b[0m\n\u001b[0m",
      "\u001b[1;31mValueError\u001b[0m: invalid literal for int() with base 10: 'a'"
     ]
    }
   ],
   "source": [
    "# More Examples\n",
    "\n",
    "age = int(input(\"Age: \"))"
   ]
  },
  {
   "source": [
    "# Handling Exceptions"
   ],
   "cell_type": "markdown",
   "metadata": {}
  },
  {
   "cell_type": "code",
   "execution_count": 11,
   "metadata": {},
   "outputs": [
    {
     "output_type": "stream",
     "name": "stdout",
     "text": [
      "You didn't enter a valid age.\n"
     ]
    }
   ],
   "source": [
    "try:\n",
    "    age = int(input(\"Age: \"))\n",
    "except ValueError:\n",
    "    print(\"You didn't enter a valid age.\")\n"
   ]
  },
  {
   "cell_type": "code",
   "execution_count": 4,
   "metadata": {},
   "outputs": [
    {
     "output_type": "stream",
     "name": "stdout",
     "text": [
      "You didn't enter a valid age.\ninvalid literal for int() with base 10: 'a'\n<class 'ValueError'>\nExecution continues.\n"
     ]
    }
   ],
   "source": [
    "\n",
    "try:\n",
    "    age = int(input(\"Age: \"))\n",
    "except ValueError as ex: # We can caputre the error details in a vairable.\n",
    "    print(\"You didn't enter a valid age.\")\n",
    "    print(ex) # You wouldn't type this on a console because it is really technical for an end user.\n",
    "    print(type(ex))\n",
    "else:\n",
    "    print(\"No exceptions were thrown.\")\n",
    "print(\"Execution continues.\")"
   ]
  },
  {
   "source": [
    "# Handling Different Exceptions"
   ],
   "cell_type": "markdown",
   "metadata": {}
  },
  {
   "cell_type": "code",
   "execution_count": 7,
   "metadata": {},
   "outputs": [
    {
     "output_type": "stream",
     "name": "stdout",
     "text": [
      "You didn't enter a valid age.\nAge was 0.\n"
     ]
    }
   ],
   "source": [
    "try:\n",
    "    age = int(input(\"Age: \"))\n",
    "    xfactor = 10 / age\n",
    "except (ValueError, ZeroDivisionError):\n",
    "    print(f\"You didn't enter a valid age.\\nAge was {age}.\")\n",
    "else:\n",
    "    print(\"No execeptions were thrown.\")\n",
    "    "
   ]
  },
  {
   "source": [
    "# Cleaning Up\n",
    "\n",
    "We want to make sure that when we are done with a nfile that we release it so other programs can use it."
   ],
   "cell_type": "markdown",
   "metadata": {}
  },
  {
   "cell_type": "code",
   "execution_count": 9,
   "metadata": {},
   "outputs": [
    {
     "output_type": "stream",
     "name": "stdout",
     "text": [
      "No execeptions were thrown.\n"
     ]
    }
   ],
   "source": [
    "try:\n",
    "    file = open(\"practice code\\who-are-you.py\")\n",
    "    age = int(input(\"Age: \"))\n",
    "    xfactor = 10 / age\n",
    "except (ValueError, ZeroDivisionError):\n",
    "    print(f\"You didn't enter a valid age.\\nAge was {age}.\")\n",
    "else:\n",
    "    print(\"No execeptions were thrown.\")\n",
    "finally: # We use this to release external resources. \n",
    "    file.close() # We put this here to release the file resource"
   ]
  },
  {
   "source": [
    "# The With Statement\n",
    "\n",
    "We can use the *with* statement to automatically close a resoucre when we are done with it."
   ],
   "cell_type": "markdown",
   "metadata": {}
  },
  {
   "cell_type": "code",
   "execution_count": null,
   "metadata": {},
   "outputs": [],
   "source": [
    "try:\n",
    "    with open(\"practice code\\who-are-you.py\") as file: # this will automatically close the resource when done.\n",
    "        print(\"File Opened.\")\n",
    "        file.\n",
    "    age = int(input(\"Age: \"))\n",
    "    xfactor = 10 / age\n",
    "except (ValueError, ZeroDivisionError):\n",
    "    print(f\"You didn't enter a valid age.\\nAge was {age}.\")\n",
    "else:\n",
    "    print(\"No execeptions were thrown.\")"
   ]
  },
  {
   "source": [
    "# Raising Exceptions"
   ],
   "cell_type": "markdown",
   "metadata": {}
  },
  {
   "cell_type": "code",
   "execution_count": 10,
   "metadata": {},
   "outputs": [
    {
     "output_type": "error",
     "ename": "ValueError",
     "evalue": "Age cannot be 0 or less.",
     "traceback": [
      "\u001b[1;31m---------------------------------------------------------------------------\u001b[0m",
      "\u001b[1;31mValueError\u001b[0m                                Traceback (most recent call last)",
      "\u001b[1;32m<ipython-input-10-d52e6d738e86>\u001b[0m in \u001b[0;36m<module>\u001b[1;34m\u001b[0m\n\u001b[0;32m      4\u001b[0m     \u001b[1;32mreturn\u001b[0m \u001b[1;36m10\u001b[0m \u001b[1;33m/\u001b[0m \u001b[0mage\u001b[0m\u001b[1;33m\u001b[0m\u001b[1;33m\u001b[0m\u001b[0m\n\u001b[0;32m      5\u001b[0m \u001b[1;33m\u001b[0m\u001b[0m\n\u001b[1;32m----> 6\u001b[1;33m \u001b[0mcalculate_xfactor\u001b[0m\u001b[1;33m(\u001b[0m\u001b[1;33m-\u001b[0m\u001b[1;36m1\u001b[0m\u001b[1;33m)\u001b[0m\u001b[1;33m\u001b[0m\u001b[1;33m\u001b[0m\u001b[0m\n\u001b[0m",
      "\u001b[1;32m<ipython-input-10-d52e6d738e86>\u001b[0m in \u001b[0;36mcalculate_xfactor\u001b[1;34m(age)\u001b[0m\n\u001b[0;32m      1\u001b[0m \u001b[1;32mdef\u001b[0m \u001b[0mcalculate_xfactor\u001b[0m\u001b[1;33m(\u001b[0m\u001b[0mage\u001b[0m\u001b[1;33m)\u001b[0m\u001b[1;33m:\u001b[0m\u001b[1;33m\u001b[0m\u001b[1;33m\u001b[0m\u001b[0m\n\u001b[0;32m      2\u001b[0m     \u001b[1;32mif\u001b[0m \u001b[0mage\u001b[0m \u001b[1;33m<=\u001b[0m \u001b[1;36m0\u001b[0m\u001b[1;33m:\u001b[0m\u001b[1;33m\u001b[0m\u001b[1;33m\u001b[0m\u001b[0m\n\u001b[1;32m----> 3\u001b[1;33m         \u001b[1;32mraise\u001b[0m \u001b[0mValueError\u001b[0m\u001b[1;33m(\u001b[0m\u001b[1;34m\"Age cannot be 0 or less.\"\u001b[0m\u001b[1;33m)\u001b[0m\u001b[1;33m\u001b[0m\u001b[1;33m\u001b[0m\u001b[0m\n\u001b[0m\u001b[0;32m      4\u001b[0m     \u001b[1;32mreturn\u001b[0m \u001b[1;36m10\u001b[0m \u001b[1;33m/\u001b[0m \u001b[0mage\u001b[0m\u001b[1;33m\u001b[0m\u001b[1;33m\u001b[0m\u001b[0m\n\u001b[0;32m      5\u001b[0m \u001b[1;33m\u001b[0m\u001b[0m\n",
      "\u001b[1;31mValueError\u001b[0m: Age cannot be 0 or less."
     ]
    }
   ],
   "source": [
    "def calculate_xfactor(age):\n",
    "    if age <= 0:\n",
    "        raise ValueError(\"Age cannot be 0 or less.\")\n",
    "    return 10 / age\n",
    "\n",
    "calculate_xfactor(-1)"
   ]
  },
  {
   "cell_type": "code",
   "execution_count": 12,
   "metadata": {},
   "outputs": [
    {
     "output_type": "stream",
     "name": "stdout",
     "text": [
      "Age cannot be 0 or less.\n"
     ]
    }
   ],
   "source": [
    "def calculate_xfactor(age):\n",
    "    if age <= 0:\n",
    "        raise ValueError(\"Age cannot be 0 or less.\")\n",
    "    return 10 / age\n",
    "\n",
    "try:\n",
    "    calculate_xfactor(-1)\n",
    "except ValueError as error:\n",
    "    print(error)"
   ]
  },
  {
   "source": [
    "# Cost of Raising Exceptions"
   ],
   "cell_type": "markdown",
   "metadata": {}
  },
  {
   "cell_type": "code",
   "execution_count": 18,
   "metadata": {
    "tags": []
   },
   "outputs": [
    {
     "output_type": "execute_result",
     "data": {
      "text/plain": [
       "0.003191700001480058"
      ]
     },
     "metadata": {},
     "execution_count": 18
    }
   ],
   "source": [
    "from timeit import timeit\n",
    "\n",
    "code1 = '''\n",
    "def calculate_xfactor(age):\n",
    "    if age <= 0:\n",
    "        raise ValueError(\"Age cannot be 0 or less.\")\n",
    "    return 10 / age\n",
    "\n",
    "try:\n",
    "    calculate_xfactor(-1)\n",
    "except ValueError as error:\n",
    "    pass\n",
    "    '''\n",
    "\n",
    "timeit(code1, number=10000)"
   ]
  },
  {
   "cell_type": "code",
   "execution_count": 36,
   "metadata": {},
   "outputs": [
    {
     "output_type": "execute_result",
     "data": {
      "text/plain": [
       "0.0011577999975997955"
      ]
     },
     "metadata": {},
     "execution_count": 36
    }
   ],
   "source": [
    "from timeit import timeit\n",
    "\n",
    "code1 = '''\n",
    "def calculate_xfactor(age):\n",
    "    if age <= 0:\n",
    "        return None\n",
    "    return 10 / age\n",
    "\n",
    "xfactor = calculate_xfactor(-1)\n",
    "\n",
    "if xfactor == None:\n",
    "    pass\n",
    "\n",
    "    '''\n",
    "\n",
    "timeit(code1, number=10000)"
   ]
  }
 ]
}