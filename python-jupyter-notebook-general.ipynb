{
 "metadata": {
  "language_info": {
   "codemirror_mode": {
    "name": "ipython",
    "version": 3
   },
   "file_extension": ".py",
   "mimetype": "text/x-python",
   "name": "python",
   "nbconvert_exporter": "python",
   "pygments_lexer": "ipython3",
   "version": "3.9.0-final"
  },
  "orig_nbformat": 2,
  "kernelspec": {
   "name": "python3",
   "display_name": "Python 3.9.0 64-bit",
   "metadata": {
    "interpreter": {
     "hash": "5122ed099dc5123678099b7db7e8f3488f5555799320b736a8038161c49cbd3b"
    }
   }
  }
 },
 "nbformat": 4,
 "nbformat_minor": 2,
 "cells": [
  {
   "source": [
    "# Welcome! \n",
    "\n",
    "This Jupyter notebook will hold my notes and my practice code as a learn Python. \n",
    "\n",
    "## Why use a Jupyter Notebook?\n",
    "\n",
    "The benefits of using a Jupyter notebook is so that I can write notes and write code within the same notebook and it is interactice instead of using a OneNote page which would not allow me the same felixiblity.\n",
    "\n",
    "This [article](https://towardsdatascience.com/getting-started-with-jupyter-notebooks-in-visual-studio-code-5dcccb3f739b) helped me to learn how to use Markdownn together wthin the notebook.\n",
    "\n",
    "You can also refer to Micrsoft's [documentation](https://code.visualstudio.com/docs/python/jupyter-support) on how to set up your VS Code Jupyter/Python environment which was quite helpful.\n",
    "\n",
    "## Courses that I used to learn Python:\n",
    "\n",
    "- [**Python Tutorial - Python for Beginners** by *Mosh Hamedani*](https://www.youtube.com/watch?v=_uQrJ0TkZlc)\n",
    "- [**Google IT Automation with Python Professional Certificate** by *Grow with Google* on Coursera](https://www.coursera.org/professional-certificates/google-it-automation)\n",
    "- [**Automate the Boring Stuff by Python** by *Al Sweigart*](https://www.udemy.com/course/automate/)\n",
    "\n",
    "**Note**: Mosh Hamedani's Python course can also be found on [Teachable](https://teachable.com/)\n",
    "\n",
    "## Books that I used to learn Python:\n",
    "\n",
    "- [**Automate the Boring Stuff with Python** by *Al Sweigart*](https://automatetheboringstuff.com/)"
   ],
   "cell_type": "markdown",
   "metadata": {}
  },
  {
   "cell_type": "code",
   "execution_count": 1,
   "metadata": {},
   "outputs": [
    {
     "output_type": "stream",
     "name": "stdout",
     "text": [
      "Hello World!\n"
     ]
    }
   ],
   "source": [
    "print(\"Hello World!\")"
   ]
  }
 ]
}