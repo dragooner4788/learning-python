{
 "metadata": {
  "language_info": {
   "codemirror_mode": {
    "name": "ipython",
    "version": 3
   },
   "file_extension": ".py",
   "mimetype": "text/x-python",
   "name": "python",
   "nbconvert_exporter": "python",
   "pygments_lexer": "ipython3",
   "version": "3.9.0-final"
  },
  "orig_nbformat": 2,
  "kernelspec": {
   "name": "python3",
   "display_name": "Python 3.9.0 64-bit",
   "metadata": {
    "interpreter": {
     "hash": "5122ed099dc5123678099b7db7e8f3488f5555799320b736a8038161c49cbd3b"
    }
   }
  }
 },
 "nbformat": 4,
 "nbformat_minor": 2,
 "cells": [
  {
   "source": [
    "# Variables\n",
    "\n",
    "We use variables to store values in the computers memory."
   ],
   "cell_type": "markdown",
   "metadata": {}
  },
  {
   "cell_type": "code",
   "execution_count": 1,
   "metadata": {},
   "outputs": [
    {
     "output_type": "stream",
     "name": "stdout",
     "text": [
      "1000\n"
     ]
    }
   ],
   "source": [
    "students_count = 1000\n",
    "\n",
    "print(students_count)"
   ]
  },
  {
   "source": [
    "## What can we store in a computer's memory?\n",
    "\n",
    "Can be: \n",
    "- Numbers\n",
    "    - Integers\n",
    "    - Floating Point\n",
    "- Booleans\n",
    "    - True\n",
    "    - False\n",
    "- Strings"
   ],
   "cell_type": "markdown",
   "metadata": {}
  },
  {
   "cell_type": "code",
   "execution_count": null,
   "metadata": {},
   "outputs": [],
   "source": [
    "# Numbers: \n",
    "\n",
    "my_int = 1\n",
    "\n",
    "my_float = 1.0\n",
    "\n",
    "# Booleans:\n",
    "\n",
    "my_true = True\n",
    "\n",
    "my_false = False\n",
    "\n",
    "# Strings:\n",
    "\n",
    "my_string = \"This is a string.\""
   ]
  },
  {
   "source": [
    "## Things to keep in mind while coding in Python and in general.\n",
    "\n",
    "### Variable Naming\n",
    "\n",
    "Don't use cryptic variable.\n",
    "\n",
    "Use very descriptive variables and ensure they are meaningful.\n",
    "\n",
    "Use **lower case** letters. \n",
    "\n",
    "USe **underscores** to make varibales more readable.\n",
    "\n",
    "Put a **space** around varibale assignments like so:\n",
    "\n",
    "my_variable = value\n",
    "\n"
   ],
   "cell_type": "markdown",
   "metadata": {}
  },
  {
   "source": [
    "# Strings in Detail\n",
    "\n",
    "Surround your text in quotes. \n",
    "- Double quotes\n",
    "- Single quotes\n",
    "- Triple quotes"
   ],
   "cell_type": "markdown",
   "metadata": {}
  },
  {
   "cell_type": "code",
   "execution_count": 2,
   "metadata": {},
   "outputs": [
    {
     "output_type": "stream",
     "name": "stdout",
     "text": [
      "18\n"
     ]
    }
   ],
   "source": [
    "course = \"Python Programming\"\n",
    "\n",
    "# Use the len() function as an example of built-in functions.\n",
    "# Functions take arguments.\n",
    "\n",
    "len(course)\n",
    "\n",
    "print(len(course))"
   ]
  },
  {
   "cell_type": "code",
   "execution_count": 10,
   "metadata": {},
   "outputs": [
    {
     "output_type": "stream",
     "name": "stdout",
     "text": [
      "P\ng\nPyt\nPython Programming\nPyt\nPython Programming\n"
     ]
    }
   ],
   "source": [
    "course = \"Python Programming\"\n",
    "\n",
    "course[0]\n",
    "print(course[0]) # Get the first letter by index...\n",
    "\n",
    "print(course[-1]) # Gets the last letter in a string...\n",
    "\n",
    "print(course[0:3]) # Start at index 0 and end at idnex 3 but don't include it\n",
    "\n",
    "print(course[0:]) #  Start at inex 0 and go all the way until the end of the string\n",
    "\n",
    "print(course[:3]) # Start at index 0 and go until index 3 but don't include it\n",
    "\n",
    "print(course[:]) # Copies the whole string"
   ]
  },
  {
   "source": [
    "# Escape Sequences\n",
    "\n"
   ],
   "cell_type": "markdown",
   "metadata": {}
  },
  {
   "cell_type": "code",
   "execution_count": 11,
   "metadata": {},
   "outputs": [
    {
     "output_type": "stream",
     "name": "stdout",
     "text": [
      "Python \"Programming\n"
     ]
    }
   ],
   "source": [
    "course = \"Python \\\"Programming\" # Escape Character - user to escape the character after the \\.\n",
    "\n",
    "print(course)"
   ]
  },
  {
   "cell_type": "code",
   "execution_count": 12,
   "metadata": {},
   "outputs": [],
   "source": [
    "# Escape Suqeunces: \\\"\n",
    "# \\'\n",
    "# \\\\\n",
    "# \\n"
   ]
  },
  {
   "cell_type": "code",
   "execution_count": 18,
   "metadata": {},
   "outputs": [
    {
     "output_type": "stream",
     "name": "stdout",
     "text": [
      "Python \"Programming\"\n"
     ]
    }
   ],
   "source": [
    "course = \"Python \\\"Programming\\\"\"\n",
    "print(course)"
   ]
  },
  {
   "cell_type": "code",
   "execution_count": 19,
   "metadata": {},
   "outputs": [
    {
     "output_type": "stream",
     "name": "stdout",
     "text": [
      "Python 'Programming'\n"
     ]
    }
   ],
   "source": [
    "course = \"Python \\'Programming\\'\"\n",
    "print(course)"
   ]
  },
  {
   "cell_type": "code",
   "execution_count": 20,
   "metadata": {},
   "outputs": [
    {
     "output_type": "stream",
     "name": "stdout",
     "text": [
      "Python \\Programming\n"
     ]
    }
   ],
   "source": [
    "course = \"Python \\\\Programming\"\n",
    "print(course)"
   ]
  },
  {
   "cell_type": "code",
   "execution_count": 21,
   "metadata": {},
   "outputs": [
    {
     "output_type": "stream",
     "name": "stdout",
     "text": [
      "Python \nProgramming\n"
     ]
    }
   ],
   "source": [
    "course = \"Python \\nProgramming\"\n",
    "print(course)"
   ]
  },
  {
   "source": [
    "# Formatted Strings"
   ],
   "cell_type": "markdown",
   "metadata": {}
  },
  {
   "cell_type": "code",
   "execution_count": 23,
   "metadata": {},
   "outputs": [
    {
     "output_type": "stream",
     "name": "stdout",
     "text": [
      "Guy Friley\n"
     ]
    }
   ],
   "source": [
    "# Using cocatenation to form strings...\n",
    "\n",
    "first_name = \"Guy\"\n",
    "\n",
    "last_name = \"Friley\"\n",
    "\n",
    "full_name = first_name + \" \" + last_name\n",
    "\n",
    "print(full_name)"
   ]
  },
  {
   "cell_type": "code",
   "execution_count": 25,
   "metadata": {},
   "outputs": [
    {
     "output_type": "stream",
     "name": "stdout",
     "text": [
      "Guy Friley\n"
     ]
    }
   ],
   "source": [
    "# Using formatted strings...course\n",
    "\n",
    "first_name = \"Guy\"\n",
    "\n",
    "last_name = \"Friley\"\n",
    "\n",
    "full_name = f\"{first_name} {last_name}\"\n",
    "\n",
    "print(full_name)"
   ]
  },
  {
   "cell_type": "code",
   "execution_count": 27,
   "metadata": {},
   "outputs": [
    {
     "output_type": "stream",
     "name": "stdout",
     "text": [
      "3 6\n"
     ]
    }
   ],
   "source": [
    "# You can use other code inside of the {} and it will expand at run time with the values.\n",
    "\n",
    "first_name = \"Guy\"\n",
    "\n",
    "last_name = \"Friley\"\n",
    "\n",
    "full_name = f\"{len(first_name)} {len(last_name)}\"\n",
    "\n",
    "print(full_name)"
   ]
  },
  {
   "source": [
    "# String Methods"
   ],
   "cell_type": "markdown",
   "metadata": {}
  },
  {
   "cell_type": "code",
   "execution_count": 43,
   "metadata": {},
   "outputs": [
    {
     "output_type": "stream",
     "name": "stdout",
     "text": [
      "     PYTHON PROGRAMMING     \n     python programming     \n     PYTHON PROGRAMMING     \n     python programming     \n     Python Programming     \npython programming\npython programming     \n     python programming\n12\n     jython jrogramming     \nTrue\nTrue\n"
     ]
    }
   ],
   "source": [
    "course = \"     python programming     \"\n",
    "\n",
    "# Functions for Strings\n",
    "\n",
    "# The variable 'course' is an object in python and we can use dot notation to see what we can do to it, which are called methods.\n",
    "\n",
    "print(course.upper()) # Returns a new string/value \n",
    "\n",
    "print(course)\n",
    "\n",
    "course_capital = course.upper()\n",
    "\n",
    "print(course_capital)\n",
    "\n",
    "course_lower = course.lower()\n",
    "\n",
    "print(course_lower)\n",
    "\n",
    "course_title = course.title\n",
    "\n",
    "print(course_title())\n",
    "\n",
    "print(course.strip()) # string spaces\n",
    "\n",
    "print(course.lstrip()) # strips spaces to the left of a stirng\n",
    "\n",
    "print(course.rstrip()) # strips spaces to the right of a string\n",
    "\n",
    "print(course.find(\"pro\")) # find a substring\n",
    "\n",
    "print(course.replace(\"p\",\"j\")) # replace a character\n",
    "\n",
    "print(\"pro\" in course)\n",
    "\n",
    "print(\"swift\" not in course)"
   ]
  },
  {
   "source": [
    "# Number Methods"
   ],
   "cell_type": "markdown",
   "metadata": {}
  },
  {
   "cell_type": "code",
   "execution_count": 45,
   "metadata": {},
   "outputs": [
    {
     "output_type": "stream",
     "name": "stdout",
     "text": [
      "13\n7\n30\n3.3333333333333335\n3\n1\n1000\n"
     ]
    }
   ],
   "source": [
    "# Types of Numbers\n",
    "\n",
    "my_int = 1\n",
    "\n",
    "my_float = 1.1 \n",
    "\n",
    "my_complex_number = 1 + 2j # a + bi \n",
    "\n",
    "# Types of Operators\n",
    "\n",
    "print(10 + 3)\n",
    "\n",
    "print(10 - 3)\n",
    "\n",
    "print(10 * 3)\n",
    "\n",
    "print(10 / 3)\n",
    "\n",
    "print(10 // 3)\n",
    "\n",
    "print(10 % 3)\n",
    "\n",
    "print(10 ** 3)"
   ]
  },
  {
   "cell_type": "code",
   "execution_count": 47,
   "metadata": {},
   "outputs": [
    {
     "output_type": "stream",
     "name": "stdout",
     "text": [
      "16\n"
     ]
    }
   ],
   "source": [
    "x = 10\n",
    "\n",
    "# increment by 3\n",
    "\n",
    "x = x + 3\n",
    "\n",
    "x += 3 # this is the same. \n",
    "\n",
    "print (x)"
   ]
  },
  {
   "source": [
    "# Working with Numbers\n",
    "\n"
   ],
   "cell_type": "markdown",
   "metadata": {}
  },
  {
   "cell_type": "code",
   "execution_count": 48,
   "metadata": {},
   "outputs": [
    {
     "output_type": "stream",
     "name": "stdout",
     "text": [
      "3\n5\n"
     ]
    }
   ],
   "source": [
    "# Round\n",
    "\n",
    "print(round(2.9))\n",
    "\n",
    "# Absolute Value\n",
    "\n",
    "print(abs(-5))"
   ]
  },
  {
   "cell_type": "code",
   "execution_count": 49,
   "metadata": {},
   "outputs": [
    {
     "output_type": "stream",
     "name": "stdout",
     "text": [
      "3\n"
     ]
    }
   ],
   "source": [
    "import math\n",
    "\n",
    "print(math.ceil(2.2))"
   ]
  },
  {
   "source": [
    "## Check out the Math Module\n",
    "\n",
    "Google the Python 3 Math Module\n",
    "\n",
    "You can check it out [here](https://docs.python.org/3/library/math.html)\n"
   ],
   "cell_type": "markdown",
   "metadata": {}
  },
  {
   "source": [
    "# Type Conversion"
   ],
   "cell_type": "markdown",
   "metadata": {}
  },
  {
   "cell_type": "code",
   "execution_count": 7,
   "metadata": {},
   "outputs": [
    {
     "output_type": "stream",
     "name": "stdout",
     "text": [
      "<class 'str'>\n3\n"
     ]
    }
   ],
   "source": [
    "# Use input() to get input from user.\n",
    "\n",
    "x = input(\"x: \") # Running this gets an error -- you did not convert the type\n",
    "\n",
    "print(type(x))\n",
    "\n",
    "print(x)"
   ]
  },
  {
   "cell_type": "code",
   "execution_count": 8,
   "metadata": {},
   "outputs": [
    {
     "output_type": "stream",
     "name": "stdout",
     "text": [
      "x: 1, y: 2\n"
     ]
    }
   ],
   "source": [
    "# Converting the type of the input...\n",
    "\n",
    "x = int(input(\"x: \"))\n",
    "\n",
    "y = x + 1\n",
    "\n",
    "print(f\"x: {x}, y: {y}\")"
   ]
  },
  {
   "source": [
    "## Concerning Booleans"
   ],
   "cell_type": "markdown",
   "metadata": {}
  },
  {
   "cell_type": "code",
   "execution_count": null,
   "metadata": {},
   "outputs": [],
   "source": [
    "# Falsy\n",
    "\n",
    "# \"\"\n",
    "\n",
    "# 0 \n",
    "\n",
    "# None "
   ]
  },
  {
   "cell_type": "code",
   "execution_count": 9,
   "metadata": {},
   "outputs": [
    {
     "output_type": "execute_result",
     "data": {
      "text/plain": [
       "False"
      ]
     },
     "metadata": {},
     "execution_count": 9
    }
   ],
   "source": [
    "bool(0)"
   ]
  },
  {
   "cell_type": "code",
   "execution_count": 10,
   "metadata": {},
   "outputs": [
    {
     "output_type": "execute_result",
     "data": {
      "text/plain": [
       "False"
      ]
     },
     "metadata": {},
     "execution_count": 10
    }
   ],
   "source": [
    "bool(\"\")"
   ]
  },
  {
   "cell_type": "code",
   "execution_count": 11,
   "metadata": {},
   "outputs": [
    {
     "output_type": "execute_result",
     "data": {
      "text/plain": [
       "False"
      ]
     },
     "metadata": {},
     "execution_count": 11
    }
   ],
   "source": [
    "bool(None)"
   ]
  },
  {
   "cell_type": "code",
   "execution_count": null,
   "metadata": {},
   "outputs": [],
   "source": [
    "# Truthy \n",
    "\n",
    "# Anything is not the values above..."
   ]
  }
 ]
}