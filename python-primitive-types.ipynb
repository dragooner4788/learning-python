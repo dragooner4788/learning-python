{
 "metadata": {
  "language_info": {
   "codemirror_mode": {
    "name": "ipython",
    "version": 3
   },
   "file_extension": ".py",
   "mimetype": "text/x-python",
   "name": "python",
   "nbconvert_exporter": "python",
   "pygments_lexer": "ipython3",
   "version": "3.9.2-final"
  },
  "orig_nbformat": 2,
  "kernelspec": {
   "name": "python3",
   "display_name": "Python 3.9.2 64-bit",
   "metadata": {
    "interpreter": {
     "hash": "5122ed099dc5123678099b7db7e8f3488f5555799320b736a8038161c49cbd3b"
    }
   }
  }
 },
 "nbformat": 4,
 "nbformat_minor": 2,
 "cells": [
  {
   "source": [
    "# Variables\n",
    "\n",
    "We use variables to store values in the computers memory.\n",
    "\n",
    "You can think of variables as boxes which hold a value. This isn't necessarily an accuate representation though.\n",
    "\n",
    "A better way to think about variables is that they are labels which reference a value. \n",
    "\n",
    "- Every variable is connected to a value\n",
    "    - my_variable = 0\n",
    "    - my_variable = ''\n",
    "    - my_variable = Null\n",
    "    - my_variable = \"Hello World!\"\n",
    "\n",
    "Python will always keep track of a variables current value. \n",
    "\n",
    "For example:\n",
    "\n",
    "```python3\n",
    "\n",
    "message = \"Apples\"\n",
    "print(message)\n",
    "\n",
    "message = \"Bananas\"\n",
    "print(message)\n",
    "```\n",
    "\n",
    "This should evaluate to:\n",
    "\n",
    "```python3\n",
    "\n",
    "\"Apples\"\n",
    "\n",
    "\"Bananas\"\n",
    "```\n",
    "\n",
    "You can see in the above example that Python will always keep track of the current value that a vairable is holding.\n",
    "\n",
    "\n",
    "In the book, Eric talks about bug hunting typos. I can relate, I know that a mispelled variable or a period or semicolon can wreak havoc on a program and sometimes it can take hours for you to figure out where the mispelled item is.\n",
    "\n",
    "## Naming and Using Variables\n",
    "\n",
    "- Can contain:\n",
    "    - Letters\n",
    "    - Numbers\n",
    "        - Variable cannot start with a number.\n",
    "    - Underscores\n",
    "\n",
    "A variable cannot also contain spaces, we use Underscores as spaces when creating variables.\n",
    "\n",
    "Valid:\n",
    "\n",
    "```python3\n",
    "\n",
    "person_1\n",
    "```\n",
    "\n",
    "Invalid:\n",
    "\n",
    "```python3\n",
    "\n",
    "1_person\n",
    "```\n",
    "\n",
    "- Do not use Python **keywords**:\n",
    "    - **print** is a keyword\n",
    "    - **return** is a keyword\n",
    "\n",
    "- Ensure your vairables are descriptive:\n",
    "    - ```number_of_dogs``` is better than ```d```\n",
    "\n",
    "    - ```first_name``` is better than ```fn```\n",
    "\n",
    "When you **cannot** use descriptive naming, ensure that you use comments so people are aware of what your code is doing. \n",
    "\n",
    "Comment:\n",
    "\n",
    "```\n",
    "# This is a comment\n",
    "my_variable = some value\n",
    "```\n",
    "\n",
    "- Ensure that your variables are **lowercase**\n",
    "    - Class names use Title casing\n",
    "    - Constants use Uppercase\n",
    "\n",
    "*Traceback Error*: The Python interpreter will try and figure out where the error is. So if you mispell a variable, you may see where you messed up during the **traceback error**.\n",
    "\n",
    "## Things to keep in mind while coding in Python and in general.\n",
    "\n",
    "### Reiterating Variable Naming\n",
    "\n",
    "Don't use cryptic variable.\n",
    "\n",
    "Use very descriptive variables and ensure they are meaningful.\n",
    "\n",
    "Use **lower case** letters. \n",
    "\n",
    "USe **underscores** to make varibales more readable.\n",
    "\n",
    "Put a **space** around varibale assignments like so:\n",
    "\n",
    "my_variable = value\n",
    "\n",
    "\n",
    "## Syntax Highlighting\n",
    "\n",
    "**Syntax Highlighting**: Your code editor will highlight different parts of your program depending on whether it is text or it is code.\n",
    "\n",
    "It will see something like:\n",
    "\n",
    "```python3\n",
    "print()\n",
    "```\n",
    "\n",
    "It will see the above piece of code as a function and highlight it a certain way.\n",
    "\n",
    "\n",
    "### Citations and References\n",
    "\n",
    "Eric Matthes, Python Crash Course (San Francisco: No Starch Press, 2019), 17\n",
    "\n",
    "\"Style Guide for Python Code\", PEPS, Python, last modified August 1, 2013, https://www.python.org/dev/peps/pep-0008/#naming-conventions\n",
    "\n",
    "\"Variables in Python\", Learn Python, Real Python, last modified: unknown, https://realpython.com/python-variables/"
   ],
   "cell_type": "markdown",
   "metadata": {}
  },
  {
   "source": [
    "## What can we store in a computer's memory?\n",
    "\n",
    "Can be: \n",
    "- Numbers\n",
    "    - Integers\n",
    "    - Floating Point\n",
    "- Booleans\n",
    "    - True\n",
    "    - False\n",
    "- Strings"
   ],
   "cell_type": "markdown",
   "metadata": {}
  },
  {
   "cell_type": "code",
   "execution_count": 1,
   "metadata": {},
   "outputs": [
    {
     "output_type": "stream",
     "name": "stdout",
     "text": [
      "1000\n"
     ]
    }
   ],
   "source": [
    "students_count = 1000\n",
    "\n",
    "print(students_count)"
   ]
  },
  {
   "cell_type": "code",
   "execution_count": 2,
   "metadata": {},
   "outputs": [
    {
     "output_type": "stream",
     "name": "stdout",
     "text": [
      "Hello World!\n"
     ]
    }
   ],
   "source": [
    "message = \"Hello World!\"\n",
    "print(message)"
   ]
  },
  {
   "cell_type": "code",
   "execution_count": 3,
   "metadata": {},
   "outputs": [
    {
     "output_type": "stream",
     "name": "stdout",
     "text": [
      "Hello World!\nHello Python Crash Course Students!\n"
     ]
    }
   ],
   "source": [
    "message = \"Hello World!\"\n",
    "print(\n",
    "    message\n",
    ")\n",
    "\n",
    "message = \"Hello Python Crash Course Students!\" # changing the value of a declared variable.\n",
    "print(\n",
    "    message\n",
    ")"
   ]
  },
  {
   "source": [
    "# Data Type: Strings\n",
    "\n",
    "**String**: a series of characters. Anything inside quotes either **double** or **single** is a string."
   ],
   "cell_type": "markdown",
   "metadata": {}
  },
  {
   "cell_type": "code",
   "execution_count": null,
   "metadata": {},
   "outputs": [],
   "source": [
    "string_1 = 'This is single quotes'\n",
    "\n",
    "string_2 = \"This is double quotes\""
   ]
  },
  {
   "cell_type": "code",
   "execution_count": 4,
   "metadata": {},
   "outputs": [
    {
     "output_type": "stream",
     "name": "stdout",
     "text": [
      "We can use \"double quotes\" inside of our single quotes.\n"
     ]
    }
   ],
   "source": [
    "my_message = 'We can use \"double quotes\" inside of our single quotes.'\n",
    "print(my_message)"
   ]
  },
  {
   "cell_type": "code",
   "execution_count": 5,
   "metadata": {},
   "outputs": [
    {
     "output_type": "stream",
     "name": "stdout",
     "text": [
      "One of Python's strengths is it's large community.\n"
     ]
    }
   ],
   "source": [
    "my_message = \"One of Python's strengths is it's large community.\"\n",
    "print(\n",
    "    my_message\n",
    ")"
   ]
  },
  {
   "cell_type": "code",
   "execution_count": 8,
   "metadata": {},
   "outputs": [
    {
     "output_type": "stream",
     "name": "stdout",
     "text": [
      "john smith\nJohn Smith\n"
     ]
    }
   ],
   "source": [
    "# Title Case\n",
    "\n",
    "name = \"john smith\"\n",
    "print(\n",
    "    name\n",
    ")\n",
    "name = name.title()\n",
    "print(\n",
    "    name\n",
    ")"
   ]
  },
  {
   "cell_type": "code",
   "execution_count": 9,
   "metadata": {},
   "outputs": [
    {
     "output_type": "stream",
     "name": "stdout",
     "text": [
      "i love python\nI LOVE PYTHON\n"
     ]
    }
   ],
   "source": [
    "# Upper Case\n",
    "\n",
    "title = \"i love python\"\n",
    "print(\n",
    "    title\n",
    ")\n",
    "title = title.upper()\n",
    "print(\n",
    "    title\n",
    ")"
   ]
  },
  {
   "cell_type": "code",
   "execution_count": 10,
   "metadata": {},
   "outputs": [
    {
     "output_type": "stream",
     "name": "stdout",
     "text": [
      "I LOVE PYTHON\ni love python\n"
     ]
    }
   ],
   "source": [
    "# Lower Case\n",
    "\n",
    "message = \"I LOVE PYTHON\"\n",
    "print(\n",
    "    message\n",
    ")\n",
    "message = message.lower()\n",
    "print(\n",
    "    message\n",
    ")"
   ]
  },
  {
   "source": [
    "```lowercase()``` is nice to have because you won't always trust the capitalization that a user provides. So you can turn a whole string into lowercase and then covert it to the case that you need.\n",
    "\n",
    "# Using Variables in Strings"
   ],
   "cell_type": "markdown",
   "metadata": {}
  },
  {
   "cell_type": "code",
   "execution_count": 11,
   "metadata": {},
   "outputs": [
    {
     "output_type": "stream",
     "name": "stdout",
     "text": [
      "Hello, my name is John Smith.\n"
     ]
    }
   ],
   "source": [
    "first_name = \"John\"\n",
    "last_name = \"Smith\"\n",
    "\n",
    "message = f\"Hello, my name is {first_name} {last_name}.\" # String interpolation\n",
    "\n",
    "print(\n",
    "    message\n",
    ")"
   ]
  },
  {
   "cell_type": "code",
   "execution_count": 14,
   "metadata": {},
   "outputs": [
    {
     "output_type": "stream",
     "name": "stdout",
     "text": [
      "Hello, John Smith\n"
     ]
    }
   ],
   "source": [
    "full_name = \"john smith\"\n",
    "\n",
    "full_name = full_name.title() # Using title case to show off what you can do with it\n",
    "\n",
    "message = f\"Hello, {full_name}\"\n",
    "\n",
    "print(\n",
    "    message\n",
    ")"
   ]
  },
  {
   "source": [
    "The ```f``` stands for *format* and it's used for *string interpolation* which essentially means that we expand the variables within the string to show their actual value.\n",
    "\n",
    "In Python they are known as ```f-strings```. Python will replace the vairables with the values of the variable."
   ],
   "cell_type": "markdown",
   "metadata": {}
  },
  {
   "cell_type": "code",
   "execution_count": 15,
   "metadata": {},
   "outputs": [
    {
     "output_type": "stream",
     "name": "stdout",
     "text": [
      "Hello, John Smith\n"
     ]
    }
   ],
   "source": [
    "# Before Python 3.6\n",
    "\n",
    "first_name = \"John\"\n",
    "last_name = \"Smith\"\n",
    "\n",
    "message = \"Hello, {} {}\".format(first_name, last_name) # You pass the variables you want as arugments into the .format() method. \n",
    "\n",
    "# To me this is more cumbersome because if you wa1nted to use the same variable multiple times you'd have to remember where to pass them as arguments. \n",
    "\n",
    "print(\n",
    "    message\n",
    ")"
   ]
  },
  {
   "source": [
    "# White Space\n",
    "\n",
    "*Whitespace*: refers to any *non-printing* character used in a string."
   ],
   "cell_type": "markdown",
   "metadata": {}
  },
  {
   "cell_type": "code",
   "execution_count": 16,
   "metadata": {},
   "outputs": [
    {
     "output_type": "stream",
     "name": "stdout",
     "text": [
      "Python\n\tPython\n"
     ]
    }
   ],
   "source": [
    "# White Space in strings\n",
    "\n",
    "message = \"Python\"\n",
    "print(\n",
    "    message\n",
    ")\n",
    "\n",
    "message = \"\\tPython\"\n",
    "print(\n",
    "    message\n",
    ")"
   ]
  },
  {
   "cell_type": "code",
   "execution_count": 17,
   "metadata": {},
   "outputs": [
    {
     "output_type": "stream",
     "name": "stdout",
     "text": [
      "Python\nGo\nRust\nPowerShell\n"
     ]
    }
   ],
   "source": [
    "# Using NewLine in strings\n",
    "\n",
    "# Each string gets it's own line...\n",
    "programming_languages = \"Python\\nGo\\nRust\\nPowerShell\"\n",
    "\n",
    "print(\n",
    "    programming_languages\n",
    ")"
   ]
  },
  {
   "cell_type": "code",
   "execution_count": 18,
   "metadata": {},
   "outputs": [
    {
     "output_type": "stream",
     "name": "stdout",
     "text": [
      "Python\n\tGo\n\tRust\n\tPowerShell\n"
     ]
    }
   ],
   "source": [
    "# Combining whitespace characters\n",
    "\n",
    "#Tabs + NewLine\n",
    "programming_languages = \"Python\\n\\tGo\\n\\tRust\\n\\tPowerShell\"\n",
    "\n",
    "print(\n",
    "    programming_languages\n",
    ")"
   ]
  },
  {
   "cell_type": "code",
   "execution_count": null,
   "metadata": {},
   "outputs": [],
   "source": [
    "# Numbers: \n",
    "\n",
    "my_int = 1\n",
    "\n",
    "my_float = 1.0\n",
    "\n",
    "# Booleans:\n",
    "\n",
    "my_true = True\n",
    "\n",
    "my_false = False\n",
    "\n",
    "# Strings:\n",
    "\n",
    "my_string = \"This is a string.\""
   ]
  },
  {
   "source": [
    "\n",
    "\n"
   ],
   "cell_type": "markdown",
   "metadata": {}
  },
  {
   "source": [
    "# Strings in Detail\n",
    "\n",
    "Surround your text in quotes. \n",
    "- Double quotes\n",
    "- Single quotes\n",
    "- Triple quotes"
   ],
   "cell_type": "markdown",
   "metadata": {}
  },
  {
   "cell_type": "code",
   "execution_count": 2,
   "metadata": {},
   "outputs": [
    {
     "output_type": "stream",
     "name": "stdout",
     "text": [
      "18\n"
     ]
    }
   ],
   "source": [
    "course = \"Python Programming\"\n",
    "\n",
    "# Use the len() function as an example of built-in functions.\n",
    "# Functions take arguments.\n",
    "\n",
    "len(course)\n",
    "\n",
    "print(len(course))"
   ]
  },
  {
   "cell_type": "code",
   "execution_count": 10,
   "metadata": {},
   "outputs": [
    {
     "output_type": "stream",
     "name": "stdout",
     "text": [
      "P\ng\nPyt\nPython Programming\nPyt\nPython Programming\n"
     ]
    }
   ],
   "source": [
    "course = \"Python Programming\"\n",
    "\n",
    "course[0]\n",
    "print(course[0]) # Get the first letter by index...\n",
    "\n",
    "print(course[-1]) # Gets the last letter in a string...\n",
    "\n",
    "print(course[0:3]) # Start at index 0 and end at idnex 3 but don't include it\n",
    "\n",
    "print(course[0:]) #  Start at inex 0 and go all the way until the end of the string\n",
    "\n",
    "print(course[:3]) # Start at index 0 and go until index 3 but don't include it\n",
    "\n",
    "print(course[:]) # Copies the whole string"
   ]
  },
  {
   "source": [
    "# Escape Sequences\n",
    "\n"
   ],
   "cell_type": "markdown",
   "metadata": {}
  },
  {
   "cell_type": "code",
   "execution_count": 11,
   "metadata": {},
   "outputs": [
    {
     "output_type": "stream",
     "name": "stdout",
     "text": [
      "Python \"Programming\n"
     ]
    }
   ],
   "source": [
    "course = \"Python \\\"Programming\" # Escape Character - user to escape the character after the \\.\n",
    "\n",
    "print(course)"
   ]
  },
  {
   "cell_type": "code",
   "execution_count": 12,
   "metadata": {},
   "outputs": [],
   "source": [
    "# Escape Suqeunces: \\\"\n",
    "# \\'\n",
    "# \\\\\n",
    "# \\n\n",
    "# \\t"
   ]
  },
  {
   "cell_type": "code",
   "execution_count": 18,
   "metadata": {},
   "outputs": [
    {
     "output_type": "stream",
     "name": "stdout",
     "text": [
      "Python \"Programming\"\n"
     ]
    }
   ],
   "source": [
    "course = \"Python \\\"Programming\\\"\"\n",
    "print(course)"
   ]
  },
  {
   "cell_type": "code",
   "execution_count": 19,
   "metadata": {},
   "outputs": [
    {
     "output_type": "stream",
     "name": "stdout",
     "text": [
      "Python 'Programming'\n"
     ]
    }
   ],
   "source": [
    "course = \"Python \\'Programming\\'\"\n",
    "print(course)"
   ]
  },
  {
   "cell_type": "code",
   "execution_count": 20,
   "metadata": {},
   "outputs": [
    {
     "output_type": "stream",
     "name": "stdout",
     "text": [
      "Python \\Programming\n"
     ]
    }
   ],
   "source": [
    "course = \"Python \\\\Programming\"\n",
    "print(course)"
   ]
  },
  {
   "cell_type": "code",
   "execution_count": 21,
   "metadata": {},
   "outputs": [
    {
     "output_type": "stream",
     "name": "stdout",
     "text": [
      "Python \nProgramming\n"
     ]
    }
   ],
   "source": [
    "course = \"Python \\nProgramming\"\n",
    "print(course)"
   ]
  },
  {
   "source": [
    "# Formatted Strings"
   ],
   "cell_type": "markdown",
   "metadata": {}
  },
  {
   "cell_type": "code",
   "execution_count": 23,
   "metadata": {},
   "outputs": [
    {
     "output_type": "stream",
     "name": "stdout",
     "text": [
      "Guy Friley\n"
     ]
    }
   ],
   "source": [
    "# Using cocatenation to form strings...\n",
    "\n",
    "first_name = \"Guy\"\n",
    "\n",
    "last_name = \"Friley\"\n",
    "\n",
    "full_name = first_name + \" \" + last_name\n",
    "\n",
    "print(full_name)"
   ]
  },
  {
   "cell_type": "code",
   "execution_count": 25,
   "metadata": {},
   "outputs": [
    {
     "output_type": "stream",
     "name": "stdout",
     "text": [
      "Guy Friley\n"
     ]
    }
   ],
   "source": [
    "# Using formatted strings...course\n",
    "\n",
    "first_name = \"Guy\"\n",
    "\n",
    "last_name = \"Friley\"\n",
    "\n",
    "full_name = f\"{first_name} {last_name}\"\n",
    "\n",
    "print(full_name)"
   ]
  },
  {
   "cell_type": "code",
   "execution_count": 27,
   "metadata": {},
   "outputs": [
    {
     "output_type": "stream",
     "name": "stdout",
     "text": [
      "3 6\n"
     ]
    }
   ],
   "source": [
    "# You can use other code inside of the {} and it will expand at run time with the values.\n",
    "\n",
    "first_name = \"Guy\"\n",
    "\n",
    "last_name = \"Friley\"\n",
    "\n",
    "full_name = f\"{len(first_name)} {len(last_name)}\"\n",
    "\n",
    "print(full_name)"
   ]
  },
  {
   "source": [
    "# String Methods"
   ],
   "cell_type": "markdown",
   "metadata": {}
  },
  {
   "cell_type": "code",
   "execution_count": 43,
   "metadata": {},
   "outputs": [
    {
     "output_type": "stream",
     "name": "stdout",
     "text": [
      "     PYTHON PROGRAMMING     \n     python programming     \n     PYTHON PROGRAMMING     \n     python programming     \n     Python Programming     \npython programming\npython programming     \n     python programming\n12\n     jython jrogramming     \nTrue\nTrue\n"
     ]
    }
   ],
   "source": [
    "course = \"     python programming     \"\n",
    "\n",
    "# Functions for Strings\n",
    "\n",
    "# The variable 'course' is an object in python and we can use dot notation to see what we can do to it, which are called methods.\n",
    "\n",
    "print(course.upper()) # Returns a new string/value \n",
    "\n",
    "print(course)\n",
    "\n",
    "course_capital = course.upper()\n",
    "\n",
    "print(course_capital)\n",
    "\n",
    "course_lower = course.lower()\n",
    "\n",
    "print(course_lower)\n",
    "\n",
    "course_title = course.title\n",
    "\n",
    "print(course_title())\n",
    "\n",
    "print(course.strip()) # string spaces\n",
    "\n",
    "print(course.lstrip()) # strips spaces to the left of a stirng\n",
    "\n",
    "print(course.rstrip()) # strips spaces to the right of a string\n",
    "\n",
    "print(course.find(\"pro\")) # find a substring\n",
    "\n",
    "print(course.replace(\"p\",\"j\")) # replace a character\n",
    "\n",
    "print(\"pro\" in course)\n",
    "\n",
    "print(\"swift\" not in course)"
   ]
  },
  {
   "source": [
    "## Stripping Methods"
   ],
   "cell_type": "markdown",
   "metadata": {}
  },
  {
   "cell_type": "code",
   "execution_count": 22,
   "metadata": {},
   "outputs": [
    {
     "output_type": "stream",
     "name": "stdout",
     "text": [
      "'Python     '\n'Python     '\n"
     ]
    }
   ],
   "source": [
    "# Right Strip\n",
    "\n",
    "# 4 spaces to the right\n",
    "favorite_language = \"Python     \"\n",
    "print(\n",
    "    favorite_language\n",
    ")\n",
    "\n",
    "# stripping space to the right\n",
    "favorite_language = favorite_language.rstrip()\n",
    "print(\n",
    "    favorite_language\n",
    ")"
   ]
  },
  {
   "source": [
    "# Number Methods"
   ],
   "cell_type": "markdown",
   "metadata": {}
  },
  {
   "cell_type": "code",
   "execution_count": 45,
   "metadata": {},
   "outputs": [
    {
     "output_type": "stream",
     "name": "stdout",
     "text": [
      "13\n7\n30\n3.3333333333333335\n3\n1\n1000\n"
     ]
    }
   ],
   "source": [
    "# Types of Numbers\n",
    "\n",
    "my_int = 1\n",
    "\n",
    "my_float = 1.1 \n",
    "\n",
    "my_complex_number = 1 + 2j # a + bi \n",
    "\n",
    "# Types of Operators\n",
    "\n",
    "print(10 + 3)\n",
    "\n",
    "print(10 - 3)\n",
    "\n",
    "print(10 * 3)\n",
    "\n",
    "print(10 / 3)\n",
    "\n",
    "print(10 // 3)\n",
    "\n",
    "print(10 % 3)\n",
    "\n",
    "print(10 ** 3)"
   ]
  },
  {
   "cell_type": "code",
   "execution_count": 47,
   "metadata": {},
   "outputs": [
    {
     "output_type": "stream",
     "name": "stdout",
     "text": [
      "16\n"
     ]
    }
   ],
   "source": [
    "x = 10\n",
    "\n",
    "# increment by 3\n",
    "\n",
    "x = x + 3\n",
    "\n",
    "x += 3 # this is the same. \n",
    "\n",
    "print (x)"
   ]
  },
  {
   "source": [
    "# Working with Numbers\n",
    "\n"
   ],
   "cell_type": "markdown",
   "metadata": {}
  },
  {
   "cell_type": "code",
   "execution_count": 48,
   "metadata": {},
   "outputs": [
    {
     "output_type": "stream",
     "name": "stdout",
     "text": [
      "3\n5\n"
     ]
    }
   ],
   "source": [
    "# Round\n",
    "\n",
    "print(round(2.9))\n",
    "\n",
    "# Absolute Value\n",
    "\n",
    "print(abs(-5))"
   ]
  },
  {
   "cell_type": "code",
   "execution_count": 49,
   "metadata": {},
   "outputs": [
    {
     "output_type": "stream",
     "name": "stdout",
     "text": [
      "3\n"
     ]
    }
   ],
   "source": [
    "import math\n",
    "\n",
    "print(math.ceil(2.2))"
   ]
  },
  {
   "source": [
    "## Check out the Math Module\n",
    "\n",
    "Google the Python 3 Math Module\n",
    "\n",
    "You can check it out [here](https://docs.python.org/3/library/math.html)\n"
   ],
   "cell_type": "markdown",
   "metadata": {}
  },
  {
   "source": [
    "# Type Conversion"
   ],
   "cell_type": "markdown",
   "metadata": {}
  },
  {
   "cell_type": "code",
   "execution_count": 7,
   "metadata": {},
   "outputs": [
    {
     "output_type": "stream",
     "name": "stdout",
     "text": [
      "<class 'str'>\n3\n"
     ]
    }
   ],
   "source": [
    "# Use input() to get input from user.\n",
    "\n",
    "x = input(\"x: \") # Running this gets an error -- you did not convert the type\n",
    "\n",
    "print(type(x))\n",
    "\n",
    "print(x)"
   ]
  },
  {
   "cell_type": "code",
   "execution_count": 8,
   "metadata": {},
   "outputs": [
    {
     "output_type": "stream",
     "name": "stdout",
     "text": [
      "x: 1, y: 2\n"
     ]
    }
   ],
   "source": [
    "# Converting the type of the input...\n",
    "\n",
    "x = int(input(\"x: \"))\n",
    "\n",
    "y = x + 1\n",
    "\n",
    "print(f\"x: {x}, y: {y}\")"
   ]
  },
  {
   "source": [
    "## Concerning Booleans"
   ],
   "cell_type": "markdown",
   "metadata": {}
  },
  {
   "cell_type": "code",
   "execution_count": null,
   "metadata": {},
   "outputs": [],
   "source": [
    "# Falsy\n",
    "\n",
    "# \"\"\n",
    "\n",
    "# 0 \n",
    "\n",
    "# None "
   ]
  },
  {
   "cell_type": "code",
   "execution_count": 9,
   "metadata": {},
   "outputs": [
    {
     "output_type": "execute_result",
     "data": {
      "text/plain": [
       "False"
      ]
     },
     "metadata": {},
     "execution_count": 9
    }
   ],
   "source": [
    "bool(0)"
   ]
  },
  {
   "cell_type": "code",
   "execution_count": 10,
   "metadata": {},
   "outputs": [
    {
     "output_type": "execute_result",
     "data": {
      "text/plain": [
       "False"
      ]
     },
     "metadata": {},
     "execution_count": 10
    }
   ],
   "source": [
    "bool(\"\")"
   ]
  },
  {
   "cell_type": "code",
   "execution_count": 11,
   "metadata": {},
   "outputs": [
    {
     "output_type": "execute_result",
     "data": {
      "text/plain": [
       "False"
      ]
     },
     "metadata": {},
     "execution_count": 11
    }
   ],
   "source": [
    "bool(None)"
   ]
  },
  {
   "cell_type": "code",
   "execution_count": null,
   "metadata": {},
   "outputs": [],
   "source": [
    "# Truthy \n",
    "\n",
    "# Anything is not the values above..."
   ]
  }
 ]
}