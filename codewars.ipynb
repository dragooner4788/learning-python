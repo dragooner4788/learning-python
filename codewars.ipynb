{
 "metadata": {
  "language_info": {
   "codemirror_mode": {
    "name": "ipython",
    "version": 3
   },
   "file_extension": ".py",
   "mimetype": "text/x-python",
   "name": "python",
   "nbconvert_exporter": "python",
   "pygments_lexer": "ipython3",
   "version": "3.9.0-final"
  },
  "orig_nbformat": 2,
  "kernelspec": {
   "name": "python3",
   "display_name": "Python 3.9.0 64-bit",
   "metadata": {
    "interpreter": {
     "hash": "5122ed099dc5123678099b7db7e8f3488f5555799320b736a8038161c49cbd3b"
    }
   }
  }
 },
 "nbformat": 4,
 "nbformat_minor": 2,
 "cells": [
  {
   "source": [
    "# The Feast of Many Beasts\n",
    "\n",
    "## Instructions\n",
    "\n",
    "All of the animals are having a feast! Each animal is bringing one dish. There is just one rule: the dish must start and end with the same letters as the animal's name. For example, the great blue heron is bringing garlic naan and the chickadee is bringing chocolate cake.\n",
    "\n",
    "Write a function feast that takes the animal's name and dish as arguments and returns true or false to indicate whether the beast is allowed to bring the dish to the feast.\n",
    "\n",
    "Assume that beast and dish are always lowercase strings, and that each has at least two letters. beast and dish may contain hyphens and spaces, but these will not appear at the beginning or end of the string. They will not contain numerals."
   ],
   "cell_type": "markdown",
   "metadata": {}
  },
  {
   "cell_type": "code",
   "execution_count": null,
   "metadata": {},
   "outputs": [],
   "source": [
    "# First Attempt\n",
    "\n",
    "def feast(beast, dish):\n",
    "    if (beast[0],beast[-1]) == (dish[0],dish[-1]):\n",
    "        return True\n",
    "    else:\n",
    "        False\n",
    "    pass\n",
    "\n",
    "feast('dog','dog')"
   ]
  },
  {
   "source": [
    "After reviewing how others' completed the challenge I see that I could have been more efficient in how I got the answer."
   ],
   "cell_type": "markdown",
   "metadata": {}
  },
  {
   "cell_type": "code",
   "execution_count": 1,
   "metadata": {},
   "outputs": [],
   "source": [
    "# I liked this solution the best:\n",
    "\n",
    "def feast(beast, dish):\n",
    "    return beast[0]==dish[0] and dish[-1]==beast[-1]"
   ]
  },
  {
   "source": [
    "# Grasshopper - Summation\n",
    "\n",
    "## Instructions\n",
    "\n",
    "Write a program that finds the summation of every number from 1 to num. The number will always be a positive integer greater than 0."
   ],
   "cell_type": "markdown",
   "metadata": {}
  },
  {
   "cell_type": "code",
   "execution_count": 12,
   "metadata": {},
   "outputs": [
    {
     "output_type": "execute_result",
     "data": {
      "text/plain": [
       "36"
      ]
     },
     "metadata": {},
     "execution_count": 12
    }
   ],
   "source": [
    "def summation(num):\n",
    "    pass # Code here0\n",
    "    \n",
    "    sum = 0\n",
    "\n",
    "    for number in range(0, num + 1):\n",
    "        sum += number\n",
    "\n",
    "    return sum\n",
    "\n",
    "summation(8)"
   ]
  },
  {
   "source": [
    "# Sum of Positive\n",
    "\n",
    "## Instructions\n",
    "\n",
    "You get an array of numbers, return the sum of all of the positives ones.\n",
    "\n",
    "Example [1,-4,7,12] => 1 + 7 + 12 = 20\n",
    "\n",
    "Note: if there is nothing to sum, the sum is default to 0."
   ],
   "cell_type": "markdown",
   "metadata": {}
  },
  {
   "cell_type": "code",
   "execution_count": null,
   "metadata": {},
   "outputs": [],
   "source": [
    "# My Solution:\n",
    "\n",
    "def positive_sum(arr):\n",
    "    \n",
    "    sum = 0\n",
    "    \n",
    "    for i in arr:\n",
    "        if i >= 0:\n",
    "            sum += i\n",
    "    \n",
    "    return sum"
   ]
  },
  {
   "cell_type": "code",
   "execution_count": null,
   "metadata": {},
   "outputs": [],
   "source": [
    "# This did NOT work... I found out why after looking at my notes..abs\n",
    "\n",
    "def positive_sum(arr): # You can't insert an array into a range because a list/array is already iterable! \n",
    "    \n",
    "    sum = 0\n",
    "    \n",
    "    for i in range(arr):\n",
    "        if i >= 0:\n",
    "            sum += i\n",
    "    \n",
    "    return sum"
   ]
  },
  {
   "source": [
    "# Fake Binary\n",
    "\n",
    "## Instructions\n",
    "\n",
    "Given a string of digits, you should replace any digit below 5 with '0' and any digit 5 and above with '1'. Return the resulting string.\n",
    "\n"
   ],
   "cell_type": "markdown",
   "metadata": {}
  },
  {
   "cell_type": "code",
   "execution_count": 5,
   "metadata": {},
   "outputs": [
    {
     "output_type": "execute_result",
     "data": {
      "text/plain": [
       "'01011110001100111'"
      ]
     },
     "metadata": {},
     "execution_count": 5
    }
   ],
   "source": [
    "# Working Solution:\n",
    "\n",
    "my_string = \"45385593107843568\"\n",
    "\n",
    "def fake_bin(x):\n",
    "    pass\n",
    "\n",
    "    bin = \"\"\n",
    "    \n",
    "    for i in x:\n",
    "        if int(i) < 5:\n",
    "            bin += \"0\"\n",
    "        else:\n",
    "            bin += \"1\"\n",
    "    \n",
    "    return bin\n",
    "\n",
    "fake_bin(my_string)"
   ]
  },
  {
   "cell_type": "code",
   "execution_count": 6,
   "metadata": {},
   "outputs": [
    {
     "output_type": "execute_result",
     "data": {
      "text/plain": [
       "'10000000000000000'"
      ]
     },
     "metadata": {},
     "execution_count": 6
    }
   ],
   "source": [
    "# This did not work:\n",
    "\n",
    "my_string = \"45385593107843568\"\n",
    "\n",
    "def fake_bin(x):\n",
    "    pass\n",
    "\n",
    "    bin = ''\n",
    "\n",
    "    for i in x:\n",
    "        if int(x) > 5:\n",
    "            x = \"1\"\n",
    "            bin += x\n",
    "        elif int(x) <= 5:\n",
    "            x = \"0\"\n",
    "            bin += x\n",
    "        \n",
    "\n",
    "    return bin\n",
    "\n",
    "\n",
    "fake_bin(my_string)"
   ]
  },
  {
   "source": [
    "# Odd or Even?\n",
    "\n",
    "Task:\n",
    "Given a list of integers, determine whether the sum of its elements is odd or even.\n",
    "\n",
    "Give your answer as a string matching \"odd\" or \"even\".\n",
    "\n",
    "If the input array is empty consider it as: [0] (array with a zero)."
   ],
   "cell_type": "markdown",
   "metadata": {}
  },
  {
   "cell_type": "code",
   "execution_count": null,
   "metadata": {},
   "outputs": [],
   "source": [
    "def odd_or_even(arr):\n",
    "    \n",
    "    sum = 0\n",
    "    for n in arr:\n",
    "        sum += n\n",
    "        \n",
    "    if (sum % 2) == 0:\n",
    "        return 'even'\n",
    "    else:\n",
    "        return 'odd'"
   ]
  },
  {
   "source": [
    "# Even or Odd\n",
    "\n",
    "Create a function (or write a script in Shell) that takes an integer as an argument and returns \"Even\" for even numbers or \"Odd\" for odd numbers."
   ],
   "cell_type": "markdown",
   "metadata": {}
  },
  {
   "cell_type": "code",
   "execution_count": null,
   "metadata": {},
   "outputs": [],
   "source": [
    "def even_or_odd(number):\n",
    "    if number % 2 == 0:\n",
    "        return 'Even'\n",
    "    else: \n",
    "        return 'Odd'"
   ]
  },
  {
   "source": [
    "# Thinkful - Logic Drills: Traffic light\n",
    "\n",
    "You're writing code to control your town's traffic lights. You need a function to handle each change from green, to yellow, to red, and then to green again.\n",
    "\n",
    "Complete the function that takes a string as an argument representing the current state of the light and returns a string representing the state the light should change to.\n",
    "\n",
    "For example, update_light('green') should return 'yellow'."
   ],
   "cell_type": "markdown",
   "metadata": {}
  },
  {
   "cell_type": "code",
   "execution_count": null,
   "metadata": {},
   "outputs": [],
   "source": [
    "def update_light(current):\n",
    "    # Your code here.\n",
    "    \n",
    "    if current == 'green':\n",
    "        return 'yellow'\n",
    "    elif current == 'yellow':\n",
    "        return 'red'\n",
    "    else:\n",
    "        return 'green'"
   ]
  },
  {
   "source": [
    "# Vowel Count\n",
    "\n",
    "Return the number (count) of vowels in the given string.\n",
    "\n",
    "We will consider a, e, i, o, u as vowels for this Kata (but not y).\n",
    "\n",
    "The input string will only consist of lower case letters and/or spaces."
   ],
   "cell_type": "markdown",
   "metadata": {}
  },
  {
   "cell_type": "code",
   "execution_count": 1,
   "metadata": {},
   "outputs": [
    {
     "output_type": "execute_result",
     "data": {
      "text/plain": [
       "5"
      ]
     },
     "metadata": {},
     "execution_count": 1
    }
   ],
   "source": [
    "def get_count(input_str):\n",
    "    num_vowels = 0\n",
    "    # your code here\n",
    "    for letter in input_str:\n",
    "        if letter == 'a' or letter == 'e' or letter == 'i' or letter == 'o' or letter == 'u':\n",
    "            num_vowels += 1\n",
    "    return num_vowels\n",
    "\n",
    "get_count(\"aeiou\")"
   ]
  },
  {
   "cell_type": "code",
   "execution_count": 5,
   "metadata": {},
   "outputs": [
    {
     "output_type": "execute_result",
     "data": {
      "text/plain": [
       "4"
      ]
     },
     "metadata": {},
     "execution_count": 5
    }
   ],
   "source": [
    "def get_count(input_str):\n",
    "    num_vowels = 0\n",
    "\n",
    "    for letter in input_str:\n",
    "        if letter in ['a', 'A', 'e', 'E', 'i', 'I', 'o', 'O', 'u', 'U']:\n",
    "            num_vowels += 1\n",
    "    return num_vowels\n",
    "\n",
    "get_count(\"alligator\")"
   ]
  },
  {
   "source": [
    "# Square Every Digit\n",
    "\n",
    "Description:\n",
    "Welcome. In this kata, you are asked to square every digit of a number and concatenate them.\n",
    "\n",
    "For example, if we run 9119 through the function, 811181 will come out, because 92 is 81 and 12 is 1.\n",
    "\n",
    "Note: The function accepts an integer and returns an integer"
   ],
   "cell_type": "markdown",
   "metadata": {}
  },
  {
   "cell_type": "code",
   "execution_count": 14,
   "metadata": {},
   "outputs": [
    {
     "output_type": "execute_result",
     "data": {
      "text/plain": [
       "811181"
      ]
     },
     "metadata": {},
     "execution_count": 14
    }
   ],
   "source": [
    "def square_digits(num):\n",
    "    x = list(str(num))\n",
    "    concat = ''\n",
    "    for i in x:\n",
    "        concat += str(int(i)**2)\n",
    "    return int(concat)\n",
    "\n",
    "square_digits(9119)"
   ]
  },
  {
   "cell_type": "code",
   "execution_count": 16,
   "metadata": {},
   "outputs": [
    {
     "output_type": "error",
     "ename": "AttributeError",
     "evalue": "'int' object has no attribute 'count'",
     "traceback": [
      "\u001b[1;31m---------------------------------------------------------------------------\u001b[0m",
      "\u001b[1;31mAttributeError\u001b[0m                            Traceback (most recent call last)",
      "\u001b[1;32m<ipython-input-16-68405795d176>\u001b[0m in \u001b[0;36m<module>\u001b[1;34m\u001b[0m\n\u001b[0;32m      2\u001b[0m \u001b[1;33m\u001b[0m\u001b[0m\n\u001b[0;32m      3\u001b[0m \u001b[1;32mfor\u001b[0m \u001b[0mi\u001b[0m \u001b[1;32min\u001b[0m \u001b[0mlst\u001b[0m\u001b[1;33m:\u001b[0m\u001b[1;33m\u001b[0m\u001b[1;33m\u001b[0m\u001b[0m\n\u001b[1;32m----> 4\u001b[1;33m     \u001b[0mi\u001b[0m\u001b[1;33m.\u001b[0m\u001b[0mcount\u001b[0m\u001b[1;33m(\u001b[0m\u001b[0mi\u001b[0m\u001b[1;33m)\u001b[0m\u001b[1;33m\u001b[0m\u001b[1;33m\u001b[0m\u001b[0m\n\u001b[0m",
      "\u001b[1;31mAttributeError\u001b[0m: 'int' object has no attribute 'count'"
     ]
    }
   ],
   "source": [
    "lst = [1,1,1,2,2,2,3,3,3,3,3,3,5,5,5,5,5,5,7,7,7,9,9,9,9,10]\n",
    "\n",
    "for i in lst:\n",
    "    i.count(i)"
   ]
  },
  {
   "source": [
    "# Sum of Integers up to n\n",
    "\n",
    "Write a function, add_it_up(), that takes a single integer as input and returns the sum of the integers from zero to the input parameter.\n",
    "\n",
    "The function should return 0 if a non-integer is passed in."
   ],
   "cell_type": "markdown",
   "metadata": {}
  },
  {
   "cell_type": "code",
   "execution_count": 24,
   "metadata": {},
   "outputs": [
    {
     "output_type": "stream",
     "name": "stdout",
     "text": [
      "15\n"
     ]
    }
   ],
   "source": [
    "def add_it_up(n):\n",
    "    sum = 0\n",
    "\n",
    "    for i in range(0,n + 1):\n",
    "        sum += i\n",
    "\n",
    "    return sum\n",
    "\n",
    "print(add_it_up(5))"
   ]
  },
  {
   "cell_type": "code",
   "execution_count": null,
   "metadata": {},
   "outputs": [],
   "source": []
  }
 ]
}