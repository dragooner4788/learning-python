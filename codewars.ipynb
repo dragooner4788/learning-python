{
 "metadata": {
  "language_info": {
   "codemirror_mode": {
    "name": "ipython",
    "version": 3
   },
   "file_extension": ".py",
   "mimetype": "text/x-python",
   "name": "python",
   "nbconvert_exporter": "python",
   "pygments_lexer": "ipython3",
   "version": "3.9.0-final"
  },
  "orig_nbformat": 2,
  "kernelspec": {
   "name": "python3",
   "display_name": "Python 3.9.0 64-bit",
   "metadata": {
    "interpreter": {
     "hash": "5122ed099dc5123678099b7db7e8f3488f5555799320b736a8038161c49cbd3b"
    }
   }
  }
 },
 "nbformat": 4,
 "nbformat_minor": 2,
 "cells": [
  {
   "source": [
    "# The Feast of Many Beasts"
   ],
   "cell_type": "markdown",
   "metadata": {}
  },
  {
   "cell_type": "code",
   "execution_count": null,
   "metadata": {},
   "outputs": [],
   "source": [
    "# First Attempt\n",
    "\n",
    "def feast(beast, dish):\n",
    "    if (beast[0],beast[-1]) == (dish[0],dish[-1]):\n",
    "        return True\n",
    "    else:\n",
    "        False\n",
    "    pass\n",
    "\n",
    "feast('dog','dog')"
   ]
  },
  {
   "source": [
    "After reviewing how others' completed the challenge I see that I could have been more efficient in how I got the answer."
   ],
   "cell_type": "markdown",
   "metadata": {}
  },
  {
   "cell_type": "code",
   "execution_count": 1,
   "metadata": {},
   "outputs": [],
   "source": [
    "# I liked this solution the best:\n",
    "\n",
    "def feast(beast, dish):\n",
    "    return beast[0]==dish[0] and dish[-1]==beast[-1]"
   ]
  },
  {
   "source": [
    "# Grasshopper - Summation"
   ],
   "cell_type": "markdown",
   "metadata": {}
  },
  {
   "cell_type": "code",
   "execution_count": 12,
   "metadata": {},
   "outputs": [
    {
     "output_type": "execute_result",
     "data": {
      "text/plain": [
       "36"
      ]
     },
     "metadata": {},
     "execution_count": 12
    }
   ],
   "source": [
    "def summation(num):\n",
    "    pass # Code here0\n",
    "    \n",
    "    sum = 0\n",
    "\n",
    "    for number in range(0, num + 1):\n",
    "        sum += number\n",
    "\n",
    "    return sum\n",
    "\n",
    "summation(8)"
   ]
  },
  {
   "source": [
    "# Sum of Positive\n",
    "\n",
    "## Instructions\n",
    "\n",
    "You get an array of numbers, return the sum of all of the positives ones.\n",
    "\n",
    "Example [1,-4,7,12] => 1 + 7 + 12 = 20\n",
    "\n",
    "Note: if there is nothing to sum, the sum is default to 0."
   ],
   "cell_type": "markdown",
   "metadata": {}
  },
  {
   "cell_type": "code",
   "execution_count": null,
   "metadata": {},
   "outputs": [],
   "source": [
    "# My Solution:\n",
    "\n",
    "def positive_sum(arr):\n",
    "    \n",
    "    sum = 0\n",
    "    \n",
    "    for i in arr:\n",
    "        if i >= 0:\n",
    "            sum += i\n",
    "    \n",
    "    return sum"
   ]
  },
  {
   "cell_type": "code",
   "execution_count": null,
   "metadata": {},
   "outputs": [],
   "source": [
    "# This did NOT work... I found out why after looking at my notes..abs\n",
    "\n",
    "def positive_sum(arr): # You can't insert an array into a range because a list/array is already iterable! \n",
    "    \n",
    "    sum = 0\n",
    "    \n",
    "    for i in range(arr):\n",
    "        if i >= 0:\n",
    "            sum += i\n",
    "    \n",
    "    return sum"
   ]
  },
  {
   "source": [
    "# Fake Binary\n",
    "\n",
    "## Instructions\n",
    "\n",
    "Given a string of digits, you should replace any digit below 5 with '0' and any digit 5 and above with '1'. Return the resulting string.\n",
    "\n"
   ],
   "cell_type": "markdown",
   "metadata": {}
  },
  {
   "cell_type": "code",
   "execution_count": 5,
   "metadata": {},
   "outputs": [
    {
     "output_type": "execute_result",
     "data": {
      "text/plain": [
       "'01011110001100111'"
      ]
     },
     "metadata": {},
     "execution_count": 5
    }
   ],
   "source": [
    "# Working Solution:\n",
    "\n",
    "my_string = \"45385593107843568\"\n",
    "\n",
    "def fake_bin(x):\n",
    "    pass\n",
    "\n",
    "    bin = \"\"\n",
    "    \n",
    "    for i in x:\n",
    "        if int(i) < 5:\n",
    "            bin += \"0\"\n",
    "        else:\n",
    "            bin += \"1\"\n",
    "    \n",
    "    return bin\n",
    "\n",
    "fake_bin(my_string)"
   ]
  },
  {
   "cell_type": "code",
   "execution_count": 6,
   "metadata": {},
   "outputs": [
    {
     "output_type": "execute_result",
     "data": {
      "text/plain": [
       "'10000000000000000'"
      ]
     },
     "metadata": {},
     "execution_count": 6
    }
   ],
   "source": [
    "# This did not work:\n",
    "\n",
    "my_string = \"45385593107843568\"\n",
    "\n",
    "def fake_bin(x):\n",
    "    pass\n",
    "\n",
    "    bin = ''\n",
    "\n",
    "    for i in x:\n",
    "        if int(x) > 5:\n",
    "            x = \"1\"\n",
    "            bin += x\n",
    "        elif int(x) <= 5:\n",
    "            x = \"0\"\n",
    "            bin += x\n",
    "        \n",
    "\n",
    "    return bin\n",
    "\n",
    "\n",
    "fake_bin(my_string)"
   ]
  },
  {
   "cell_type": "code",
   "execution_count": null,
   "metadata": {},
   "outputs": [],
   "source": []
  }
 ]
}