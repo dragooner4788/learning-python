{
 "metadata": {
  "language_info": {
   "codemirror_mode": {
    "name": "ipython",
    "version": 3
   },
   "file_extension": ".py",
   "mimetype": "text/x-python",
   "name": "python",
   "nbconvert_exporter": "python",
   "pygments_lexer": "ipython3",
   "version": "3.9.0-final"
  },
  "orig_nbformat": 2,
  "kernelspec": {
   "name": "python3",
   "display_name": "Python 3.9.0 64-bit",
   "metadata": {
    "interpreter": {
     "hash": "5122ed099dc5123678099b7db7e8f3488f5555799320b736a8038161c49cbd3b"
    }
   }
  }
 },
 "nbformat": 4,
 "nbformat_minor": 2,
 "cells": [
  {
   "source": [
    "# Lists\n",
    "\n",
    "You can have:\n",
    "- Numbers\n",
    "- Letters\n",
    "- Lists of Lists\n",
    "- Combined type Lists\n",
    "- Multiply lists"
   ],
   "cell_type": "markdown",
   "metadata": {}
  },
  {
   "cell_type": "code",
   "execution_count": 27,
   "metadata": {},
   "outputs": [
    {
     "output_type": "stream",
     "name": "stdout",
     "text": [
      "11\n"
     ]
    }
   ],
   "source": [
    "letters = [\"a\", \"b\", \"c\"]\n",
    "\n",
    "numbers = [1,2,3]\n",
    "\n",
    "list_of_lists = [[0,1], [2,3]]\n",
    "\n",
    "zeroes = [0] * 5\n",
    "\n",
    "combined = zeroes + letters # We can combine types\n",
    "\n",
    "more_numbers = list(range(20))\n",
    "\n",
    "chars = list(\"Hello World\")\n",
    "\n",
    "print(len(chars))"
   ]
  },
  {
   "source": [
    "# Accessing Items"
   ],
   "cell_type": "markdown",
   "metadata": {}
  },
  {
   "cell_type": "code",
   "execution_count": 39,
   "metadata": {},
   "outputs": [
    {
     "output_type": "stream",
     "name": "stdout",
     "text": [
      "a\nA\n['A', 'b', 'c']\n['A', 'b', 'c']\n['A', 'b', 'c', 'd']\n['A', 'c']\n[0, 2, 4, 6, 8, 10, 12, 14, 16, 18]\n[19, 17, 15, 13, 11, 9, 7, 5, 3, 1]\n"
     ]
    }
   ],
   "source": [
    "letters = [\"a\",\"b\",\"c\",\"d\"]\n",
    "\n",
    "print(letters[0])\n",
    "\n",
    "letters[0] = \"A\"\n",
    "\n",
    "print(letters[0])\n",
    "\n",
    "print(letters[0:3])\n",
    "\n",
    "print(letters[:3])\n",
    "\n",
    "print(letters[0:])\n",
    "\n",
    "print(letters[::2])\n",
    "\n",
    "numbers = list(range(20))\n",
    "\n",
    "print(numbers[::2])\n",
    "\n",
    "print(numbers[::-2])"
   ]
  },
  {
   "source": [
    "# List Unpacking\n",
    "\n",
    "With list unpacking we can get the items we need from the list. \n",
    "\n",
    "Remember that you need to specify variables for the items you wish to unpack. \n",
    "\n",
    "For the items you don't need to unpack you can use the *args syntax to store the rest inside of another list."
   ],
   "cell_type": "markdown",
   "metadata": {}
  },
  {
   "cell_type": "code",
   "execution_count": 44,
   "metadata": {},
   "outputs": [],
   "source": [
    "numbers = [1,2,3]\n",
    "\n",
    "first, second, third = numbers # unpacking numbers into variables"
   ]
  },
  {
   "cell_type": "code",
   "execution_count": 46,
   "metadata": {},
   "outputs": [
    {
     "output_type": "stream",
     "name": "stdout",
     "text": [
      "1\n[3, 4, 4, 4, 4, 4]\n"
     ]
    }
   ],
   "source": [
    "numbers = [1,2,3,4,4,4,4,4]\n",
    "\n",
    "first, second, *other = numbers\n",
    "\n",
    "print(first)\n",
    "print(other)"
   ]
  },
  {
   "cell_type": "code",
   "execution_count": 47,
   "metadata": {},
   "outputs": [
    {
     "output_type": "stream",
     "name": "stdout",
     "text": [
      "1 9\n[2, 3, 4, 4, 4, 4]\n"
     ]
    }
   ],
   "source": [
    "numbers = [1,2,3,4,4,4,4,9]\n",
    "\n",
    "first, *other, last = numbers\n",
    "\n",
    "print(first, last)\n",
    "print(other)"
   ]
  },
  {
   "source": [
    "# Looping over Lists"
   ],
   "cell_type": "markdown",
   "metadata": {}
  },
  {
   "cell_type": "code",
   "execution_count": 49,
   "metadata": {},
   "outputs": [
    {
     "output_type": "stream",
     "name": "stdout",
     "text": [
      "a\nb\nc\n"
     ]
    }
   ],
   "source": [
    "letters = [\"a\", \"b\", \"c\"]\n",
    "\n",
    "for letter in letters: # enumerate over the items in the list without their index values\n",
    "    print(letter)"
   ]
  },
  {
   "cell_type": "code",
   "execution_count": 50,
   "metadata": {},
   "outputs": [
    {
     "output_type": "stream",
     "name": "stdout",
     "text": [
      "(0, 'a')\n(1, 'b')\n(2, 'c')\n"
     ]
    }
   ],
   "source": [
    "letters = [\"a\", \"b\", \"c\"]\n",
    "\n",
    "for letter in enumerate(letters): # enumerate over items in a list and also their index values\n",
    "    print(letter)"
   ]
  },
  {
   "cell_type": "code",
   "execution_count": 48,
   "metadata": {},
   "outputs": [
    {
     "output_type": "stream",
     "name": "stdout",
     "text": [
      "0 a\n1 b\n2 c\n"
     ]
    }
   ],
   "source": [
    "letters = [\"a\", \"b\", \"c\"]\n",
    "\n",
    "for letter in enumerate(letters): # enumberate of a list of items and we can get either the index or the values or both like we did here\n",
    "    print(letter[0], letter[1])"
   ]
  },
  {
   "cell_type": "code",
   "execution_count": 54,
   "metadata": {},
   "outputs": [
    {
     "output_type": "stream",
     "name": "stdout",
     "text": [
      "0 a\n"
     ]
    }
   ],
   "source": [
    "items = (0, \"a\")\n",
    "\n",
    "index, letter = items\n",
    "\n",
    "print(index, letter) # we can pack items into a tuple and then print them"
   ]
  },
  {
   "cell_type": "code",
   "execution_count": 55,
   "metadata": {},
   "outputs": [
    {
     "output_type": "stream",
     "name": "stdout",
     "text": [
      "0 a\n1 b\n2 c\n"
     ]
    }
   ],
   "source": [
    "letters = [\"a\", \"b\", \"c\"]\n",
    "\n",
    "for index, letter in enumerate(letters):\n",
    "    print(index, letter) # no longer need to specify position because we gave each idex position it's own variable here"
   ]
  },
  {
   "source": [
    "# Adding or Removing Items"
   ],
   "cell_type": "markdown",
   "metadata": {}
  },
  {
   "cell_type": "code",
   "execution_count": 65,
   "metadata": {},
   "outputs": [
    {
     "output_type": "stream",
     "name": "stdout",
     "text": [
      "['a', 'b', 'c']\n['a', 'b', 'c', 'd']\n['Letters: ', 'a', 'b', 'c', 'd']\n['Letters: ', 'a', 'b', 'c']\n['a', 'b', 'c']\n['a', 'c']\n[]\n['a', 'b', 'c']\n[]\n"
     ]
    }
   ],
   "source": [
    "letters = [\"a\", \"b\", \"c\"]\n",
    "\n",
    "print(letters) # TO show the default list before alterations\n",
    "\n",
    "letters.append(\"d\") # Inset an item at the end of a list\n",
    "\n",
    "print(letters)\n",
    "\n",
    "letters.insert(0, \"Letters: \") # Insert an item at a position\n",
    "\n",
    "print(letters)\n",
    "\n",
    "# Removing Items\n",
    "\n",
    "letters.pop() # removes the item in the last position\n",
    "\n",
    "print(letters)\n",
    "\n",
    "letters.pop(0)\n",
    "\n",
    "print(letters)\n",
    "\n",
    "letters.remove(\"b\")\n",
    "\n",
    "print(letters)\n",
    "\n",
    "del letters[0:3]\n",
    "\n",
    "print(letters)\n",
    "\n",
    "letters = [\"a\", \"b\", \"c\"]\n",
    "\n",
    "print(letters)\n",
    "\n",
    "letters.clear()\n",
    "\n",
    "print(letters)"
   ]
  },
  {
   "source": [
    "# Finding Items"
   ],
   "cell_type": "markdown",
   "metadata": {}
  },
  {
   "cell_type": "code",
   "execution_count": 66,
   "metadata": {},
   "outputs": [
    {
     "output_type": "stream",
     "name": "stdout",
     "text": [
      "0\n"
     ]
    }
   ],
   "source": [
    "letters = [\"a\", \"b\", \"c\"]\n",
    "\n",
    "print(letters.index(\"a\"))"
   ]
  },
  {
   "cell_type": "code",
   "execution_count": null,
   "metadata": {},
   "outputs": [],
   "source": [
    "letters = [\"a\", \"b\", \"c\"]\n",
    "\n",
    "if \"d\" in letters:\n",
    "    print(letters.index(\"d\"))"
   ]
  },
  {
   "cell_type": "code",
   "execution_count": 67,
   "metadata": {},
   "outputs": [
    {
     "output_type": "stream",
     "name": "stdout",
     "text": [
      "0\n"
     ]
    }
   ],
   "source": [
    "letters = [\"a\", \"b\", \"c\"]\n",
    "\n",
    "get_letter = input(\"Enter a letter: \")\n",
    "\n",
    "if get_letter in letters:\n",
    "    print(letters.index(get_letter))"
   ]
  },
  {
   "source": [
    "# Sorting Lists"
   ],
   "cell_type": "markdown",
   "metadata": {}
  },
  {
   "cell_type": "code",
   "execution_count": 102,
   "metadata": {},
   "outputs": [
    {
     "output_type": "error",
     "ename": "SyntaxError",
     "evalue": "expression cannot contain assignment, perhaps you meant \"==\"? (<ipython-input-102-9f869d378771>, line 13)",
     "traceback": [
      "\u001b[1;36m  File \u001b[1;32m\"<ipython-input-102-9f869d378771>\"\u001b[1;36m, line \u001b[1;32m13\u001b[0m\n\u001b[1;33m    numbers.sort(key=lambda multiply: *2)\u001b[0m\n\u001b[1;37m                 ^\u001b[0m\n\u001b[1;31mSyntaxError\u001b[0m\u001b[1;31m:\u001b[0m expression cannot contain assignment, perhaps you meant \"==\"?\n"
     ]
    }
   ],
   "source": [
    "numbers = [3, 51, 2, 8, 6]\n",
    "\n",
    "print(numbers)\n",
    "\n",
    "numbers.sort()\n",
    "\n",
    "print(numbers)\n",
    "\n",
    "numbers.sort(reverse=True)\n",
    "\n",
    "print(numbers)"
   ]
  },
  {
   "cell_type": "code",
   "execution_count": 75,
   "metadata": {},
   "outputs": [
    {
     "output_type": "stream",
     "name": "stdout",
     "text": [
      "[3, 51, 8, 6]\n[3, 6, 8, 51]\n"
     ]
    }
   ],
   "source": [
    "numbers = [3, 51, 8, 6]\n",
    "\n",
    "print(numbers)\n",
    "\n",
    "print(sorted(numbers))"
   ]
  },
  {
   "cell_type": "code",
   "execution_count": 76,
   "metadata": {},
   "outputs": [
    {
     "output_type": "stream",
     "name": "stdout",
     "text": [
      "[3, 51, 8, 6]\n[51, 8, 6, 3]\n"
     ]
    }
   ],
   "source": [
    "numbers = [3, 51, 8, 6]\n",
    "\n",
    "print(numbers)\n",
    "\n",
    "print(sorted(numbers, reverse=True))"
   ]
  },
  {
   "cell_type": "code",
   "execution_count": 93,
   "metadata": {},
   "outputs": [
    {
     "output_type": "stream",
     "name": "stdout",
     "text": [
      "[('Product1', 10), ('Product2', 90), ('Product3', 20)]\n[('Product1', 10), ('Product3', 20), ('Product2', 90)]\n"
     ]
    }
   ],
   "source": [
    "# Sorting Tuples\n",
    "\n",
    "items = [\n",
    "    (\"Product1\", 10),\n",
    "    (\"Product2\", 90),\n",
    "    (\"Product3\", 20)\n",
    "]\n",
    "\n",
    "def sort_item(item): # function we defined\n",
    "    return item[1] # sorting by the value, not key. It's looking at the value and sorting by value\n",
    "print(items)\n",
    "\n",
    "items.sort(key=sort_item)\n",
    "\n",
    "print(items)"
   ]
  },
  {
   "cell_type": "code",
   "execution_count": 99,
   "metadata": {},
   "outputs": [
    {
     "output_type": "stream",
     "name": "stdout",
     "text": [
      "[('Product1', 10, 'a'), ('Product2', 90, 'b'), ('Product3', 20, 'c')]\n[('Product1', 10, 'a'), ('Product2', 90, 'b'), ('Product3', 20, 'c')]\n"
     ]
    }
   ],
   "source": [
    "# Sorting Tuples\n",
    "\n",
    "items = [\n",
    "    (\"Product1\", 10, 'a'), # you can add multiple values here\n",
    "    (\"Product2\", 90, 'b'),\n",
    "    (\"Product3\", 20, 'c')\n",
    "]\n",
    "\n",
    "def sort_item(item): # function we defined\n",
    "    return item[2] # sorting by the value, not key. It's looking at the value and sorting by value\n",
    "print(items)\n",
    "\n",
    "items.sort(key=sort_item) # Even thought sort will sort, we are using sort_items to sort on the RIGHT value. \n",
    "\n",
    "print(items)"
   ]
  },
  {
   "source": [
    "# Lambda Functions"
   ],
   "cell_type": "markdown",
   "metadata": {}
  },
  {
   "cell_type": "code",
   "execution_count": 100,
   "metadata": {},
   "outputs": [
    {
     "output_type": "stream",
     "name": "stdout",
     "text": [
      "[('Product1', 10), ('Product2', 90), ('Product3', 20)]\n"
     ]
    }
   ],
   "source": [
    "items = [\n",
    "    (\"Product1\", 10),\n",
    "    (\"Product2\", 90),\n",
    "    (\"Product3\", 20)\n",
    "]\n",
    "\n",
    "# accessing the methods available on the variable/list 'items', the variable hold a list of tuples. Tuples are immutable. \n",
    "# we are suing the sort function, and we are using a key saying to use a lambda and 'item' is the same as a parameter from above. we are passing the values/tuples from 'items' as an arugment into the parameter 'item' and saying to get index 1 which is the integer value in the tuple\n",
    "# we are then using the sort method to sort on the index value of 1 which are the ineger in the tuple\n",
    "items.sort(key=lambda item: item[1]) # we can just a one-off function here called a lambda, it's known as an anonymous function\n",
    "\n",
    "print(items)"
   ]
  },
  {
   "source": [
    "# Map Functions"
   ],
   "cell_type": "markdown",
   "metadata": {}
  },
  {
   "cell_type": "code",
   "execution_count": 104,
   "metadata": {},
   "outputs": [
    {
     "output_type": "stream",
     "name": "stdout",
     "text": [
      "[10, 90, 20]\n"
     ]
    }
   ],
   "source": [
    "# Just getting the prices from the Tuple\n",
    "items = [\n",
    "    (\"Product1\", 10),\n",
    "    (\"Product2\", 90),\n",
    "    (\"Product3\", 20)\n",
    "]\n",
    "\n",
    "prices = []\n",
    "\n",
    "for item in items:\n",
    "    prices.append(item[1])\n",
    "\n",
    "print(prices)"
   ]
  },
  {
   "cell_type": "code",
   "execution_count": 108,
   "metadata": {},
   "outputs": [
    {
     "output_type": "stream",
     "name": "stdout",
     "text": [
      "10\n90\n20\n"
     ]
    }
   ],
   "source": [
    "# A better way to get prices from Tuple.chars\n",
    "\n",
    "items = [\n",
    "    (\"Product1\", 10),\n",
    "    (\"Product2\", 90),\n",
    "    (\"Product3\", 20)\n",
    "]\n",
    "\n",
    "x = map(lambda item: item[1], items) # can iterate over a map to get the items out of the map\n",
    "for item in x:\n",
    "    print(item)"
   ]
  },
  {
   "cell_type": "code",
   "execution_count": 111,
   "metadata": {},
   "outputs": [
    {
     "output_type": "stream",
     "name": "stdout",
     "text": [
      "[10, 90, 20]\n[10, 20, 90]\n"
     ]
    }
   ],
   "source": [
    "# A similar way\n",
    "\n",
    "items = [\n",
    "    (\"Product1\", 10),\n",
    "    (\"Product2\", 90),\n",
    "    (\"Product3\", 20)\n",
    "]\n",
    "\n",
    "\n",
    "# defning a lambda for the map function. 'item' is the param, 'items' is the iterable.\n",
    "# using list to turn this map into a list\n",
    "# adding it to the prices variable\n",
    "prices = list(map(lambda item: item[1], items))\n",
    "\n",
    "print(prices)\n",
    "\n",
    "prices.sort()\n",
    "\n",
    "print(prices)"
   ]
  },
  {
   "source": [
    "# Filter Functions"
   ],
   "cell_type": "markdown",
   "metadata": {}
  },
  {
   "cell_type": "code",
   "execution_count": 124,
   "metadata": {},
   "outputs": [
    {
     "output_type": "stream",
     "name": "stdout",
     "text": [
      "[('Product2', 90), ('Product3', 20)]\n"
     ]
    }
   ],
   "source": [
    "items = [\n",
    "    (\"Product1\", 10),\n",
    "    (\"Product2\", 90),\n",
    "    (\"Product3\", 20)\n",
    "]\n",
    "\n",
    "x = list(filter(lambda item: item[1] > 10, items)) # Can transform into a list immediately\n",
    "\n",
    "print(x)"
   ]
  },
  {
   "cell_type": "code",
   "execution_count": 125,
   "metadata": {},
   "outputs": [
    {
     "output_type": "stream",
     "name": "stdout",
     "text": [
      "('Product2', 90)\n('Product3', 20)\n"
     ]
    }
   ],
   "source": [
    "items = [\n",
    "    (\"Product1\", 10),\n",
    "    (\"Product2\", 90),\n",
    "    (\"Product3\", 20)\n",
    "]\n",
    "\n",
    "x = filter( lambda item: item[1] > 10, items) # Can loop over the items and display the tuples\n",
    "\n",
    "for item in x:\n",
    "    print(item)"
   ]
  },
  {
   "source": [
    "# List Comprehensions"
   ],
   "cell_type": "markdown",
   "metadata": {}
  },
  {
   "source": [
    "# Zip Functions"
   ],
   "cell_type": "markdown",
   "metadata": {}
  },
  {
   "source": [
    "# Stacks"
   ],
   "cell_type": "markdown",
   "metadata": {}
  },
  {
   "source": [
    "# Queues"
   ],
   "cell_type": "markdown",
   "metadata": {}
  },
  {
   "source": [
    "# Tuples"
   ],
   "cell_type": "markdown",
   "metadata": {}
  },
  {
   "source": [
    "# Swapping Variabls"
   ],
   "cell_type": "markdown",
   "metadata": {}
  },
  {
   "source": [
    "# Arrays"
   ],
   "cell_type": "markdown",
   "metadata": {}
  },
  {
   "source": [
    "# Sets"
   ],
   "cell_type": "markdown",
   "metadata": {}
  },
  {
   "source": [
    "# Disctionaries"
   ],
   "cell_type": "markdown",
   "metadata": {}
  },
  {
   "source": [
    "# Dictionary Comprehensions"
   ],
   "cell_type": "markdown",
   "metadata": {}
  },
  {
   "source": [
    "# Generator Expressions"
   ],
   "cell_type": "markdown",
   "metadata": {}
  },
  {
   "source": [
    "# Unpacking Operator"
   ],
   "cell_type": "markdown",
   "metadata": {}
  },
  {
   "source": [
    "# Exercise"
   ],
   "cell_type": "markdown",
   "metadata": {}
  }
 ]
}