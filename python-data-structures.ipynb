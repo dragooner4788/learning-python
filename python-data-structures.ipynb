{
 "metadata": {
  "language_info": {
   "codemirror_mode": {
    "name": "ipython",
    "version": 3
   },
   "file_extension": ".py",
   "mimetype": "text/x-python",
   "name": "python",
   "nbconvert_exporter": "python",
   "pygments_lexer": "ipython3",
   "version": "3.9.0-final"
  },
  "orig_nbformat": 2,
  "kernelspec": {
   "name": "python3",
   "display_name": "Python 3.9.0 64-bit",
   "metadata": {
    "interpreter": {
     "hash": "5122ed099dc5123678099b7db7e8f3488f5555799320b736a8038161c49cbd3b"
    }
   }
  }
 },
 "nbformat": 4,
 "nbformat_minor": 2,
 "cells": [
  {
   "source": [
    "# Lists\n",
    "\n",
    "You can have:\n",
    "- Numbers\n",
    "- Letters\n",
    "- Lists of Lists\n",
    "- Combined type Lists\n",
    "- Multiply lists"
   ],
   "cell_type": "markdown",
   "metadata": {}
  },
  {
   "cell_type": "code",
   "execution_count": 27,
   "metadata": {},
   "outputs": [
    {
     "output_type": "stream",
     "name": "stdout",
     "text": [
      "11\n"
     ]
    }
   ],
   "source": [
    "letters = [\"a\", \"b\", \"c\"]\n",
    "\n",
    "numbers = [1,2,3]\n",
    "\n",
    "list_of_lists = [[0,1], [2,3]]\n",
    "\n",
    "zeroes = [0] * 5\n",
    "\n",
    "combined = zeroes + letters # We can combine types\n",
    "\n",
    "more_numbers = list(range(20))\n",
    "\n",
    "chars = list(\"Hello World\")\n",
    "\n",
    "print(len(chars))"
   ]
  },
  {
   "source": [
    "# Accessing Items"
   ],
   "cell_type": "markdown",
   "metadata": {}
  },
  {
   "cell_type": "code",
   "execution_count": 39,
   "metadata": {},
   "outputs": [
    {
     "output_type": "stream",
     "name": "stdout",
     "text": [
      "a\nA\n['A', 'b', 'c']\n['A', 'b', 'c']\n['A', 'b', 'c', 'd']\n['A', 'c']\n[0, 2, 4, 6, 8, 10, 12, 14, 16, 18]\n[19, 17, 15, 13, 11, 9, 7, 5, 3, 1]\n"
     ]
    }
   ],
   "source": [
    "letters = [\"a\",\"b\",\"c\",\"d\"]\n",
    "\n",
    "print(letters[0])\n",
    "\n",
    "letters[0] = \"A\"\n",
    "\n",
    "print(letters[0])\n",
    "\n",
    "print(letters[0:3])\n",
    "\n",
    "print(letters[:3])\n",
    "\n",
    "print(letters[0:])\n",
    "\n",
    "print(letters[::2])\n",
    "\n",
    "numbers = list(range(20))\n",
    "\n",
    "print(numbers[::2])\n",
    "\n",
    "print(numbers[::-2])"
   ]
  },
  {
   "source": [
    "# List Unpacking\n",
    "\n",
    "With list unpacking we can get the items we need from the list. \n",
    "\n",
    "Remember that you need to specify variables for the items you wish to unpack. \n",
    "\n",
    "For the items you don't need to unpack you can use the *args syntax to store the rest inside of another list."
   ],
   "cell_type": "markdown",
   "metadata": {}
  },
  {
   "cell_type": "code",
   "execution_count": 44,
   "metadata": {},
   "outputs": [],
   "source": [
    "numbers = [1,2,3]\n",
    "\n",
    "first, second, third = numbers # unpacking numbers into variables"
   ]
  },
  {
   "cell_type": "code",
   "execution_count": 46,
   "metadata": {},
   "outputs": [
    {
     "output_type": "stream",
     "name": "stdout",
     "text": [
      "1\n[3, 4, 4, 4, 4, 4]\n"
     ]
    }
   ],
   "source": [
    "numbers = [1,2,3,4,4,4,4,4]\n",
    "\n",
    "first, second, *other = numbers\n",
    "\n",
    "print(first)\n",
    "print(other)"
   ]
  },
  {
   "cell_type": "code",
   "execution_count": 47,
   "metadata": {},
   "outputs": [
    {
     "output_type": "stream",
     "name": "stdout",
     "text": [
      "1 9\n[2, 3, 4, 4, 4, 4]\n"
     ]
    }
   ],
   "source": [
    "numbers = [1,2,3,4,4,4,4,9]\n",
    "\n",
    "first, *other, last = numbers\n",
    "\n",
    "print(first, last)\n",
    "print(other)"
   ]
  },
  {
   "source": [
    "# Looping over Lists"
   ],
   "cell_type": "markdown",
   "metadata": {}
  },
  {
   "cell_type": "code",
   "execution_count": 49,
   "metadata": {},
   "outputs": [
    {
     "output_type": "stream",
     "name": "stdout",
     "text": [
      "a\nb\nc\n"
     ]
    }
   ],
   "source": [
    "letters = [\"a\", \"b\", \"c\"]\n",
    "\n",
    "for letter in letters: # enumerate over the items in the list without their index values\n",
    "    print(letter)"
   ]
  },
  {
   "cell_type": "code",
   "execution_count": 50,
   "metadata": {},
   "outputs": [
    {
     "output_type": "stream",
     "name": "stdout",
     "text": [
      "(0, 'a')\n(1, 'b')\n(2, 'c')\n"
     ]
    }
   ],
   "source": [
    "letters = [\"a\", \"b\", \"c\"]\n",
    "\n",
    "for letter in enumerate(letters): # enumerate over items in a list and also their index values\n",
    "    print(letter)"
   ]
  },
  {
   "cell_type": "code",
   "execution_count": 48,
   "metadata": {},
   "outputs": [
    {
     "output_type": "stream",
     "name": "stdout",
     "text": [
      "0 a\n1 b\n2 c\n"
     ]
    }
   ],
   "source": [
    "letters = [\"a\", \"b\", \"c\"]\n",
    "\n",
    "for letter in enumerate(letters): # enumberate of a list of items and we can get either the index or the values or both like we did here\n",
    "    print(letter[0], letter[1])"
   ]
  },
  {
   "cell_type": "code",
   "execution_count": 54,
   "metadata": {},
   "outputs": [
    {
     "output_type": "stream",
     "name": "stdout",
     "text": [
      "0 a\n"
     ]
    }
   ],
   "source": [
    "items = (0, \"a\")\n",
    "\n",
    "index, letter = items\n",
    "\n",
    "print(index, letter) # we can pack items into a tuple and then print them"
   ]
  },
  {
   "cell_type": "code",
   "execution_count": 55,
   "metadata": {},
   "outputs": [
    {
     "output_type": "stream",
     "name": "stdout",
     "text": [
      "0 a\n1 b\n2 c\n"
     ]
    }
   ],
   "source": [
    "letters = [\"a\", \"b\", \"c\"]\n",
    "\n",
    "for index, letter in enumerate(letters):\n",
    "    print(index, letter) # no longer need to specify position because we gave each idex position it's own variable here"
   ]
  },
  {
   "source": [
    "# Adding or Removing Items"
   ],
   "cell_type": "markdown",
   "metadata": {}
  },
  {
   "cell_type": "code",
   "execution_count": 65,
   "metadata": {},
   "outputs": [
    {
     "output_type": "stream",
     "name": "stdout",
     "text": [
      "['a', 'b', 'c']\n['a', 'b', 'c', 'd']\n['Letters: ', 'a', 'b', 'c', 'd']\n['Letters: ', 'a', 'b', 'c']\n['a', 'b', 'c']\n['a', 'c']\n[]\n['a', 'b', 'c']\n[]\n"
     ]
    }
   ],
   "source": [
    "letters = [\"a\", \"b\", \"c\"]\n",
    "\n",
    "print(letters) # TO show the default list before alterations\n",
    "\n",
    "letters.append(\"d\") # Inset an item at the end of a list\n",
    "\n",
    "print(letters)\n",
    "\n",
    "letters.insert(0, \"Letters: \") # Insert an item at a position\n",
    "\n",
    "print(letters)\n",
    "\n",
    "# Removing Items\n",
    "\n",
    "letters.pop() # removes the item in the last position\n",
    "\n",
    "print(letters)\n",
    "\n",
    "letters.pop(0)\n",
    "\n",
    "print(letters)\n",
    "\n",
    "letters.remove(\"b\")\n",
    "\n",
    "print(letters)\n",
    "\n",
    "del letters[0:3]\n",
    "\n",
    "print(letters)\n",
    "\n",
    "letters = [\"a\", \"b\", \"c\"]\n",
    "\n",
    "print(letters)\n",
    "\n",
    "letters.clear()\n",
    "\n",
    "print(letters)"
   ]
  },
  {
   "source": [
    "# Finding Items"
   ],
   "cell_type": "markdown",
   "metadata": {}
  },
  {
   "cell_type": "code",
   "execution_count": 66,
   "metadata": {},
   "outputs": [
    {
     "output_type": "stream",
     "name": "stdout",
     "text": [
      "0\n"
     ]
    }
   ],
   "source": [
    "letters = [\"a\", \"b\", \"c\"]\n",
    "\n",
    "print(letters.index(\"a\"))"
   ]
  },
  {
   "cell_type": "code",
   "execution_count": null,
   "metadata": {},
   "outputs": [],
   "source": [
    "letters = [\"a\", \"b\", \"c\"]\n",
    "\n",
    "if \"d\" in letters:\n",
    "    print(letters.index(\"d\"))"
   ]
  },
  {
   "cell_type": "code",
   "execution_count": 67,
   "metadata": {},
   "outputs": [
    {
     "output_type": "stream",
     "name": "stdout",
     "text": [
      "0\n"
     ]
    }
   ],
   "source": [
    "letters = [\"a\", \"b\", \"c\"]\n",
    "\n",
    "get_letter = input(\"Enter a letter: \")\n",
    "\n",
    "if get_letter in letters:\n",
    "    print(letters.index(get_letter))"
   ]
  },
  {
   "source": [
    "# Sorting Lists"
   ],
   "cell_type": "markdown",
   "metadata": {}
  },
  {
   "cell_type": "code",
   "execution_count": 102,
   "metadata": {},
   "outputs": [
    {
     "output_type": "error",
     "ename": "SyntaxError",
     "evalue": "expression cannot contain assignment, perhaps you meant \"==\"? (<ipython-input-102-9f869d378771>, line 13)",
     "traceback": [
      "\u001b[1;36m  File \u001b[1;32m\"<ipython-input-102-9f869d378771>\"\u001b[1;36m, line \u001b[1;32m13\u001b[0m\n\u001b[1;33m    numbers.sort(key=lambda multiply: *2)\u001b[0m\n\u001b[1;37m                 ^\u001b[0m\n\u001b[1;31mSyntaxError\u001b[0m\u001b[1;31m:\u001b[0m expression cannot contain assignment, perhaps you meant \"==\"?\n"
     ]
    }
   ],
   "source": [
    "numbers = [3, 51, 2, 8, 6]\n",
    "\n",
    "print(numbers)\n",
    "\n",
    "numbers.sort()\n",
    "\n",
    "print(numbers)\n",
    "\n",
    "numbers.sort(reverse=True)\n",
    "\n",
    "print(numbers)"
   ]
  },
  {
   "cell_type": "code",
   "execution_count": 75,
   "metadata": {},
   "outputs": [
    {
     "output_type": "stream",
     "name": "stdout",
     "text": [
      "[3, 51, 8, 6]\n[3, 6, 8, 51]\n"
     ]
    }
   ],
   "source": [
    "numbers = [3, 51, 8, 6]\n",
    "\n",
    "print(numbers)\n",
    "\n",
    "print(sorted(numbers))"
   ]
  },
  {
   "cell_type": "code",
   "execution_count": 76,
   "metadata": {},
   "outputs": [
    {
     "output_type": "stream",
     "name": "stdout",
     "text": [
      "[3, 51, 8, 6]\n[51, 8, 6, 3]\n"
     ]
    }
   ],
   "source": [
    "numbers = [3, 51, 8, 6]\n",
    "\n",
    "print(numbers)\n",
    "\n",
    "print(sorted(numbers, reverse=True))"
   ]
  },
  {
   "cell_type": "code",
   "execution_count": 93,
   "metadata": {},
   "outputs": [
    {
     "output_type": "stream",
     "name": "stdout",
     "text": [
      "[('Product1', 10), ('Product2', 90), ('Product3', 20)]\n[('Product1', 10), ('Product3', 20), ('Product2', 90)]\n"
     ]
    }
   ],
   "source": [
    "# Sorting Tuples\n",
    "\n",
    "items = [\n",
    "    (\"Product1\", 10),\n",
    "    (\"Product2\", 90),\n",
    "    (\"Product3\", 20)\n",
    "]\n",
    "\n",
    "def sort_item(item): # function we defined\n",
    "    return item[1] # sorting by the value, not key. It's looking at the value and sorting by value\n",
    "print(items)\n",
    "\n",
    "items.sort(key=sort_item)\n",
    "\n",
    "print(items)"
   ]
  },
  {
   "cell_type": "code",
   "execution_count": 99,
   "metadata": {},
   "outputs": [
    {
     "output_type": "stream",
     "name": "stdout",
     "text": [
      "[('Product1', 10, 'a'), ('Product2', 90, 'b'), ('Product3', 20, 'c')]\n[('Product1', 10, 'a'), ('Product2', 90, 'b'), ('Product3', 20, 'c')]\n"
     ]
    }
   ],
   "source": [
    "# Sorting Tuples\n",
    "\n",
    "items = [\n",
    "    (\"Product1\", 10, 'a'), # you can add multiple values here\n",
    "    (\"Product2\", 90, 'b'),\n",
    "    (\"Product3\", 20, 'c')\n",
    "]\n",
    "\n",
    "def sort_item(item): # function we defined\n",
    "    return item[2] # sorting by the value, not key. It's looking at the value and sorting by value\n",
    "print(items)\n",
    "\n",
    "items.sort(key=sort_item) # Even thought sort will sort, we are using sort_items to sort on the RIGHT value. \n",
    "\n",
    "print(items)"
   ]
  },
  {
   "source": [
    "# Lambda Functions"
   ],
   "cell_type": "markdown",
   "metadata": {}
  },
  {
   "cell_type": "code",
   "execution_count": 100,
   "metadata": {},
   "outputs": [
    {
     "output_type": "stream",
     "name": "stdout",
     "text": [
      "[('Product1', 10), ('Product2', 90), ('Product3', 20)]\n"
     ]
    }
   ],
   "source": [
    "items = [\n",
    "    (\"Product1\", 10),\n",
    "    (\"Product2\", 90),\n",
    "    (\"Product3\", 20)\n",
    "]\n",
    "\n",
    "# accessing the methods available on the variable/list 'items', the variable hold a list of tuples. Tuples are immutable. \n",
    "# we are suing the sort function, and we are using a key saying to use a lambda and 'item' is the same as a parameter from above. we are passing the values/tuples from 'items' as an arugment into the parameter 'item' and saying to get index 1 which is the integer value in the tuple\n",
    "# we are then using the sort method to sort on the index value of 1 which are the ineger in the tuple\n",
    "items.sort(key=lambda item: item[1]) # we can just a one-off function here called a lambda, it's known as an anonymous function\n",
    "\n",
    "print(items)"
   ]
  },
  {
   "source": [
    "# Map Functions"
   ],
   "cell_type": "markdown",
   "metadata": {}
  },
  {
   "cell_type": "code",
   "execution_count": 104,
   "metadata": {},
   "outputs": [
    {
     "output_type": "stream",
     "name": "stdout",
     "text": [
      "[10, 90, 20]\n"
     ]
    }
   ],
   "source": [
    "# Just getting the prices from the Tuple\n",
    "items = [\n",
    "    (\"Product1\", 10),\n",
    "    (\"Product2\", 90),\n",
    "    (\"Product3\", 20)\n",
    "]\n",
    "\n",
    "prices = []\n",
    "\n",
    "for item in items:\n",
    "    prices.append(item[1])\n",
    "\n",
    "print(prices)"
   ]
  },
  {
   "cell_type": "code",
   "execution_count": 108,
   "metadata": {},
   "outputs": [
    {
     "output_type": "stream",
     "name": "stdout",
     "text": [
      "10\n90\n20\n"
     ]
    }
   ],
   "source": [
    "# A better way to get prices from Tuple.chars\n",
    "\n",
    "items = [\n",
    "    (\"Product1\", 10),\n",
    "    (\"Product2\", 90),\n",
    "    (\"Product3\", 20)\n",
    "]\n",
    "\n",
    "x = map(lambda item: item[1], items) # can iterate over a map to get the items out of the map\n",
    "for item in x:\n",
    "    print(item)"
   ]
  },
  {
   "cell_type": "code",
   "execution_count": 111,
   "metadata": {},
   "outputs": [
    {
     "output_type": "stream",
     "name": "stdout",
     "text": [
      "[10, 90, 20]\n[10, 20, 90]\n"
     ]
    }
   ],
   "source": [
    "# A similar way\n",
    "\n",
    "items = [\n",
    "    (\"Product1\", 10),\n",
    "    (\"Product2\", 90),\n",
    "    (\"Product3\", 20)\n",
    "]\n",
    "\n",
    "\n",
    "# defning a lambda for the map function. 'item' is the param, 'items' is the iterable.\n",
    "# using list to turn this map into a list\n",
    "# adding it to the prices variable\n",
    "prices = list(map(lambda item: item[1], items))\n",
    "\n",
    "print(prices)\n",
    "\n",
    "prices.sort()\n",
    "\n",
    "print(prices)"
   ]
  },
  {
   "source": [
    "# Filter Functions"
   ],
   "cell_type": "markdown",
   "metadata": {}
  },
  {
   "cell_type": "code",
   "execution_count": 124,
   "metadata": {},
   "outputs": [
    {
     "output_type": "stream",
     "name": "stdout",
     "text": [
      "[('Product2', 90), ('Product3', 20)]\n"
     ]
    }
   ],
   "source": [
    "items = [\n",
    "    (\"Product1\", 10),\n",
    "    (\"Product2\", 90),\n",
    "    (\"Product3\", 20)\n",
    "]\n",
    "\n",
    "x = list(filter(lambda item: item[1] > 10, items)) # Can transform into a list immediately\n",
    "\n",
    "print(x)"
   ]
  },
  {
   "cell_type": "code",
   "execution_count": 125,
   "metadata": {},
   "outputs": [
    {
     "output_type": "stream",
     "name": "stdout",
     "text": [
      "('Product2', 90)\n('Product3', 20)\n"
     ]
    }
   ],
   "source": [
    "items = [\n",
    "    (\"Product1\", 10),\n",
    "    (\"Product2\", 90),\n",
    "    (\"Product3\", 20)\n",
    "]\n",
    "\n",
    "x = filter( lambda item: item[1] > 10, items) # Can loop over the items and display the tuples\n",
    "\n",
    "for item in x:\n",
    "    print(item)"
   ]
  },
  {
   "source": [
    "# List Comprehensions"
   ],
   "cell_type": "markdown",
   "metadata": {}
  },
  {
   "cell_type": "code",
   "execution_count": 2,
   "metadata": {},
   "outputs": [
    {
     "output_type": "stream",
     "name": "stdout",
     "text": [
      "[10, 90, 20]\n"
     ]
    }
   ],
   "source": [
    "items = [\n",
    "    (\"Product1\", 10),\n",
    "    (\"Product2\", 90),\n",
    "    (\"Product3\", 20)\n",
    "]\n",
    "\n",
    "prices = [item[1] for item in items] # essentially using a loop. We are getting the values at index 1 for item in items.\n",
    "print(prices)"
   ]
  },
  {
   "cell_type": "code",
   "execution_count": 6,
   "metadata": {},
   "outputs": [
    {
     "output_type": "stream",
     "name": "stdout",
     "text": [
      "[('Product2', 90), ('Product3', 20)]\n"
     ]
    }
   ],
   "source": [
    "items = [\n",
    "    (\"Product1\", 10),\n",
    "    (\"Product2\", 90),\n",
    "    (\"Product3\", 20)\n",
    "]\n",
    "\n",
    "filtered = [item for item in items if item[1] > 10] # again, kinda like a loop. getting item for item in items. if item > 10, print it out\n",
    "print(filtered)"
   ]
  },
  {
   "source": [
    "# Zip Functions"
   ],
   "cell_type": "markdown",
   "metadata": {}
  },
  {
   "cell_type": "code",
   "execution_count": 10,
   "metadata": {},
   "outputs": [
    {
     "output_type": "execute_result",
     "data": {
      "text/plain": [
       "[(1, 10), (2, 20), (3, 30)]"
      ]
     },
     "metadata": {},
     "execution_count": 10
    }
   ],
   "source": [
    "list1 = [1,2,3]\n",
    "\n",
    "list2 = [10,20,30]\n",
    "\n",
    "list(zip(list1, list2)) # using built-in zip function"
   ]
  },
  {
   "cell_type": "code",
   "execution_count": 11,
   "metadata": {},
   "outputs": [
    {
     "output_type": "stream",
     "name": "stdout",
     "text": [
      "(1, 10)\n(2, 20)\n(3, 30)\n"
     ]
    }
   ],
   "source": [
    "list1 = [1,2,3]\n",
    "\n",
    "list2 = [10,20,30]\n",
    "\n",
    "x = zip(list1, list2)\n",
    "\n",
    "for i in x: # iterating over list using for loop\n",
    "    print(i)"
   ]
  },
  {
   "source": [
    "# Stacks"
   ],
   "cell_type": "markdown",
   "metadata": {}
  },
  {
   "cell_type": "code",
   "execution_count": 15,
   "metadata": {},
   "outputs": [
    {
     "output_type": "stream",
     "name": "stdout",
     "text": [
      "[1, 2, 3]\n3\n[1, 2]\nredirect 2\n"
     ]
    }
   ],
   "source": [
    "# LIFO: last in, first out\n",
    "# Browser uses this functionality to hold your browing history when you click the back button\n",
    "\n",
    "browsing_session = []\n",
    "\n",
    "browsing_session.append(1)\n",
    "browsing_session.append(2)\n",
    "browsing_session.append(3)\n",
    "\n",
    "print(browsing_session)\n",
    "\n",
    "last = browsing_session.pop()\n",
    "print(last)\n",
    "\n",
    "print(browsing_session)\n",
    "\n",
    "print(\"redirect\",browsing_session[-1])\n",
    "\n",
    "if not browsing_session:\n",
    "    print(\"disable back button\")"
   ]
  },
  {
   "source": [
    "# Queues"
   ],
   "cell_type": "markdown",
   "metadata": {}
  },
  {
   "cell_type": "code",
   "execution_count": 17,
   "metadata": {},
   "outputs": [
    {
     "output_type": "stream",
     "name": "stdout",
     "text": [
      "deque([2, 3])\ndeque([2])\n"
     ]
    }
   ],
   "source": [
    "# FIFO: First In, First Out\n",
    "\n",
    "from collections import deque\n",
    "\n",
    "queue = deque([])\n",
    "\n",
    "queue.append(1)\n",
    "queue.append(2)\n",
    "queue.append(3)\n",
    "\n",
    "queue.popleft()\n",
    "\n",
    "print(queue)\n",
    "\n",
    "queue.pop()\n",
    "\n",
    "print(queue)\n",
    "\n",
    "if not queue:\n",
    "    print(\"Empty\")"
   ]
  },
  {
   "source": [
    "# Tuples"
   ],
   "cell_type": "markdown",
   "metadata": {}
  },
  {
   "cell_type": "code",
   "execution_count": 19,
   "metadata": {},
   "outputs": [
    {
     "output_type": "stream",
     "name": "stdout",
     "text": [
      "1 2\n"
     ]
    }
   ],
   "source": [
    "# Essentially a read-only list\n",
    "\n",
    "point = (1, 2) #use parantheses\n",
    "\n",
    "x, y = point\n",
    "\n",
    "print(x, y)\n",
    "\n",
    "if 10 in point:\n",
    "    print(\"exists\")"
   ]
  },
  {
   "cell_type": "code",
   "execution_count": 20,
   "metadata": {},
   "outputs": [
    {
     "output_type": "error",
     "ename": "TypeError",
     "evalue": "'tuple' object does not support item assignment",
     "traceback": [
      "\u001b[1;31m---------------------------------------------------------------------------\u001b[0m",
      "\u001b[1;31mTypeError\u001b[0m                                 Traceback (most recent call last)",
      "\u001b[1;32m<ipython-input-20-dd5b7e539ab1>\u001b[0m in \u001b[0;36m<module>\u001b[1;34m\u001b[0m\n\u001b[0;32m      1\u001b[0m \u001b[0mpoint\u001b[0m \u001b[1;33m=\u001b[0m \u001b[1;33m(\u001b[0m\u001b[1;36m1\u001b[0m\u001b[1;33m,\u001b[0m \u001b[1;36m2\u001b[0m\u001b[1;33m)\u001b[0m\u001b[1;33m\u001b[0m\u001b[1;33m\u001b[0m\u001b[0m\n\u001b[0;32m      2\u001b[0m \u001b[1;33m\u001b[0m\u001b[0m\n\u001b[1;32m----> 3\u001b[1;33m \u001b[0mpoint\u001b[0m\u001b[1;33m[\u001b[0m\u001b[1;36m0\u001b[0m\u001b[1;33m]\u001b[0m \u001b[1;33m=\u001b[0m \u001b[1;36m10\u001b[0m \u001b[1;31m# this will not work. Tuples are immutable\u001b[0m\u001b[1;33m\u001b[0m\u001b[1;33m\u001b[0m\u001b[0m\n\u001b[0m",
      "\u001b[1;31mTypeError\u001b[0m: 'tuple' object does not support item assignment"
     ]
    }
   ],
   "source": [
    "point = (1, 2)\n",
    "\n",
    "point[0] = 10 # this will not work. Tuples are immutable"
   ]
  },
  {
   "source": [
    "## When to use a Tuple\n",
    "\n",
    "When you need to prevent accidental removal or additonal of an element. "
   ],
   "cell_type": "markdown",
   "metadata": {}
  },
  {
   "source": [
    "# Swapping Variabls"
   ],
   "cell_type": "markdown",
   "metadata": {}
  },
  {
   "cell_type": "code",
   "execution_count": null,
   "metadata": {},
   "outputs": [],
   "source": [
    "x = 10\n",
    "\n",
    "y = 11\n",
    "\n",
    "z = x\n",
    "\n",
    "y = z \n",
    "\n",
    "x = y"
   ]
  },
  {
   "cell_type": "code",
   "execution_count": 21,
   "metadata": {},
   "outputs": [],
   "source": [
    "x = 10\n",
    "\n",
    "y = 11\n",
    "\n",
    "x, y = y, x"
   ]
  },
  {
   "source": [
    "# Arrays"
   ],
   "cell_type": "markdown",
   "metadata": {}
  },
  {
   "cell_type": "code",
   "execution_count": 22,
   "metadata": {},
   "outputs": [
    {
     "output_type": "stream",
     "name": "stdout",
     "text": [
      "array('i', [1, 2, 3, 4])\n"
     ]
    }
   ],
   "source": [
    "# Only use Arrays if you are working with big data\n",
    "\n",
    "from array import array\n",
    "\n",
    "numbers = array(\"i\", [1,2,3])\n",
    "\n",
    "numbers.append(4)\n",
    "\n",
    "print(numbers)"
   ]
  },
  {
   "source": [
    "When using Arrays, they are 'typed' which means that if the array holds integer values, it will only hold integer values. \n",
    "\n",
    "If it is float values, only float values will be held, and so on and so forth. "
   ],
   "cell_type": "markdown",
   "metadata": {}
  },
  {
   "source": [
    "# Sets\n",
    "\n",
    "Set: Unordered list of unique items."
   ],
   "cell_type": "markdown",
   "metadata": {}
  },
  {
   "cell_type": "code",
   "execution_count": 2,
   "metadata": {},
   "outputs": [
    {
     "output_type": "stream",
     "name": "stdout",
     "text": [
      "{1, 2, 3, 4, 5}\n{1}\n{2, 3, 4}\n{2, 3, 4, 5}\nYes\n"
     ]
    }
   ],
   "source": [
    "# collection with no duplicates\n",
    "\n",
    "numbers = [1,1,1,1,2,3,4]\n",
    "\n",
    "first = set(numbers)\n",
    "\n",
    "second = {1,5}\n",
    "\n",
    "print(first | second) # Union of two sets: either in the first or second set\n",
    "print(first & second) # Shows items which existis in all sets\n",
    "print(first - second) # Difference in set\n",
    "print(first ^ second) # Symmetric difference: either in first or second set but not both\n",
    "\n",
    "if 1 in first:\n",
    "    print(\"Yes\")"
   ]
  },
  {
   "source": [
    "Sets do not support indexing. So you cannot get an element by index value. "
   ],
   "cell_type": "markdown",
   "metadata": {}
  },
  {
   "source": [
    "\n",
    "# Disctionaries"
   ],
   "cell_type": "markdown",
   "metadata": {}
  },
  {
   "cell_type": "code",
   "execution_count": 12,
   "metadata": {},
   "outputs": [
    {
     "output_type": "stream",
     "name": "stdout",
     "text": [
      "0\n{'y': 2, 'z': 20}\ny 2\nz 20\ny 2\nz 20\n"
     ]
    }
   ],
   "source": [
    "# Key-Value pairs\n",
    "\n",
    "point = {\n",
    "    \"x\": 1,\n",
    "    \"y\": 2\n",
    "}\n",
    "\n",
    "point = dict(x=1, y=2)\n",
    "\n",
    "point[\"x\"]\n",
    "\n",
    "point.keys()\n",
    "\n",
    "point[\"z\"] = 20\n",
    "\n",
    "if \"a\" in point:\n",
    "    print(point[\"a\"])\n",
    "\n",
    "print(point.get(\"a\", 0))\n",
    "\n",
    "del point[\"x\"]\n",
    "print(point)\n",
    "\n",
    "for key in point:\n",
    "    print(key, point[key])\n",
    "\n",
    "for key, value in point.items():\n",
    "    print(key, value)"
   ]
  },
  {
   "source": [
    "# Dictionary Comprehensions\n",
    "\n",
    "Dictionary: A set of key, value pairs. \n",
    "\n",
    "We can use List Comprehension with a dictionary. "
   ],
   "cell_type": "markdown",
   "metadata": {}
  },
  {
   "cell_type": "code",
   "execution_count": 16,
   "metadata": {},
   "outputs": [
    {
     "output_type": "stream",
     "name": "stdout",
     "text": [
      "[0, 2, 4, 6, 8]\n[0, 2, 4, 6, 8]\n"
     ]
    }
   ],
   "source": [
    "values = []\n",
    "\n",
    "for x in range(5):\n",
    "    values.append(x * 2)\n",
    "\n",
    "print(values)\n",
    "\n",
    "\n",
    "values = [x * 2 for x in range(5)]\n",
    "print(values)"
   ]
  },
  {
   "cell_type": "code",
   "execution_count": 17,
   "metadata": {},
   "outputs": [
    {
     "output_type": "stream",
     "name": "stdout",
     "text": [
      "{0, 2, 4, 6, 8}\n"
     ]
    }
   ],
   "source": [
    "# We can do this with sets and dictionaries as well\n",
    "\n",
    "values = {x * 2 for x in range(5)}\n",
    "print(values)"
   ]
  },
  {
   "cell_type": "code",
   "execution_count": 20,
   "metadata": {},
   "outputs": [
    {
     "output_type": "stream",
     "name": "stdout",
     "text": [
      "{0: 0, 1: 2, 2: 4, 3: 6, 4: 8}\n"
     ]
    }
   ],
   "source": [
    "# We can use this with dictionaries as well\n",
    "\n",
    "values = {x: x * 2 for x in range(5)}\n",
    "print(values)"
   ]
  },
  {
   "cell_type": "code",
   "execution_count": 21,
   "metadata": {},
   "outputs": [
    {
     "output_type": "stream",
     "name": "stdout",
     "text": [
      "<generator object <genexpr> at 0x000001F36F9A9EB0>\n"
     ]
    }
   ],
   "source": [
    "values = (X * 2 for x in range(5))\n",
    "print(values)"
   ]
  },
  {
   "source": [
    "# Generator Expressions\n",
    "\n",
    "Generator objects are iterable just like lists. \n",
    "\n",
    "We use these so we do not have to store large data-sets in memory."
   ],
   "cell_type": "markdown",
   "metadata": {}
  },
  {
   "cell_type": "code",
   "execution_count": 26,
   "metadata": {},
   "outputs": [
    {
     "output_type": "stream",
     "name": "stdout",
     "text": [
      "Generator:  112\n"
     ]
    }
   ],
   "source": [
    "from sys import getsizeof\n",
    "\n",
    "values = (x * 2 for x in range(100000))\n",
    "\n",
    "print(\"Generator: \", getsizeof(values)) # Generator objects store way less in memory than a list."
   ]
  },
  {
   "source": [
    "# Unpacking Operator"
   ],
   "cell_type": "markdown",
   "metadata": {}
  },
  {
   "cell_type": "code",
   "execution_count": 28,
   "metadata": {},
   "outputs": [
    {
     "output_type": "stream",
     "name": "stdout",
     "text": [
      "[1, 2, 3]\n1 2 3\n"
     ]
    }
   ],
   "source": [
    "numbers = [1,2,3]\n",
    "print(numbers) # You will get swuare brakcets. \n",
    "\n",
    "# Need to unpack\n",
    "\n",
    "print(*numbers)"
   ]
  },
  {
   "cell_type": "code",
   "execution_count": 33,
   "metadata": {},
   "outputs": [
    {
     "output_type": "stream",
     "name": "stdout",
     "text": [
      "[0, 1, 2, 3, 4, 'H', 'e', 'l', 'l', 'o']\n"
     ]
    }
   ],
   "source": [
    "#values = list(range(5))\n",
    "values = [*range(5), *\"Hello\"]\n",
    "print(values)"
   ]
  },
  {
   "cell_type": "code",
   "execution_count": 34,
   "metadata": {},
   "outputs": [
    {
     "output_type": "stream",
     "name": "stdout",
     "text": [
      "[1, 2, 'a,', 3, 'Hello']\n"
     ]
    }
   ],
   "source": [
    "# Can combine lists...\n",
    "\n",
    "first = [1,2]\n",
    "second = [3]\n",
    "values = [*first, \"a,\", *second, \"Hello\"]\n",
    "print(values)"
   ]
  },
  {
   "cell_type": "code",
   "execution_count": 35,
   "metadata": {},
   "outputs": [
    {
     "output_type": "stream",
     "name": "stdout",
     "text": [
      "{'x': 10, 'y': 2, 'Z': 1}\n"
     ]
    }
   ],
   "source": [
    "# unpacking dictionaries\n",
    "\n",
    "first = {\"x\": 1} # This value won't appear\n",
    "second = {\"x\": 10, \"y\": 2} # We use the last value given to a key. --> 10 is the last value given\n",
    "\n",
    "combined = {**first, **second, \"Z\":1}\n",
    "\n",
    "print(combined)"
   ]
  },
  {
   "source": [
    "# Exercise\n",
    "\n",
    "Need to write a program to find the most repeated character in the list.\n",
    "\n",
    "sentence = \"This is a common interview question\""
   ],
   "cell_type": "markdown",
   "metadata": {}
  },
  {
   "cell_type": "code",
   "execution_count": 42,
   "metadata": {},
   "outputs": [
    {
     "output_type": "stream",
     "name": "stdout",
     "text": [
      "('i', 5)\n"
     ]
    }
   ],
   "source": [
    "from pprint import pprint\n",
    "\n",
    "sentence = \"This is a common interview question\"\n",
    "\n",
    "char_frequency = {}\n",
    "\n",
    "for char in sentence:\n",
    "    if char in char_frequency:\n",
    "        char_frequency[char] += 1\n",
    "    else:\n",
    "        char_frequency[char] = 1\n",
    "\n",
    "char_frequency_sorted = sorted(\n",
    "    char_frequency.items(), # we are getting the key-value pairs from the dictionary as a tuple\n",
    "    key=lambda kv:kv[1], # We are just keeting the second index value from the key-value pair and we are sorting on that\n",
    "    reverse=True) # We want to reverse the list so the largest item is first\n",
    "\n",
    "print(char_frequency_sorted[0]) # We just need the first repeated character so we will return only that value"
   ]
  },
  {
   "cell_type": "code",
   "execution_count": 51,
   "metadata": {},
   "outputs": [
    {
     "output_type": "stream",
     "name": "stdout",
     "text": [
      "The 1 is repeated 14 times, so it is the most frequent number.\n"
     ]
    }
   ],
   "source": [
    "numbers = [1,1,1,1,1,1,1,1,1,1,1,1,1,1,2,3,4,5,6,6,6,6,6,66,6,6,7,8,9,9,9,9,9,10,11,12,13,13,14,15,16,17,17,17,17,17,80,90,88,77,66,66,66,55]\n",
    "\n",
    "num_frequency = {}\n",
    "\n",
    "for num in numbers:\n",
    "    if num in num_frequency:\n",
    "        num_frequency[num] += 1\n",
    "    else:\n",
    "        num_frequency[num] = 1\n",
    "\n",
    "num_frequency_sorted = sorted(\n",
    "    num_frequency.items(), # returning items from the dictionary as tuples\n",
    "    key=lambda nums:nums[1], # getting the index of 1 which is the number of times repeated\n",
    "    reverse=True # Reversing the list so the most frequent numbers are first\n",
    ")\n",
    "\n",
    "number, repeated = num_frequency_sorted[0] # What I am doing is since there are two values in the tuple I am giving each value a variable. \n",
    "\n",
    "print(F\"The {number} is repeated {repeated} times, so it is the most frequent number.\")\n"
   ]
  },
  {
   "cell_type": "code",
   "execution_count": null,
   "metadata": {},
   "outputs": [],
   "source": []
  }
 ]
}