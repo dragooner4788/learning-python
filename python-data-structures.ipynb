{
 "metadata": {
  "language_info": {
   "codemirror_mode": {
    "name": "ipython",
    "version": 3
   },
   "file_extension": ".py",
   "mimetype": "text/x-python",
   "name": "python",
   "nbconvert_exporter": "python",
   "pygments_lexer": "ipython3",
   "version": "3.9.2-final"
  },
  "orig_nbformat": 2,
  "kernelspec": {
   "name": "python3",
   "display_name": "Python 3.9.2 64-bit",
   "metadata": {
    "interpreter": {
     "hash": "5122ed099dc5123678099b7db7e8f3488f5555799320b736a8038161c49cbd3b"
    }
   }
  }
 },
 "nbformat": 4,
 "nbformat_minor": 2,
 "cells": [
  {
   "source": [
    "# Lists\n",
    "\n",
    "*List*: a collections of items in a particular order.\n",
    "\n",
    "You can have:\n",
    "- Numbers\n",
    "- Letters\n",
    "- Lists of Lists\n",
    "- Combined type Lists\n",
    "- Multiply lists\n",
    "\n",
    "Lists look like this:\n",
    "\n",
    "```\n",
    "names = [\"John\", \"Jessica\", \"Jennifer\"]\n",
    "```\n",
    "\n",
    "Lists use these kinds of brackets:\n",
    "\n",
    "```\n",
    "[]\n",
    "```\n",
    "\n",
    "*Index*: Position that an item is at in a collection such as a list. \n",
    "\n",
    "```\n",
    "bicycles = [\"Canondale\", \"Specialized\"]\n",
    "\n",
    "bicycles[0] --> this will get Canondale\n",
    "```\n",
    "Indexes start at 0 in most programming languages."
   ],
   "cell_type": "markdown",
   "metadata": {}
  },
  {
   "cell_type": "code",
   "execution_count": 7,
   "metadata": {},
   "outputs": [
    {
     "output_type": "stream",
     "name": "stdout",
     "text": [
      "Blue\nRed\nGreen\n"
     ]
    }
   ],
   "source": [
    "colors = [\"Blue\", \"Red\", \"Green\"]\n",
    "\n",
    "for color in colors:\n",
    "    print(color)"
   ]
  },
  {
   "cell_type": "code",
   "execution_count": 9,
   "metadata": {},
   "outputs": [
    {
     "output_type": "stream",
     "name": "stdout",
     "text": [
      "canondale\n"
     ]
    }
   ],
   "source": [
    "# Getting index value\n",
    "\n",
    "bicycles = [\"Canondale\", \"Redline\", \"Specialized\", \"Huffy\"]\n",
    "\n",
    "# Can still use string manipulation on the string items. \n",
    "print(bicycles[0].lower()) "
   ]
  },
  {
   "cell_type": "code",
   "execution_count": 10,
   "metadata": {},
   "outputs": [
    {
     "output_type": "stream",
     "name": "stdout",
     "text": [
      "Huffy\n"
     ]
    }
   ],
   "source": [
    "# get last index value\n",
    "\n",
    "bicycles = [\"Canondale\", \"Redline\", \"Specialized\", \"Huffy\"]\n",
    "\n",
    "print(bicycles[-1])"
   ]
  },
  {
   "cell_type": "code",
   "execution_count": 12,
   "metadata": {},
   "outputs": [
    {
     "output_type": "stream",
     "name": "stdout",
     "text": [
      "My first bike was a Specialized.\n"
     ]
    }
   ],
   "source": [
    "# getting values from list and using in message\n",
    "\n",
    "message = f\"My first bike was a {bicycles[2]}.\"\n",
    "\n",
    "print (\n",
    "    message\n",
    ")"
   ]
  },
  {
   "cell_type": "code",
   "execution_count": 13,
   "metadata": {},
   "outputs": [
    {
     "output_type": "stream",
     "name": "stdout",
     "text": [
      "['Apples', 'Grapes', 'Bananas']\n['Tomatoes', 'Grapes', 'Bananas']\n"
     ]
    }
   ],
   "source": [
    "# modifying an item at a certain index position\n",
    "\n",
    "fruits = [\"Apples\", \"Grapes\", \"Bananas\"]\n",
    "\n",
    "print(fruits)\n",
    "\n",
    "# Change value at position 0 in the index\n",
    "fruits[0] = \"Tomatoes\"\n",
    "\n",
    "print(fruits)"
   ]
  },
  {
   "cell_type": "code",
   "execution_count": 16,
   "metadata": {},
   "outputs": [
    {
     "output_type": "stream",
     "name": "stdout",
     "text": [
      "['user1', 'user2', 'user3']\n['user1', 'user2', 'user3', 'user4']\n['user2', 'user3', 'user4']\n"
     ]
    }
   ],
   "source": [
    "# adding and removing elements from a list\n",
    "\n",
    "# Initialize list of users\n",
    "users = [\"user1\", \"user2\", \"user3\"]\n",
    "\n",
    "print(users)\n",
    "\n",
    "# Append user4\n",
    "users.append(\"user4\")\n",
    "\n",
    "print(users)\n",
    "\n",
    "# Remove user1\n",
    "users.pop(0)\n",
    "\n",
    "print(users)"
   ]
  },
  {
   "cell_type": "code",
   "execution_count": 18,
   "metadata": {},
   "outputs": [
    {
     "output_type": "stream",
     "name": "stdout",
     "text": [
      "['Carrots', 'Spinach', 'Lettuce', 'Green Beans']\n['Potatoes', 'Carrots', 'Spinach', 'Lettuce', 'Green Beans']\n['Potatoes', 'Carrots', 'Radishes', 'Spinach', 'Lettuce', 'Green Beans']\n"
     ]
    }
   ],
   "source": [
    "vegetables = [\"Carrots\", \"Spinach\", \"Lettuce\", \"Green Beans\"]\n",
    "\n",
    "print(vegetables)\n",
    "\n",
    "# using the insert method to insert potatoes at index 0\n",
    "vegetables.insert(0, \"Potatoes\")\n",
    "\n",
    "print(vegetables)\n",
    "\n",
    "# can insert values at any index as show by the following example\n",
    "vegetables.insert(2, \"Radishes\")\n",
    "\n",
    "print(vegetables)"
   ]
  },
  {
   "cell_type": "code",
   "execution_count": 20,
   "metadata": {},
   "outputs": [
    {
     "output_type": "stream",
     "name": "stdout",
     "text": [
      "['Carrots', 'Spinach', 'Lettuce', 'Green Beans']\nCarrots are in the list Vegetables\n['Spinach', 'Lettuce', 'Green Beans']\nCarrots are not in the list Vegetables\n"
     ]
    }
   ],
   "source": [
    "vegetables = [\"Carrots\", \"Spinach\", \"Lettuce\", \"Green Beans\"]\n",
    "\n",
    "print(vegetables)\n",
    "\n",
    "if \"Carrots\" in vegetables:\n",
    "    print(\"Carrots are in the list Vegetables\")\n",
    "# using del to delete an item at a specific index\n",
    "del vegetables[0]\n",
    "\n",
    "print(vegetables)\n",
    "\n",
    "if \"Carrots\" in vegetables:\n",
    "    print(\"Carrots are in the list Vegetables\")\n",
    "else:\n",
    "    print(\"Carrots are not in the list Vegetables\")"
   ]
  },
  {
   "source": [
    "The keyword ```del``` is just deleting an item from the list and you cannot work with it after it has been removed from the list. \n",
    "\n",
    "The method ```pop()``` allows you to remove the last item from a list and then you are able to still hold onto that value if it's help in a variable.\n",
    "\n",
    "## Using the pop() method"
   ],
   "cell_type": "markdown",
   "metadata": {}
  },
  {
   "cell_type": "code",
   "execution_count": 21,
   "metadata": {},
   "outputs": [
    {
     "output_type": "stream",
     "name": "stdout",
     "text": [
      "['yamaha', 'honda', 'suzuki']\n['yamaha', 'honda']\nsuzuki\n"
     ]
    }
   ],
   "source": [
    "# getting the last item in the list using pop()\n",
    "motorcycles = [\"yamaha\", \"honda\", \"suzuki\"]\n",
    "\n",
    "print(motorcycles)\n",
    "\n",
    "popped_motorcycle = motorcycles.pop()\n",
    "\n",
    "print(motorcycles)\n",
    "\n",
    "print(popped_motorcycle)"
   ]
  },
  {
   "cell_type": "code",
   "execution_count": 23,
   "metadata": {},
   "outputs": [
    {
     "output_type": "stream",
     "name": "stdout",
     "text": [
      "['yamaha', 'honda', 'suzuki']\n['honda', 'suzuki']\nThe first motocycle I woned was a Yamaha.\n"
     ]
    }
   ],
   "source": [
    "# getting any item using index from the list using pop()\n",
    "motorcycles = [\"yamaha\", \"honda\", \"suzuki\"]\n",
    "\n",
    "print(motorcycles)\n",
    "\n",
    "first_owned = motorcycles.pop(0)\n",
    "\n",
    "print(motorcycles)\n",
    "\n",
    "print(f\"The first motocycle I woned was a {first_owned.title()}.\")\n"
   ]
  },
  {
   "source": [
    "## Using the remove() method.\n",
    "\n",
    "We can use the remove() method when we only know the value of the item and not the index at which it is stored."
   ],
   "cell_type": "markdown",
   "metadata": {}
  },
  {
   "cell_type": "code",
   "execution_count": 24,
   "metadata": {},
   "outputs": [
    {
     "output_type": "stream",
     "name": "stdout",
     "text": [
      "['yamaha', 'honda', 'suzuki', 'ducati']\n['yamaha', 'honda', 'suzuki']\n"
     ]
    }
   ],
   "source": [
    "# using the remove() method to remove ducati from the list\n",
    "\n",
    "motorcycles = [\"yamaha\", \"honda\", \"suzuki\", \"ducati\"]\n",
    "\n",
    "print(motorcycles)\n",
    "\n",
    "# removes the item by value from the list\n",
    "\n",
    "\n",
    "motorcycles.remove(\"ducati\")\n",
    "\n",
    "print(motorcycles)"
   ]
  },
  {
   "cell_type": "code",
   "execution_count": 25,
   "metadata": {},
   "outputs": [
    {
     "output_type": "stream",
     "name": "stdout",
     "text": [
      "['yamaha', 'honda', 'suzuki', 'ducati', 'ducati']\n['yamaha', 'honda', 'suzuki', 'ducati']\n"
     ]
    }
   ],
   "source": [
    "motorcycles = [\"yamaha\", \"honda\", \"suzuki\", \"ducati\", \"ducati\"]\n",
    "\n",
    "print(motorcycles)\n",
    "\n",
    "# only removes the first instance of ducati\n",
    "motorcycles.remove(\"ducati\")\n",
    "\n",
    "print(motorcycles)"
   ]
  },
  {
   "cell_type": "code",
   "execution_count": 27,
   "metadata": {},
   "outputs": [
    {
     "output_type": "stream",
     "name": "stdout",
     "text": [
      "['yamaha', 'honda', 'suzuki', 'ducati', 'ducati']\n['yamaha', 'honda', 'suzuki']\n"
     ]
    }
   ],
   "source": [
    "motorcycles = [\"yamaha\", \"honda\", \"suzuki\", \"ducati\", \"ducati\"]\n",
    "\n",
    "print(motorcycles)\n",
    "\n",
    "# removes all instances of ducati from the list\n",
    "while \"ducati\" in motorcycles:\n",
    "    motorcycles.remove(\"ducati\")\n",
    "\n",
    "print(motorcycles)"
   ]
  },
  {
   "cell_type": "code",
   "execution_count": 30,
   "metadata": {},
   "outputs": [
    {
     "output_type": "stream",
     "name": "stdout",
     "text": [
      "['yamaha', 'honda', 'suzuki', 'ducati', 'ducati']\n",
      "['yamaha', 'honda', 'suzuki']\n"
     ]
    }
   ],
   "source": [
    "# a better way\n",
    "\n",
    "motorcycles = [\"yamaha\", \"honda\", \"suzuki\", \"ducati\", \"ducati\"]\n",
    "\n",
    "print(motorcycles)\n",
    "\n",
    "delete_from_list = input(\"Remove which vehicle?>\")\n",
    "\n",
    "while delete_from_list in motorcycles:\n",
    "    motorcycles.remove(delete_from_list)\n",
    "\n",
    "print(motorcycles)"
   ]
  },
  {
   "cell_type": "code",
   "execution_count": 31,
   "metadata": {},
   "outputs": [
    {
     "output_type": "stream",
     "name": "stdout",
     "text": [
      "['yamaha', 'honda', 'suzuki', 'ducati', 'ducati']\n['yamaha', 'honda', 'suzuki']\nA Ducati is too expensive!\n"
     ]
    }
   ],
   "source": [
    "# too expensive\n",
    "\n",
    "motorcycles = [\"yamaha\", \"honda\", \"suzuki\", \"ducati\", \"ducati\"]\n",
    "\n",
    "print(motorcycles)\n",
    "\n",
    "too_expensive = 'ducati'\n",
    "\n",
    "while too_expensive in motorcycles:\n",
    "    motorcycles.remove(too_expensive)\n",
    "\n",
    "print(motorcycles)\n",
    "\n",
    "print(f\"A {too_expensive.title()} is too expensive!\")"
   ]
  },
  {
   "cell_type": "code",
   "execution_count": 29,
   "metadata": {},
   "outputs": [
    {
     "output_type": "stream",
     "name": "stdout",
     "text": [
      "11\n"
     ]
    }
   ],
   "source": [
    "letters = [\"a\", \"b\", \"c\"]\n",
    "\n",
    "numbers = [1,2,3]\n",
    "\n",
    "list_of_lists = [[0,1], [2,3]]\n",
    "\n",
    "zeroes = [0] * 5\n",
    "\n",
    "combined = zeroes + letters # We can combine types\n",
    "\n",
    "more_numbers = list(range(20))\n",
    "\n",
    "chars = list(\"Hello World\")\n",
    "\n",
    "print(len(chars))"
   ]
  },
  {
   "source": [
    "## The sort() method\n",
    "\n",
    "We can use the sort() method to easily organize our lists. \n",
    "\n",
    "We cannot control the input of our users, so using sort helps us to organize the data.\n",
    "\n",
    "When we use sort() the change is permanent."
   ],
   "cell_type": "markdown",
   "metadata": {}
  },
  {
   "cell_type": "code",
   "execution_count": 35,
   "metadata": {},
   "outputs": [
    {
     "output_type": "stream",
     "name": "stdout",
     "text": [
      "['audi', 'bmw', 'hyundai', 'subaru', 'toyota']\n"
     ]
    }
   ],
   "source": [
    "cars = [\"bmw\", \"audi\", \"subaru\", \"toyota\", \"hyundai\"]\n",
    "\n",
    "cars.sort()\n",
    "\n",
    "print(cars)"
   ]
  },
  {
   "cell_type": "code",
   "execution_count": 36,
   "metadata": {},
   "outputs": [
    {
     "output_type": "stream",
     "name": "stdout",
     "text": [
      "['toyota', 'subaru', 'hyundai', 'bmw', 'audi']\n"
     ]
    }
   ],
   "source": [
    "cars = [\"bmw\", \"audi\", \"subaru\", \"toyota\", \"hyundai\"]\n",
    "\n",
    "cars.sort(reverse=True)\n",
    "\n",
    "print(cars)"
   ]
  },
  {
   "source": [
    "## The sorted() function\n",
    "\n",
    "This allows us to temporarily sort a list but keep it original organization."
   ],
   "cell_type": "markdown",
   "metadata": {}
  },
  {
   "cell_type": "code",
   "execution_count": 38,
   "metadata": {},
   "outputs": [
    {
     "output_type": "stream",
     "name": "stdout",
     "text": [
      "['toyota', 'subaru', 'hyundai', 'bmw', 'audi']\n['bmw', 'audi', 'subaru', 'toyota', 'hyundai']\n"
     ]
    }
   ],
   "source": [
    "cars = [\"bmw\", \"audi\", \"subaru\", \"toyota\", \"hyundai\"]\n",
    "\n",
    "print(sorted(cars, reverse=True))\n",
    "\n",
    "print(cars)"
   ]
  },
  {
   "cell_type": "code",
   "execution_count": 39,
   "metadata": {},
   "outputs": [
    {
     "output_type": "stream",
     "name": "stdout",
     "text": [
      "['hyundai', 'toyota', 'subaru', 'audi', 'bmw']\n"
     ]
    }
   ],
   "source": [
    "cars = [\"bmw\", \"audi\", \"subaru\", \"toyota\", \"hyundai\"]\n",
    "\n",
    "cars.reverse()\n",
    "\n",
    "print(cars)"
   ]
  },
  {
   "cell_type": "code",
   "execution_count": 40,
   "metadata": {},
   "outputs": [
    {
     "output_type": "stream",
     "name": "stdout",
     "text": [
      "5\n"
     ]
    }
   ],
   "source": [
    "cars = [\"bmw\", \"audi\", \"subaru\", \"toyota\", \"hyundai\"]\n",
    "\n",
    "print(len(cars))"
   ]
  },
  {
   "source": [
    "# Accessing Items"
   ],
   "cell_type": "markdown",
   "metadata": {}
  },
  {
   "cell_type": "code",
   "execution_count": 39,
   "metadata": {},
   "outputs": [
    {
     "output_type": "stream",
     "name": "stdout",
     "text": [
      "a\nA\n['A', 'b', 'c']\n['A', 'b', 'c']\n['A', 'b', 'c', 'd']\n['A', 'c']\n[0, 2, 4, 6, 8, 10, 12, 14, 16, 18]\n[19, 17, 15, 13, 11, 9, 7, 5, 3, 1]\n"
     ]
    }
   ],
   "source": [
    "letters = [\"a\",\"b\",\"c\",\"d\"]\n",
    "\n",
    "print(letters[0])\n",
    "\n",
    "letters[0] = \"A\"\n",
    "\n",
    "print(letters[0])\n",
    "\n",
    "print(letters[0:3])\n",
    "\n",
    "print(letters[:3])\n",
    "\n",
    "print(letters[0:])\n",
    "\n",
    "print(letters[::2])\n",
    "\n",
    "numbers = list(range(20))\n",
    "\n",
    "print(numbers[::2])\n",
    "\n",
    "print(numbers[::-2])"
   ]
  },
  {
   "source": [
    "## Index Errors\n",
    "\n",
    "You can get an index error when you have an empyt list so there is nothing to return or when you try to receive an item at an index that does not exist."
   ],
   "cell_type": "markdown",
   "metadata": {}
  },
  {
   "cell_type": "code",
   "execution_count": 41,
   "metadata": {},
   "outputs": [
    {
     "output_type": "error",
     "ename": "IndexError",
     "evalue": "list index out of range",
     "traceback": [
      "\u001b[1;31m---------------------------------------------------------------------------\u001b[0m",
      "\u001b[1;31mIndexError\u001b[0m                                Traceback (most recent call last)",
      "\u001b[1;32m<ipython-input-41-1809203c0805>\u001b[0m in \u001b[0;36m<module>\u001b[1;34m\u001b[0m\n\u001b[0;32m      1\u001b[0m \u001b[0mbreeds_of_dog\u001b[0m \u001b[1;33m=\u001b[0m \u001b[1;33m[\u001b[0m\u001b[1;34m\"golden reteiver\"\u001b[0m\u001b[1;33m,\u001b[0m \u001b[1;34m\"labrador retriever\"\u001b[0m\u001b[1;33m,\u001b[0m \u001b[1;34m\"border collie\"\u001b[0m\u001b[1;33m,\u001b[0m \u001b[1;34m\"lhasa apso\"\u001b[0m\u001b[1;33m,\u001b[0m \u001b[1;34m\"pekingese\"\u001b[0m\u001b[1;33m]\u001b[0m\u001b[1;33m\u001b[0m\u001b[1;33m\u001b[0m\u001b[0m\n\u001b[0;32m      2\u001b[0m \u001b[1;33m\u001b[0m\u001b[0m\n\u001b[1;32m----> 3\u001b[1;33m \u001b[0mprint\u001b[0m\u001b[1;33m(\u001b[0m\u001b[0mbreeds_of_dog\u001b[0m\u001b[1;33m[\u001b[0m\u001b[1;36m5\u001b[0m\u001b[1;33m]\u001b[0m\u001b[1;33m)\u001b[0m\u001b[1;33m\u001b[0m\u001b[1;33m\u001b[0m\u001b[0m\n\u001b[0m",
      "\u001b[1;31mIndexError\u001b[0m: list index out of range"
     ]
    }
   ],
   "source": [
    "breeds_of_dog = [\"golden reteiver\", \"labrador retriever\", \"border collie\", \"lhasa apso\", \"pekingese\"]\n",
    "\n",
    "print(breeds_of_dog[5])"
   ]
  },
  {
   "source": [
    "# List Unpacking\n",
    "\n",
    "With list unpacking we can get the items we need from the list. \n",
    "\n",
    "Remember that you need to specify variables for the items you wish to unpack. \n",
    "\n",
    "For the items you don't need to unpack you can use the *args syntax to store the rest inside of another list."
   ],
   "cell_type": "markdown",
   "metadata": {}
  },
  {
   "cell_type": "code",
   "execution_count": 44,
   "metadata": {},
   "outputs": [],
   "source": [
    "numbers = [1,2,3]\n",
    "\n",
    "first, second, third = numbers # unpacking numbers into variables"
   ]
  },
  {
   "cell_type": "code",
   "execution_count": 46,
   "metadata": {},
   "outputs": [
    {
     "output_type": "stream",
     "name": "stdout",
     "text": [
      "1\n[3, 4, 4, 4, 4, 4]\n"
     ]
    }
   ],
   "source": [
    "numbers = [1,2,3,4,4,4,4,4]\n",
    "\n",
    "first, second, *other = numbers\n",
    "\n",
    "print(first)\n",
    "print(other)"
   ]
  },
  {
   "cell_type": "code",
   "execution_count": 47,
   "metadata": {},
   "outputs": [
    {
     "output_type": "stream",
     "name": "stdout",
     "text": [
      "1 9\n[2, 3, 4, 4, 4, 4]\n"
     ]
    }
   ],
   "source": [
    "numbers = [1,2,3,4,4,4,4,9]\n",
    "\n",
    "first, *other, last = numbers\n",
    "\n",
    "print(first, last)\n",
    "print(other)"
   ]
  },
  {
   "source": [
    "# Looping over Lists\n",
    "\n",
    "Each line which is indented after a loop is considered part of the loop and the loop will do those operations as long as the condition is true (or false). \n",
    "\n",
    "Ensure when you are writing loops that you are correctly indenting the blocks. \n",
    "\n",
    "```\n",
    "\n",
    "for x in y:\n",
    "    do something\n",
    "    do something else\n",
    "    do another thing\n",
    "```\n",
    "\n",
    "An example of improper indentation:\n",
    "\n",
    "```\n",
    "for x in y:\n",
    "    do something\n",
    "do something else <-- if you meant these to be in a loop, they will not be and will cause errors.\n",
    "do another thing\n",
    "```\n",
    "\n",
    "Just make sure that ANY line you need to be inside of a loop is in a loop. Not always will you receive an indentation error, you may just get a logical error where the program works but you do not get the result you wanted and this is possibly because you forgot to **indent** or **un-indent** some lines of code.\n",
    "\n",
    "*logical error*: When the code runs but the outcome is not the expected outcome of your code.\n",
    "\n",
    "Remember to add the colon at the end of a loop. For Example:\n",
    "\n",
    "```\n",
    "for x in y\n",
    "    print(x)\n",
    "```\n",
    "\n",
    "The above will create a syntax error because there is not a colon at the end of the loop.\n"
   ],
   "cell_type": "markdown",
   "metadata": {}
  },
  {
   "cell_type": "code",
   "execution_count": 49,
   "metadata": {},
   "outputs": [
    {
     "output_type": "stream",
     "name": "stdout",
     "text": [
      "a\nb\nc\n"
     ]
    }
   ],
   "source": [
    "letters = [\"a\", \"b\", \"c\"]\n",
    "\n",
    "for letter in letters: # enumerate over the items in the list without their index values\n",
    "    print(letter)"
   ]
  },
  {
   "cell_type": "code",
   "execution_count": 50,
   "metadata": {},
   "outputs": [
    {
     "output_type": "stream",
     "name": "stdout",
     "text": [
      "(0, 'a')\n(1, 'b')\n(2, 'c')\n"
     ]
    }
   ],
   "source": [
    "letters = [\"a\", \"b\", \"c\"]\n",
    "\n",
    "for letter in enumerate(letters): # enumerate over items in a list and also their index values\n",
    "    print(letter)"
   ]
  },
  {
   "cell_type": "code",
   "execution_count": 48,
   "metadata": {},
   "outputs": [
    {
     "output_type": "stream",
     "name": "stdout",
     "text": [
      "0 a\n1 b\n2 c\n"
     ]
    }
   ],
   "source": [
    "letters = [\"a\", \"b\", \"c\"]\n",
    "\n",
    "for letter in enumerate(letters): # enumberate of a list of items and we can get either the index or the values or both like we did here\n",
    "    print(letter[0], letter[1])"
   ]
  },
  {
   "cell_type": "code",
   "execution_count": 54,
   "metadata": {},
   "outputs": [
    {
     "output_type": "stream",
     "name": "stdout",
     "text": [
      "0 a\n"
     ]
    }
   ],
   "source": [
    "items = (0, \"a\")\n",
    "\n",
    "index, letter = items\n",
    "\n",
    "print(index, letter) # we can pack items into a tuple and then print them"
   ]
  },
  {
   "cell_type": "code",
   "execution_count": 55,
   "metadata": {},
   "outputs": [
    {
     "output_type": "stream",
     "name": "stdout",
     "text": [
      "0 a\n1 b\n2 c\n"
     ]
    }
   ],
   "source": [
    "letters = [\"a\", \"b\", \"c\"]\n",
    "\n",
    "for index, letter in enumerate(letters):\n",
    "    print(index, letter) # no longer need to specify position because we gave each idex position it's own variable here"
   ]
  },
  {
   "cell_type": "code",
   "execution_count": 42,
   "metadata": {},
   "outputs": [
    {
     "output_type": "stream",
     "name": "stdout",
     "text": [
      "alice\ndavid\ncarolina\n"
     ]
    }
   ],
   "source": [
    "def loop_list(list):\n",
    "    for element in list:\n",
    "        print(element)\n",
    "\n",
    "magicians = [\"alice\", \"david\", \"carolina\"]\n",
    "\n",
    "loop_list(magicians)"
   ]
  },
  {
   "cell_type": "code",
   "execution_count": 52,
   "metadata": {},
   "outputs": [
    {
     "output_type": "stream",
     "name": "stdout",
     "text": [
      "Alice , that was a great trick!\nDavid , that was a great trick!\nCarolina , that was a great trick!\n"
     ]
    }
   ],
   "source": [
    "# you can add more stuff to a for loop\n",
    "\n",
    "def loop_list(list, message=''):\n",
    "    for element in list:\n",
    "        print(f\"{element.title()} {message}\")\n",
    "\n",
    "magicians = [\"alice\", \"david\", \"carolina\"]\n",
    "\n",
    "message = \", that was a great trick!\"\n",
    "\n",
    "loop_list(magicians, message)"
   ]
  },
  {
   "cell_type": "code",
   "execution_count": 55,
   "metadata": {},
   "outputs": [
    {
     "output_type": "stream",
     "name": "stdout",
     "text": [
      "Alice, that was a great trick!\nI can't wait to see your next trick, Alice!\n\nDavid, that was a great trick!\nI can't wait to see your next trick, David!\n\nCarolina, that was a great trick!\nI can't wait to see your next trick, Carolina!\n\nThank you, everyone. That was a great magic show!\n"
     ]
    }
   ],
   "source": [
    "magicians = [\"alice\", \"david\", \"carolina\"]\n",
    "\n",
    "for magician in magicians:\n",
    "    print(f\"{magician.title()}, that was a great trick!\")\n",
    "    print(f\"I can't wait to see your next trick, {magician.title()}!\\n\")\n",
    "\n",
    "print(\"Thank you, everyone. That was a great magic show!\")"
   ]
  },
  {
   "source": [
    "# Adding or Removing Items"
   ],
   "cell_type": "markdown",
   "metadata": {}
  },
  {
   "cell_type": "code",
   "execution_count": 65,
   "metadata": {},
   "outputs": [
    {
     "output_type": "stream",
     "name": "stdout",
     "text": [
      "['a', 'b', 'c']\n['a', 'b', 'c', 'd']\n['Letters: ', 'a', 'b', 'c', 'd']\n['Letters: ', 'a', 'b', 'c']\n['a', 'b', 'c']\n['a', 'c']\n[]\n['a', 'b', 'c']\n[]\n"
     ]
    }
   ],
   "source": [
    "letters = [\"a\", \"b\", \"c\"]\n",
    "\n",
    "print(letters) # TO show the default list before alterations\n",
    "\n",
    "letters.append(\"d\") # Inset an item at the end of a list\n",
    "\n",
    "print(letters)\n",
    "\n",
    "letters.insert(0, \"Letters: \") # Insert an item at a position\n",
    "\n",
    "print(letters)\n",
    "\n",
    "# Removing Items\n",
    "\n",
    "letters.pop() # removes the item in the last position\n",
    "\n",
    "print(letters)\n",
    "\n",
    "letters.pop(0)\n",
    "\n",
    "print(letters)\n",
    "\n",
    "letters.remove(\"b\")\n",
    "\n",
    "print(letters)\n",
    "\n",
    "del letters[0:3]\n",
    "\n",
    "print(letters)\n",
    "\n",
    "letters = [\"a\", \"b\", \"c\"]\n",
    "\n",
    "print(letters)\n",
    "\n",
    "letters.clear()\n",
    "\n",
    "print(letters)"
   ]
  },
  {
   "source": [
    "# Finding Items"
   ],
   "cell_type": "markdown",
   "metadata": {}
  },
  {
   "cell_type": "code",
   "execution_count": 66,
   "metadata": {},
   "outputs": [
    {
     "output_type": "stream",
     "name": "stdout",
     "text": [
      "0\n"
     ]
    }
   ],
   "source": [
    "letters = [\"a\", \"b\", \"c\"]\n",
    "\n",
    "print(letters.index(\"a\"))"
   ]
  },
  {
   "cell_type": "code",
   "execution_count": null,
   "metadata": {},
   "outputs": [],
   "source": [
    "letters = [\"a\", \"b\", \"c\"]\n",
    "\n",
    "if \"d\" in letters:\n",
    "    print(letters.index(\"d\"))"
   ]
  },
  {
   "cell_type": "code",
   "execution_count": 67,
   "metadata": {},
   "outputs": [
    {
     "output_type": "stream",
     "name": "stdout",
     "text": [
      "0\n"
     ]
    }
   ],
   "source": [
    "letters = [\"a\", \"b\", \"c\"]\n",
    "\n",
    "get_letter = input(\"Enter a letter: \")\n",
    "\n",
    "if get_letter in letters:\n",
    "    print(letters.index(get_letter))"
   ]
  },
  {
   "source": [
    "# Sorting Lists"
   ],
   "cell_type": "markdown",
   "metadata": {}
  },
  {
   "cell_type": "code",
   "execution_count": 102,
   "metadata": {},
   "outputs": [
    {
     "output_type": "error",
     "ename": "SyntaxError",
     "evalue": "expression cannot contain assignment, perhaps you meant \"==\"? (<ipython-input-102-9f869d378771>, line 13)",
     "traceback": [
      "\u001b[1;36m  File \u001b[1;32m\"<ipython-input-102-9f869d378771>\"\u001b[1;36m, line \u001b[1;32m13\u001b[0m\n\u001b[1;33m    numbers.sort(key=lambda multiply: *2)\u001b[0m\n\u001b[1;37m                 ^\u001b[0m\n\u001b[1;31mSyntaxError\u001b[0m\u001b[1;31m:\u001b[0m expression cannot contain assignment, perhaps you meant \"==\"?\n"
     ]
    }
   ],
   "source": [
    "numbers = [3, 51, 2, 8, 6]\n",
    "\n",
    "print(numbers)\n",
    "\n",
    "numbers.sort()\n",
    "\n",
    "print(numbers)\n",
    "\n",
    "numbers.sort(reverse=True)\n",
    "\n",
    "print(numbers)"
   ]
  },
  {
   "cell_type": "code",
   "execution_count": 75,
   "metadata": {},
   "outputs": [
    {
     "output_type": "stream",
     "name": "stdout",
     "text": [
      "[3, 51, 8, 6]\n[3, 6, 8, 51]\n"
     ]
    }
   ],
   "source": [
    "numbers = [3, 51, 8, 6]\n",
    "\n",
    "print(numbers)\n",
    "\n",
    "print(sorted(numbers))"
   ]
  },
  {
   "cell_type": "code",
   "execution_count": 76,
   "metadata": {},
   "outputs": [
    {
     "output_type": "stream",
     "name": "stdout",
     "text": [
      "[3, 51, 8, 6]\n[51, 8, 6, 3]\n"
     ]
    }
   ],
   "source": [
    "numbers = [3, 51, 8, 6]\n",
    "\n",
    "print(numbers)\n",
    "\n",
    "print(sorted(numbers, reverse=True))"
   ]
  },
  {
   "cell_type": "code",
   "execution_count": 93,
   "metadata": {},
   "outputs": [
    {
     "output_type": "stream",
     "name": "stdout",
     "text": [
      "[('Product1', 10), ('Product2', 90), ('Product3', 20)]\n[('Product1', 10), ('Product3', 20), ('Product2', 90)]\n"
     ]
    }
   ],
   "source": [
    "# Sorting Tuples\n",
    "\n",
    "items = [\n",
    "    (\"Product1\", 10),\n",
    "    (\"Product2\", 90),\n",
    "    (\"Product3\", 20)\n",
    "]\n",
    "\n",
    "def sort_item(item): # function we defined\n",
    "    return item[1] # sorting by the value, not key. It's looking at the value and sorting by value\n",
    "print(items)\n",
    "\n",
    "items.sort(key=sort_item)\n",
    "\n",
    "print(items)"
   ]
  },
  {
   "cell_type": "code",
   "execution_count": 99,
   "metadata": {},
   "outputs": [
    {
     "output_type": "stream",
     "name": "stdout",
     "text": [
      "[('Product1', 10, 'a'), ('Product2', 90, 'b'), ('Product3', 20, 'c')]\n[('Product1', 10, 'a'), ('Product2', 90, 'b'), ('Product3', 20, 'c')]\n"
     ]
    }
   ],
   "source": [
    "# Sorting Tuples\n",
    "\n",
    "items = [\n",
    "    (\"Product1\", 10, 'a'), # you can add multiple values here\n",
    "    (\"Product2\", 90, 'b'),\n",
    "    (\"Product3\", 20, 'c')\n",
    "]\n",
    "\n",
    "def sort_item(item): # function we defined\n",
    "    return item[2] # sorting by the value, not key. It's looking at the value and sorting by value\n",
    "print(items)\n",
    "\n",
    "items.sort(key=sort_item) # Even thought sort will sort, we are using sort_items to sort on the RIGHT value. \n",
    "\n",
    "print(items)"
   ]
  },
  {
   "source": [
    "# range() Function\n",
    "\n",
    "The **range()** function will:\n",
    "- Start at the value provided\n",
    "- End at the value provided but not **include** the value. \n",
    "\n",
    "This is due to programmings off-by-one behavior.\n",
    "\n",
    "```\n",
    "\n",
    "for n in range(1,5):\n",
    "    print(n) ---> prints until 4, 5 not included\n",
    "\n",
    "```\n",
    "\n",
    "```\n",
    "\n",
    "for n in range(1,6):\n",
    "    print(n) ---> 5 included. You have to go up one from the value you want to include.\n",
    "\n",
    "```"
   ],
   "cell_type": "markdown",
   "metadata": {}
  },
  {
   "cell_type": "code",
   "execution_count": 56,
   "metadata": {},
   "outputs": [
    {
     "output_type": "stream",
     "name": "stdout",
     "text": [
      "1\n2\n3\n4\n"
     ]
    }
   ],
   "source": [
    "# using range; only prints values 1 through 4, does not include 5.\n",
    "\n",
    "for n in range(1,5):\n",
    "    print(n)"
   ]
  },
  {
   "cell_type": "code",
   "execution_count": 57,
   "metadata": {},
   "outputs": [
    {
     "output_type": "stream",
     "name": "stdout",
     "text": [
      "1\n2\n3\n4\n5\n"
     ]
    }
   ],
   "source": [
    "# to include 5\n",
    "\n",
    "for n in range(1,6):\n",
    "    print(n)"
   ]
  },
  {
   "cell_type": "code",
   "execution_count": 61,
   "metadata": {},
   "outputs": [
    {
     "output_type": "stream",
     "name": "stdout",
     "text": [
      "[1, 2, 3, 4, 5, 6, 7, 8, 9, 10]\n[0, 2, 4, 6, 8, 10]\n1 is not even.\n2 is even.\n3 is not even.\n4 is even.\n5 is not even.\n6 is even.\n7 is not even.\n8 is even.\n9 is not even.\n10 is even.\n"
     ]
    }
   ],
   "source": [
    "# using range() to make a list\n",
    "\n",
    "numbers = list(range(1,11))\n",
    "\n",
    "even_numbers = list(range(0,11,2))\n",
    "\n",
    "print(numbers)\n",
    "\n",
    "print(even_numbers)\n",
    "\n",
    "for n in numbers:\n",
    "    if (n % 2) == 0:\n",
    "        print(f\"{n} is even.\")\n",
    "    else:\n",
    "        print(f\"{n} is not even.\")"
   ]
  },
  {
   "cell_type": "code",
   "execution_count": 62,
   "metadata": {},
   "outputs": [
    {
     "output_type": "stream",
     "name": "stdout",
     "text": [
      "[1, 4, 9, 16, 25, 36, 49, 64, 81, 100]\n"
     ]
    }
   ],
   "source": [
    "squares = []\n",
    "\n",
    "for value in range(1,11):\n",
    "    square = value ** 2\n",
    "    squares.append(square)\n",
    "\n",
    "print(squares)"
   ]
  },
  {
   "cell_type": "code",
   "execution_count": 63,
   "metadata": {},
   "outputs": [
    {
     "output_type": "stream",
     "name": "stdout",
     "text": [
      "[1, 4, 9, 16, 25, 36, 49, 64, 81, 100]\n"
     ]
    }
   ],
   "source": [
    "squares = []\n",
    "\n",
    "for value in range(1,11):\n",
    "    squares.append(value ** 2)\n",
    "\n",
    "print(squares)"
   ]
  },
  {
   "cell_type": "code",
   "execution_count": 2,
   "metadata": {},
   "outputs": [
    {
     "output_type": "stream",
     "name": "stdout",
     "text": [
      "0\n1000\n500500\n500.0\n"
     ]
    }
   ],
   "source": [
    "digits = list(range(0,1_001))\n",
    "\n",
    "def get_average(list_item):\n",
    "    return (sum(list_item)/len(list_item))\n",
    "\n",
    "print(min(digits))\n",
    "\n",
    "print(max(digits))\n",
    "\n",
    "print(sum(digits))\n",
    "\n",
    "print(get_average(digits))"
   ]
  },
  {
   "source": [
    "# List Comprehensions"
   ],
   "cell_type": "markdown",
   "metadata": {}
  },
  {
   "cell_type": "code",
   "execution_count": 4,
   "metadata": {},
   "outputs": [
    {
     "output_type": "stream",
     "name": "stdout",
     "text": [
      "[1, 4, 9, 16, 25, 36, 49, 64, 81, 100]\n"
     ]
    }
   ],
   "source": [
    "squares = [values ** 2 for values in range(1,11)]\n",
    "\n",
    "print(squares)"
   ]
  },
  {
   "cell_type": "code",
   "execution_count": 6,
   "metadata": {},
   "outputs": [
    {
     "output_type": "stream",
     "name": "stdout",
     "text": [
      "Hello, Adam\nHello, Angela\nHello, Aaron\n"
     ]
    }
   ],
   "source": [
    "names = [\"Adam\", \"Angela\", \"Aaron\"]\n",
    "\n",
    "greet = [print(f\"Hello, {name}\") for name in names]"
   ]
  },
  {
   "source": [
    "# List Slices"
   ],
   "cell_type": "markdown",
   "metadata": {}
  },
  {
   "cell_type": "code",
   "execution_count": 10,
   "metadata": {},
   "outputs": [
    {
     "output_type": "stream",
     "name": "stdout",
     "text": [
      "['John', 'Veronica', 'William']\n['John', 'Veronica', 'William']\n['William', 'Holly', 'Jessica', 'Juliet', 'Gregory']\n"
     ]
    }
   ],
   "source": [
    "# list slices\n",
    "\n",
    "names = [\"John\", \"Veronica\", \"William\", \"Holly\", \"Jessica\", \"Juliet\", \"Gregory\"]\n",
    "\n",
    "print(names[0:3])\n",
    "\n",
    "print(names[:3])\n",
    "\n",
    "print(names[2:])"
   ]
  },
  {
   "cell_type": "code",
   "execution_count": 11,
   "metadata": {},
   "outputs": [
    {
     "output_type": "stream",
     "name": "stdout",
     "text": [
      "John\nVeronica\nWilliam\n"
     ]
    }
   ],
   "source": [
    "# list slices and loops\n",
    "names = [\"John\", \"Veronica\", \"William\", \"Holly\", \"Jessica\", \"Juliet\", \"Gregory\"]\n",
    "\n",
    "for name in names[:3]:\n",
    "    print(name)"
   ]
  },
  {
   "cell_type": "code",
   "execution_count": 15,
   "metadata": {},
   "outputs": [
    {
     "output_type": "stream",
     "name": "stdout",
     "text": [
      "['Falafel', 'Chipotle Bowl', 'Burrito']\n['Falafel', 'Chipotle Bowl', 'Burrito']\n['Falafel', 'Chipotle Bowl', 'Burrito']\n['Falafel', 'Chipotle Bowl', 'Burrito', 'Tacos']\n['Falafel', 'Chipotle Bowl', 'Burrito']\n['Falafel', 'Chipotle Bowl', 'Burrito', 'Tacos']\n['Falafel', 'Chipotle Bowl', 'Burrito']\n['Falafel', 'Chipotle Bowl', 'Burrito']\n['Falafel', 'Chipotle Bowl', 'Burrito']\n"
     ]
    }
   ],
   "source": [
    "favorite_foods = [\"Falafel\", \"Chipotle Bowl\", \"Burrito\"]\n",
    "\n",
    "copy_favorite_foods = favorite_foods[:]\n",
    "\n",
    "test = favorite_foods # this doesn't work because we are associating the values held in Favorite Foods to this is as well, so anything that gets added or removed to one will happen to both as well.\n",
    "\n",
    "print(favorite_foods)\n",
    "\n",
    "print(copy_favorite_foods)\n",
    "\n",
    "print(test)\n",
    "\n",
    "favorite_foods.append(\"Tacos\")\n",
    "\n",
    "print(favorite_foods)\n",
    "\n",
    "print(copy_favorite_foods)\n",
    "\n",
    "print(test)\n",
    "\n",
    "test.pop()\n",
    "\n",
    "print(favorite_foods)\n",
    "\n",
    "print(copy_favorite_foods)\n",
    "\n",
    "print(test)"
   ]
  },
  {
   "source": [
    "# Slice Exercises"
   ],
   "cell_type": "markdown",
   "metadata": {}
  },
  {
   "cell_type": "code",
   "execution_count": 17,
   "metadata": {},
   "outputs": [
    {
     "output_type": "stream",
     "name": "stdout",
     "text": [
      "['pepperoni', 'hawaiian', 'supreme', 'sausage']\n['pepperoni', 'hawaiian', 'supreme', 'cheese']\nFalse\n"
     ]
    }
   ],
   "source": [
    "my_pizzas = [\"pepperoni\", \"hawaiian\", \"supreme\"]\n",
    "\n",
    "friends_pizzas = my_pizzas[:]\n",
    "\n",
    "my_pizzas.append(\"sausage\")\n",
    "\n",
    "friends_pizzas.append(\"cheese\")\n",
    "\n",
    "print(my_pizzas)\n",
    "\n",
    "print(friends_pizzas)\n",
    "\n",
    "print(friends_pizzas == my_pizzas)"
   ]
  },
  {
   "cell_type": "code",
   "execution_count": null,
   "metadata": {},
   "outputs": [],
   "source": [
    "my_pizzas = [\"pepperoni\", \"hawaiian\", \"supreme\"]\n",
    "\n",
    "friends_pizzas = my_pizzas[:]\n",
    "\n",
    "my_pizzas.append(\"sausage\")\n",
    "\n",
    "friends_pizzas.append(\"cheese\")"
   ]
  },
  {
   "cell_type": "code",
   "execution_count": 23,
   "metadata": {},
   "outputs": [
    {
     "output_type": "stream",
     "name": "stdout",
     "text": [
      "pepperoni\nhawaiian\nsupreme\nsausage\npepperoni\nhawaiian\nsupreme\ncheese\n"
     ]
    }
   ],
   "source": [
    "my_pizzas = [\"pepperoni\", \"hawaiian\", \"supreme\"]\n",
    "\n",
    "friends_pizzas = my_pizzas[:]\n",
    "\n",
    "my_pizzas.append(\"sausage\")\n",
    "\n",
    "friends_pizzas.append(\"cheese\")\n",
    "\n",
    "for pizza in my_pizzas:\n",
    "    print(pizza)\n",
    "\n",
    "for pizza in friends_pizzas:\n",
    "    print(pizza)"
   ]
  },
  {
   "cell_type": "code",
   "execution_count": 25,
   "metadata": {},
   "outputs": [
    {
     "output_type": "stream",
     "name": "stdout",
     "text": [
      "1 x 1 = 1\n1 x 2 = 2\n1 x 3 = 3\n1 x 4 = 4\n1 x 5 = 5\n2 x 1 = 2\n2 x 2 = 4\n2 x 3 = 6\n2 x 4 = 8\n2 x 5 = 10\n3 x 1 = 3\n3 x 2 = 6\n3 x 3 = 9\n3 x 4 = 12\n3 x 5 = 15\n4 x 1 = 4\n4 x 2 = 8\n4 x 3 = 12\n4 x 4 = 16\n4 x 5 = 20\n5 x 1 = 5\n5 x 2 = 10\n5 x 3 = 15\n5 x 4 = 20\n5 x 5 = 25\n"
     ]
    }
   ],
   "source": [
    "numbers = [1, 2, 3, 4, 5]\n",
    "\n",
    "numbers_2 = [1, 2, 3, 4, 5]\n",
    "\n",
    "for x in numbers:\n",
    "    for y in numbers_2:\n",
    "        sum_num = x * y\n",
    "        print(f\"{x} x {y} = {sum_num}\")"
   ]
  },
  {
   "source": [
    "\n",
    "\n",
    "# Lambda Functions"
   ],
   "cell_type": "markdown",
   "metadata": {}
  },
  {
   "cell_type": "code",
   "execution_count": 100,
   "metadata": {},
   "outputs": [
    {
     "output_type": "stream",
     "name": "stdout",
     "text": [
      "[('Product1', 10), ('Product2', 90), ('Product3', 20)]\n"
     ]
    }
   ],
   "source": [
    "items = [\n",
    "    (\"Product1\", 10),\n",
    "    (\"Product2\", 90),\n",
    "    (\"Product3\", 20)\n",
    "]\n",
    "\n",
    "# accessing the methods available on the variable/list 'items', the variable hold a list of tuples. Tuples are immutable. \n",
    "# we are suing the sort function, and we are using a key saying to use a lambda and 'item' is the same as a parameter from above. we are passing the values/tuples from 'items' as an arugment into the parameter 'item' and saying to get index 1 which is the integer value in the tuple\n",
    "# we are then using the sort method to sort on the index value of 1 which are the ineger in the tuple\n",
    "items.sort(key=lambda item: item[1]) # we can just a one-off function here called a lambda, it's known as an anonymous function\n",
    "\n",
    "print(items)"
   ]
  },
  {
   "source": [
    "# Map Functions"
   ],
   "cell_type": "markdown",
   "metadata": {}
  },
  {
   "cell_type": "code",
   "execution_count": 104,
   "metadata": {},
   "outputs": [
    {
     "output_type": "stream",
     "name": "stdout",
     "text": [
      "[10, 90, 20]\n"
     ]
    }
   ],
   "source": [
    "# Just getting the prices from the Tuple\n",
    "items = [\n",
    "    (\"Product1\", 10),\n",
    "    (\"Product2\", 90),\n",
    "    (\"Product3\", 20)\n",
    "]\n",
    "\n",
    "prices = []\n",
    "\n",
    "for item in items:\n",
    "    prices.append(item[1])\n",
    "\n",
    "print(prices)"
   ]
  },
  {
   "cell_type": "code",
   "execution_count": 108,
   "metadata": {},
   "outputs": [
    {
     "output_type": "stream",
     "name": "stdout",
     "text": [
      "10\n90\n20\n"
     ]
    }
   ],
   "source": [
    "# A better way to get prices from Tuple.chars\n",
    "\n",
    "items = [\n",
    "    (\"Product1\", 10),\n",
    "    (\"Product2\", 90),\n",
    "    (\"Product3\", 20)\n",
    "]\n",
    "\n",
    "x = map(lambda item: item[1], items) # can iterate over a map to get the items out of the map\n",
    "for item in x:\n",
    "    print(item)"
   ]
  },
  {
   "cell_type": "code",
   "execution_count": 111,
   "metadata": {},
   "outputs": [
    {
     "output_type": "stream",
     "name": "stdout",
     "text": [
      "[10, 90, 20]\n[10, 20, 90]\n"
     ]
    }
   ],
   "source": [
    "# A similar way\n",
    "\n",
    "items = [\n",
    "    (\"Product1\", 10),\n",
    "    (\"Product2\", 90),\n",
    "    (\"Product3\", 20)\n",
    "]\n",
    "\n",
    "\n",
    "# defning a lambda for the map function. 'item' is the param, 'items' is the iterable.\n",
    "# using list to turn this map into a list\n",
    "# adding it to the prices variable\n",
    "prices = list(map(lambda item: item[1], items))\n",
    "\n",
    "print(prices)\n",
    "\n",
    "prices.sort()\n",
    "\n",
    "print(prices)"
   ]
  },
  {
   "source": [
    "# Filter Functions"
   ],
   "cell_type": "markdown",
   "metadata": {}
  },
  {
   "cell_type": "code",
   "execution_count": 124,
   "metadata": {},
   "outputs": [
    {
     "output_type": "stream",
     "name": "stdout",
     "text": [
      "[('Product2', 90), ('Product3', 20)]\n"
     ]
    }
   ],
   "source": [
    "items = [\n",
    "    (\"Product1\", 10),\n",
    "    (\"Product2\", 90),\n",
    "    (\"Product3\", 20)\n",
    "]\n",
    "\n",
    "x = list(filter(lambda item: item[1] > 10, items)) # Can transform into a list immediately\n",
    "\n",
    "print(x)"
   ]
  },
  {
   "cell_type": "code",
   "execution_count": 125,
   "metadata": {},
   "outputs": [
    {
     "output_type": "stream",
     "name": "stdout",
     "text": [
      "('Product2', 90)\n('Product3', 20)\n"
     ]
    }
   ],
   "source": [
    "items = [\n",
    "    (\"Product1\", 10),\n",
    "    (\"Product2\", 90),\n",
    "    (\"Product3\", 20)\n",
    "]\n",
    "\n",
    "x = filter( lambda item: item[1] > 10, items) # Can loop over the items and display the tuples\n",
    "\n",
    "for item in x:\n",
    "    print(item)"
   ]
  },
  {
   "source": [
    "# List Comprehensions"
   ],
   "cell_type": "markdown",
   "metadata": {}
  },
  {
   "cell_type": "code",
   "execution_count": 2,
   "metadata": {},
   "outputs": [
    {
     "output_type": "stream",
     "name": "stdout",
     "text": [
      "[10, 90, 20]\n"
     ]
    }
   ],
   "source": [
    "items = [\n",
    "    (\"Product1\", 10),\n",
    "    (\"Product2\", 90),\n",
    "    (\"Product3\", 20)\n",
    "]\n",
    "\n",
    "prices = [item[1] for item in items] # essentially using a loop. We are getting the values at index 1 for item in items.\n",
    "print(prices)"
   ]
  },
  {
   "cell_type": "code",
   "execution_count": 6,
   "metadata": {},
   "outputs": [
    {
     "output_type": "stream",
     "name": "stdout",
     "text": [
      "[('Product2', 90), ('Product3', 20)]\n"
     ]
    }
   ],
   "source": [
    "items = [\n",
    "    (\"Product1\", 10),\n",
    "    (\"Product2\", 90),\n",
    "    (\"Product3\", 20)\n",
    "]\n",
    "\n",
    "filtered = [item for item in items if item[1] > 10] # again, kinda like a loop. getting item for item in items. if item > 10, print it out\n",
    "print(filtered)"
   ]
  },
  {
   "source": [
    "# Zip Functions"
   ],
   "cell_type": "markdown",
   "metadata": {}
  },
  {
   "cell_type": "code",
   "execution_count": 10,
   "metadata": {},
   "outputs": [
    {
     "output_type": "execute_result",
     "data": {
      "text/plain": [
       "[(1, 10), (2, 20), (3, 30)]"
      ]
     },
     "metadata": {},
     "execution_count": 10
    }
   ],
   "source": [
    "list1 = [1,2,3]\n",
    "\n",
    "list2 = [10,20,30]\n",
    "\n",
    "list(zip(list1, list2)) # using built-in zip function"
   ]
  },
  {
   "cell_type": "code",
   "execution_count": 11,
   "metadata": {},
   "outputs": [
    {
     "output_type": "stream",
     "name": "stdout",
     "text": [
      "(1, 10)\n(2, 20)\n(3, 30)\n"
     ]
    }
   ],
   "source": [
    "list1 = [1,2,3]\n",
    "\n",
    "list2 = [10,20,30]\n",
    "\n",
    "x = zip(list1, list2)\n",
    "\n",
    "for i in x: # iterating over list using for loop\n",
    "    print(i)"
   ]
  },
  {
   "source": [
    "# Stacks"
   ],
   "cell_type": "markdown",
   "metadata": {}
  },
  {
   "cell_type": "code",
   "execution_count": 15,
   "metadata": {},
   "outputs": [
    {
     "output_type": "stream",
     "name": "stdout",
     "text": [
      "[1, 2, 3]\n3\n[1, 2]\nredirect 2\n"
     ]
    }
   ],
   "source": [
    "# LIFO: last in, first out\n",
    "# Browser uses this functionality to hold your browing history when you click the back button\n",
    "\n",
    "browsing_session = []\n",
    "\n",
    "browsing_session.append(1)\n",
    "browsing_session.append(2)\n",
    "browsing_session.append(3)\n",
    "\n",
    "print(browsing_session)\n",
    "\n",
    "last = browsing_session.pop()\n",
    "print(last)\n",
    "\n",
    "print(browsing_session)\n",
    "\n",
    "print(\"redirect\",browsing_session[-1])\n",
    "\n",
    "if not browsing_session:\n",
    "    print(\"disable back button\")"
   ]
  },
  {
   "source": [
    "# Queues"
   ],
   "cell_type": "markdown",
   "metadata": {}
  },
  {
   "cell_type": "code",
   "execution_count": 17,
   "metadata": {},
   "outputs": [
    {
     "output_type": "stream",
     "name": "stdout",
     "text": [
      "deque([2, 3])\ndeque([2])\n"
     ]
    }
   ],
   "source": [
    "# FIFO: First In, First Out\n",
    "\n",
    "from collections import deque\n",
    "\n",
    "queue = deque([])\n",
    "\n",
    "queue.append(1)\n",
    "queue.append(2)\n",
    "queue.append(3)\n",
    "\n",
    "queue.popleft()\n",
    "\n",
    "print(queue)\n",
    "\n",
    "queue.pop()\n",
    "\n",
    "print(queue)\n",
    "\n",
    "if not queue:\n",
    "    print(\"Empty\")"
   ]
  },
  {
   "source": [
    "# Tuples\n",
    "\n",
    "Tuples are collections of items in a list that cannot change. \n",
    "\n",
    "Tuples are *immutable* which means they cannot be changed."
   ],
   "cell_type": "markdown",
   "metadata": {}
  },
  {
   "cell_type": "code",
   "execution_count": 19,
   "metadata": {},
   "outputs": [
    {
     "output_type": "stream",
     "name": "stdout",
     "text": [
      "1 2\n"
     ]
    }
   ],
   "source": [
    "# Essentially a read-only list\n",
    "\n",
    "point = (1, 2) #use parantheses\n",
    "\n",
    "x, y = point\n",
    "\n",
    "print(x, y)\n",
    "\n",
    "if 10 in point:\n",
    "    print(\"exists\")"
   ]
  },
  {
   "cell_type": "code",
   "execution_count": 20,
   "metadata": {},
   "outputs": [
    {
     "output_type": "error",
     "ename": "TypeError",
     "evalue": "'tuple' object does not support item assignment",
     "traceback": [
      "\u001b[1;31m---------------------------------------------------------------------------\u001b[0m",
      "\u001b[1;31mTypeError\u001b[0m                                 Traceback (most recent call last)",
      "\u001b[1;32m<ipython-input-20-dd5b7e539ab1>\u001b[0m in \u001b[0;36m<module>\u001b[1;34m\u001b[0m\n\u001b[0;32m      1\u001b[0m \u001b[0mpoint\u001b[0m \u001b[1;33m=\u001b[0m \u001b[1;33m(\u001b[0m\u001b[1;36m1\u001b[0m\u001b[1;33m,\u001b[0m \u001b[1;36m2\u001b[0m\u001b[1;33m)\u001b[0m\u001b[1;33m\u001b[0m\u001b[1;33m\u001b[0m\u001b[0m\n\u001b[0;32m      2\u001b[0m \u001b[1;33m\u001b[0m\u001b[0m\n\u001b[1;32m----> 3\u001b[1;33m \u001b[0mpoint\u001b[0m\u001b[1;33m[\u001b[0m\u001b[1;36m0\u001b[0m\u001b[1;33m]\u001b[0m \u001b[1;33m=\u001b[0m \u001b[1;36m10\u001b[0m \u001b[1;31m# this will not work. Tuples are immutable\u001b[0m\u001b[1;33m\u001b[0m\u001b[1;33m\u001b[0m\u001b[0m\n\u001b[0m",
      "\u001b[1;31mTypeError\u001b[0m: 'tuple' object does not support item assignment"
     ]
    }
   ],
   "source": [
    "point = (1, 2)\n",
    "\n",
    "point[0] = 10 # this will not work. Tuples are immutable"
   ]
  },
  {
   "cell_type": "code",
   "execution_count": 27,
   "metadata": {},
   "outputs": [
    {
     "output_type": "stream",
     "name": "stdout",
     "text": [
      "200\n50\n"
     ]
    }
   ],
   "source": [
    "# Tuples DO have indexes, but you cannot change the value at a certain index. As references above. \n",
    "\n",
    "dimensions = (200, 50)\n",
    "\n",
    "print(dimensions[0])\n",
    "\n",
    "print(dimensions[1])"
   ]
  },
  {
   "cell_type": "code",
   "execution_count": 31,
   "metadata": {},
   "outputs": [
    {
     "output_type": "stream",
     "name": "stdout",
     "text": [
      "Current Dimensions are:\n\tHeight: 200\n\tWidth: 50\n\nChanged Dimensions are:\n\tHeight: 250\n\tWidth: 100\n\n"
     ]
    }
   ],
   "source": [
    "# The variable which holds a Tuple CAN be changed to a different value. We cannot just alter a the values. This is the strenght of things like Terraform for example. You can redefine a variable but you cannot alterate it in place. \n",
    "\n",
    "dimensions = (200, 50)\n",
    "\n",
    "print(f\"Current Dimensions are:\\n\\tHeight: {dimensions[0]}\\n\\tWidth: {dimensions[1]}\\n\")\n",
    "\n",
    "dimensions = (250, 100)\n",
    "\n",
    "print(f\"Changed Dimensions are:\\n\\tHeight: {dimensions[0]}\\n\\tWidth: {dimensions[1]}\\n\")"
   ]
  },
  {
   "source": [
    "## When to use a Tuple\n",
    "\n",
    "When you need to prevent accidental removal or additonal of an element. "
   ],
   "cell_type": "markdown",
   "metadata": {}
  },
  {
   "source": [
    "# Swapping Variabls"
   ],
   "cell_type": "markdown",
   "metadata": {}
  },
  {
   "cell_type": "code",
   "execution_count": null,
   "metadata": {},
   "outputs": [],
   "source": [
    "x = 10\n",
    "\n",
    "y = 11\n",
    "\n",
    "z = x\n",
    "\n",
    "y = z \n",
    "\n",
    "x = y"
   ]
  },
  {
   "cell_type": "code",
   "execution_count": 21,
   "metadata": {},
   "outputs": [],
   "source": [
    "x = 10\n",
    "\n",
    "y = 11\n",
    "\n",
    "x, y = y, x"
   ]
  },
  {
   "source": [
    "# Arrays"
   ],
   "cell_type": "markdown",
   "metadata": {}
  },
  {
   "cell_type": "code",
   "execution_count": 22,
   "metadata": {},
   "outputs": [
    {
     "output_type": "stream",
     "name": "stdout",
     "text": [
      "array('i', [1, 2, 3, 4])\n"
     ]
    }
   ],
   "source": [
    "# Only use Arrays if you are working with big data\n",
    "\n",
    "from array import array\n",
    "\n",
    "numbers = array(\"i\", [1,2,3])\n",
    "\n",
    "numbers.append(4)\n",
    "\n",
    "print(numbers)"
   ]
  },
  {
   "source": [
    "When using Arrays, they are 'typed' which means that if the array holds integer values, it will only hold integer values. \n",
    "\n",
    "If it is float values, only float values will be held, and so on and so forth. "
   ],
   "cell_type": "markdown",
   "metadata": {}
  },
  {
   "source": [
    "# Sets\n",
    "\n",
    "Set: Unordered list of unique items."
   ],
   "cell_type": "markdown",
   "metadata": {}
  },
  {
   "cell_type": "code",
   "execution_count": 2,
   "metadata": {},
   "outputs": [
    {
     "output_type": "stream",
     "name": "stdout",
     "text": [
      "{1, 2, 3, 4, 5}\n{1}\n{2, 3, 4}\n{2, 3, 4, 5}\nYes\n"
     ]
    }
   ],
   "source": [
    "# collection with no duplicates\n",
    "\n",
    "numbers = [1,1,1,1,2,3,4]\n",
    "\n",
    "first = set(numbers)\n",
    "\n",
    "second = {1,5}\n",
    "\n",
    "print(first | second) # Union of two sets: either in the first or second set\n",
    "print(first & second) # Shows items which existis in all sets\n",
    "print(first - second) # Difference in set\n",
    "print(first ^ second) # Symmetric difference: either in first or second set but not both\n",
    "\n",
    "if 1 in first:\n",
    "    print(\"Yes\")"
   ]
  },
  {
   "source": [
    "Sets do not support indexing. So you cannot get an element by index value. "
   ],
   "cell_type": "markdown",
   "metadata": {}
  },
  {
   "source": [
    "\n",
    "# Disctionaries"
   ],
   "cell_type": "markdown",
   "metadata": {}
  },
  {
   "cell_type": "code",
   "execution_count": 12,
   "metadata": {},
   "outputs": [
    {
     "output_type": "stream",
     "name": "stdout",
     "text": [
      "0\n{'y': 2, 'z': 20}\ny 2\nz 20\ny 2\nz 20\n"
     ]
    }
   ],
   "source": [
    "# Key-Value pairs\n",
    "\n",
    "point = {\n",
    "    \"x\": 1,\n",
    "    \"y\": 2\n",
    "}\n",
    "\n",
    "point = dict(x=1, y=2)\n",
    "\n",
    "point[\"x\"]\n",
    "\n",
    "point.keys()\n",
    "\n",
    "point[\"z\"] = 20\n",
    "\n",
    "if \"a\" in point:\n",
    "    print(point[\"a\"])\n",
    "\n",
    "print(point.get(\"a\", 0))\n",
    "\n",
    "del point[\"x\"]\n",
    "print(point)\n",
    "\n",
    "for key in point:\n",
    "    print(key, point[key])\n",
    "\n",
    "for key, value in point.items():\n",
    "    print(key, value)"
   ]
  },
  {
   "source": [
    "# Dictionary Comprehensions\n",
    "\n",
    "Dictionary: A set of key, value pairs. \n",
    "\n",
    "We can use List Comprehension with a dictionary. "
   ],
   "cell_type": "markdown",
   "metadata": {}
  },
  {
   "cell_type": "code",
   "execution_count": 16,
   "metadata": {},
   "outputs": [
    {
     "output_type": "stream",
     "name": "stdout",
     "text": [
      "[0, 2, 4, 6, 8]\n[0, 2, 4, 6, 8]\n"
     ]
    }
   ],
   "source": [
    "values = []\n",
    "\n",
    "for x in range(5):\n",
    "    values.append(x * 2)\n",
    "\n",
    "print(values)\n",
    "\n",
    "\n",
    "values = [x * 2 for x in range(5)]\n",
    "print(values)"
   ]
  },
  {
   "cell_type": "code",
   "execution_count": 17,
   "metadata": {},
   "outputs": [
    {
     "output_type": "stream",
     "name": "stdout",
     "text": [
      "{0, 2, 4, 6, 8}\n"
     ]
    }
   ],
   "source": [
    "# We can do this with sets and dictionaries as well\n",
    "\n",
    "values = {x * 2 for x in range(5)}\n",
    "print(values)"
   ]
  },
  {
   "cell_type": "code",
   "execution_count": 20,
   "metadata": {},
   "outputs": [
    {
     "output_type": "stream",
     "name": "stdout",
     "text": [
      "{0: 0, 1: 2, 2: 4, 3: 6, 4: 8}\n"
     ]
    }
   ],
   "source": [
    "# We can use this with dictionaries as well\n",
    "\n",
    "values = {x: x * 2 for x in range(5)}\n",
    "print(values)"
   ]
  },
  {
   "cell_type": "code",
   "execution_count": 21,
   "metadata": {},
   "outputs": [
    {
     "output_type": "stream",
     "name": "stdout",
     "text": [
      "<generator object <genexpr> at 0x000001F36F9A9EB0>\n"
     ]
    }
   ],
   "source": [
    "values = (X * 2 for x in range(5))\n",
    "print(values)"
   ]
  },
  {
   "source": [
    "# Generator Expressions\n",
    "\n",
    "Generator objects are iterable just like lists. \n",
    "\n",
    "We use these so we do not have to store large data-sets in memory."
   ],
   "cell_type": "markdown",
   "metadata": {}
  },
  {
   "cell_type": "code",
   "execution_count": 26,
   "metadata": {},
   "outputs": [
    {
     "output_type": "stream",
     "name": "stdout",
     "text": [
      "Generator:  112\n"
     ]
    }
   ],
   "source": [
    "from sys import getsizeof\n",
    "\n",
    "values = (x * 2 for x in range(100000))\n",
    "\n",
    "print(\"Generator: \", getsizeof(values)) # Generator objects store way less in memory than a list."
   ]
  },
  {
   "source": [
    "# Unpacking Operator"
   ],
   "cell_type": "markdown",
   "metadata": {}
  },
  {
   "cell_type": "code",
   "execution_count": 28,
   "metadata": {},
   "outputs": [
    {
     "output_type": "stream",
     "name": "stdout",
     "text": [
      "[1, 2, 3]\n1 2 3\n"
     ]
    }
   ],
   "source": [
    "numbers = [1,2,3]\n",
    "print(numbers) # You will get swuare brakcets. \n",
    "\n",
    "# Need to unpack\n",
    "\n",
    "print(*numbers)"
   ]
  },
  {
   "cell_type": "code",
   "execution_count": 33,
   "metadata": {},
   "outputs": [
    {
     "output_type": "stream",
     "name": "stdout",
     "text": [
      "[0, 1, 2, 3, 4, 'H', 'e', 'l', 'l', 'o']\n"
     ]
    }
   ],
   "source": [
    "#values = list(range(5))\n",
    "values = [*range(5), *\"Hello\"]\n",
    "print(values)"
   ]
  },
  {
   "cell_type": "code",
   "execution_count": 34,
   "metadata": {},
   "outputs": [
    {
     "output_type": "stream",
     "name": "stdout",
     "text": [
      "[1, 2, 'a,', 3, 'Hello']\n"
     ]
    }
   ],
   "source": [
    "# Can combine lists...\n",
    "\n",
    "first = [1,2]\n",
    "second = [3]\n",
    "values = [*first, \"a,\", *second, \"Hello\"]\n",
    "print(values)"
   ]
  },
  {
   "cell_type": "code",
   "execution_count": 35,
   "metadata": {},
   "outputs": [
    {
     "output_type": "stream",
     "name": "stdout",
     "text": [
      "{'x': 10, 'y': 2, 'Z': 1}\n"
     ]
    }
   ],
   "source": [
    "# unpacking dictionaries\n",
    "\n",
    "first = {\"x\": 1} # This value won't appear\n",
    "second = {\"x\": 10, \"y\": 2} # We use the last value given to a key. --> 10 is the last value given\n",
    "\n",
    "combined = {**first, **second, \"Z\":1}\n",
    "\n",
    "print(combined)"
   ]
  },
  {
   "source": [
    "# Exercise\n",
    "\n",
    "Need to write a program to find the most repeated character in the list.\n",
    "\n",
    "sentence = \"This is a common interview question\""
   ],
   "cell_type": "markdown",
   "metadata": {}
  },
  {
   "cell_type": "code",
   "execution_count": 42,
   "metadata": {},
   "outputs": [
    {
     "output_type": "stream",
     "name": "stdout",
     "text": [
      "('i', 5)\n"
     ]
    }
   ],
   "source": [
    "from pprint import pprint\n",
    "\n",
    "sentence = \"This is a common interview question\"\n",
    "\n",
    "char_frequency = {}\n",
    "\n",
    "for char in sentence:\n",
    "    if char in char_frequency:\n",
    "        char_frequency[char] += 1\n",
    "    else:\n",
    "        char_frequency[char] = 1\n",
    "\n",
    "char_frequency_sorted = sorted(\n",
    "    char_frequency.items(), # we are getting the key-value pairs from the dictionary as a tuple\n",
    "    key=lambda kv:kv[1], # We are just keeting the second index value from the key-value pair and we are sorting on that\n",
    "    reverse=True) # We want to reverse the list so the largest item is first\n",
    "\n",
    "print(char_frequency_sorted[0]) # We just need the first repeated character so we will return only that value"
   ]
  },
  {
   "cell_type": "code",
   "execution_count": 51,
   "metadata": {},
   "outputs": [
    {
     "output_type": "stream",
     "name": "stdout",
     "text": [
      "The 1 is repeated 14 times, so it is the most frequent number.\n"
     ]
    }
   ],
   "source": [
    "numbers = [1,1,1,1,1,1,1,1,1,1,1,1,1,1,2,3,4,5,6,6,6,6,6,66,6,6,7,8,9,9,9,9,9,10,11,12,13,13,14,15,16,17,17,17,17,17,80,90,88,77,66,66,66,55]\n",
    "\n",
    "num_frequency = {}\n",
    "\n",
    "for num in numbers:\n",
    "    if num in num_frequency:\n",
    "        num_frequency[num] += 1\n",
    "    else:\n",
    "        num_frequency[num] = 1\n",
    "\n",
    "num_frequency_sorted = sorted(\n",
    "    num_frequency.items(), # returning items from the dictionary as tuples\n",
    "    key=lambda nums:nums[1], # getting the index of 1 which is the number of times repeated\n",
    "    reverse=True # Reversing the list so the most frequent numbers are first\n",
    ")\n",
    "\n",
    "number, repeated = num_frequency_sorted[0] # What I am doing is since there are two values in the tuple I am giving each value a variable. \n",
    "\n",
    "print(F\"The {number} is repeated {repeated} times, so it is the most frequent number.\")\n"
   ]
  },
  {
   "cell_type": "code",
   "execution_count": null,
   "metadata": {},
   "outputs": [],
   "source": []
  }
 ]
}