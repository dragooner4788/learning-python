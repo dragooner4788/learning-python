{
 "metadata": {
  "language_info": {
   "codemirror_mode": {
    "name": "ipython",
    "version": 3
   },
   "file_extension": ".py",
   "mimetype": "text/x-python",
   "name": "python",
   "nbconvert_exporter": "python",
   "pygments_lexer": "ipython3",
   "version": "3.9.0-final"
  },
  "orig_nbformat": 2,
  "kernelspec": {
   "name": "python3",
   "display_name": "Python 3.9.0 64-bit",
   "metadata": {
    "interpreter": {
     "hash": "5122ed099dc5123678099b7db7e8f3488f5555799320b736a8038161c49cbd3b"
    }
   }
  }
 },
 "nbformat": 4,
 "nbformat_minor": 2,
 "cells": [
  {
   "source": [
    "# Classes\n",
    "\n",
    "Class is a blueprint for creating new objects.\n",
    "\n",
    "Object: instance of a class.\n",
    "\n",
    "For example: \n",
    "\n",
    "Class: Human\n",
    "Objects: John, Mary, Jack"
   ],
   "cell_type": "markdown",
   "metadata": {}
  },
  {
   "source": [
    "# Creating Classes\n",
    "\n",
    "Haskell Naming Convention\n",
    "\n",
    "Need to make sure every first letter is uppercase\n",
    "\n",
    "*self* is a reference to the current object."
   ],
   "cell_type": "markdown",
   "metadata": {}
  },
  {
   "cell_type": "code",
   "execution_count": 58,
   "metadata": {},
   "outputs": [
    {
     "output_type": "stream",
     "name": "stdout",
     "text": [
      "<class '__main__.Point'>\nFalse\n"
     ]
    }
   ],
   "source": [
    "class Point:\n",
    "    def draw(self):\n",
    "        print(\"draw\")\n",
    "\n",
    "point = Point()\n",
    "\n",
    "print(type(point))\n",
    "\n",
    "print(isinstance(point, int))"
   ]
  },
  {
   "source": [
    "# Constructors"
   ],
   "cell_type": "markdown",
   "metadata": {}
  },
  {
   "cell_type": "code",
   "execution_count": 59,
   "metadata": {},
   "outputs": [
    {
     "output_type": "stream",
     "name": "stdout",
     "text": [
      "Point: (5, 10)\n"
     ]
    }
   ],
   "source": [
    "class Point:\n",
    "    def __init__(self, x, y): # self is a reference to the current Point object.\n",
    "        self.x = x\n",
    "        self.y = y\n",
    "\n",
    "\n",
    "    def draw(self): # Referencing the current object. \n",
    "        print(f\"Point: ({self.x}, {self.y})\") # Prints out x and y\n",
    "\n",
    "point = Point(5,10)\n",
    "\n",
    "point.draw()"
   ]
  },
  {
   "source": [
    "# Class vs Instance Attributes"
   ],
   "cell_type": "markdown",
   "metadata": {}
  },
  {
   "cell_type": "code",
   "execution_count": 60,
   "metadata": {},
   "outputs": [
    {
     "output_type": "stream",
     "name": "stdout",
     "text": [
      "red\nPoint: (5, 10)\n"
     ]
    }
   ],
   "source": [
    "class Point:\n",
    "    default_color = \"red\" # Class level attribute; this is shared amongst ALL instances.\n",
    "\n",
    "\n",
    "    def __init__(self, x, y): # self is a reference to the current Point object.\n",
    "        self.x = x\n",
    "        self.y = y # Instance lvel attribute; this is only for the CURRENT instance of an object. \n",
    "\n",
    "\n",
    "    def draw(self): # Referencing the current object. \n",
    "        print(f\"Point: ({self.x}, {self.y})\") # Prints out x and y\n",
    "\n",
    "point = Point(5,10)\n",
    "print(point.default_color)\n",
    "point.z = 15\n",
    "\n",
    "point.draw()"
   ]
  },
  {
   "source": [
    "# Class Practice"
   ],
   "cell_type": "markdown",
   "metadata": {}
  },
  {
   "cell_type": "code",
   "execution_count": 1,
   "metadata": {},
   "outputs": [
    {
     "output_type": "stream",
     "name": "stdout",
     "text": [
      "Details of this Human:\nFirst Name: Guy\nLast Name: Friley\nAge: 32\nHeight: 71\nWeight: 368\nFavorite Color: Green\n"
     ]
    }
   ],
   "source": [
    "class Human:\n",
    "\n",
    "    \n",
    "    def __init__(self, first_name, last_name, age, height, weight, favorite_color):\n",
    "        self.first_name = first_name\n",
    "        self.last_name = last_name\n",
    "        self.age = age\n",
    "        self.height = height\n",
    "        self.weight = weight\n",
    "        self.favorite_color = favorite_color\n",
    "\n",
    "    \n",
    "    def show_details(self):\n",
    "        print(f\"Details of this Human:\\nFirst Name: {self.first_name}\\nLast Name: {self.last_name}\\nAge: {self.age}\\nHeight: {self.height}\\nWeight: {self.weight}\\nFavorite Color: {self.favorite_color}\")\n",
    "\n",
    "    \n",
    "    @classmethod\n",
    "    def get_user_info(self):\n",
    "        while True:\n",
    "            try:\n",
    "                first_name = input(\"First Name: \")\n",
    "                last_name = input(\"Last Name: \")\n",
    "                age = int(input(\"Age: \"))\n",
    "                height = int(input(\"Height (Inches): \"))\n",
    "                weight = int(input(\"Weight (Pounds): \"))\n",
    "                favorite_color = input(\"Favorite Color: \")\n",
    "                return self(first_name, last_name, age, height, weight, favorite_color)\n",
    "            except ValueError:\n",
    "                print(\"Invalid Input!\")\n",
    "                continue\n",
    "\n",
    "\n",
    "Person_1 = Human.get_user_info()\n",
    "\n",
    "Person_1.show_details()\n"
   ]
  },
  {
   "source": [
    "# Class vs Instance Methods"
   ],
   "cell_type": "markdown",
   "metadata": {}
  },
  {
   "source": [
    "# Magic Methods"
   ],
   "cell_type": "markdown",
   "metadata": {}
  },
  {
   "source": [
    "# Comparing Objects"
   ],
   "cell_type": "markdown",
   "metadata": {}
  },
  {
   "source": [
    "# Performing Arithmetic"
   ],
   "cell_type": "markdown",
   "metadata": {}
  },
  {
   "source": [
    "# Making Custom Containers"
   ],
   "cell_type": "markdown",
   "metadata": {}
  },
  {
   "source": [
    "# Private Members"
   ],
   "cell_type": "markdown",
   "metadata": {}
  },
  {
   "source": [
    "# Properties"
   ],
   "cell_type": "markdown",
   "metadata": {}
  },
  {
   "source": [
    "# Inheritance"
   ],
   "cell_type": "markdown",
   "metadata": {}
  },
  {
   "source": [
    "# The Object Class"
   ],
   "cell_type": "markdown",
   "metadata": {}
  },
  {
   "source": [
    "# Method Overriding"
   ],
   "cell_type": "markdown",
   "metadata": {}
  },
  {
   "source": [
    "# Multi-level Inheritance"
   ],
   "cell_type": "markdown",
   "metadata": {}
  },
  {
   "source": [
    "# Multiple Inheritance"
   ],
   "cell_type": "markdown",
   "metadata": {}
  },
  {
   "source": [
    "# A Good Example of Inheritance"
   ],
   "cell_type": "markdown",
   "metadata": {}
  },
  {
   "source": [
    "# Abstract Base Classes"
   ],
   "cell_type": "markdown",
   "metadata": {}
  },
  {
   "source": [
    "# Polymorphism"
   ],
   "cell_type": "markdown",
   "metadata": {}
  },
  {
   "source": [
    "# Duck Typing"
   ],
   "cell_type": "markdown",
   "metadata": {}
  },
  {
   "source": [
    "# Extending Built-in Types"
   ],
   "cell_type": "markdown",
   "metadata": {}
  },
  {
   "source": [
    "# Data Classes"
   ],
   "cell_type": "markdown",
   "metadata": {}
  }
 ]
}