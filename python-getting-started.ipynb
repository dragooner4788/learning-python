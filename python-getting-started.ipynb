{
 "metadata": {
  "language_info": {
   "codemirror_mode": {
    "name": "ipython",
    "version": 3
   },
   "file_extension": ".py",
   "mimetype": "text/x-python",
   "name": "python",
   "nbconvert_exporter": "python",
   "pygments_lexer": "ipython3",
   "version": "3.9.2-final"
  },
  "orig_nbformat": 2,
  "kernelspec": {
   "name": "python3",
   "display_name": "Python 3.9.2 64-bit",
   "metadata": {
    "interpreter": {
     "hash": "5122ed099dc5123678099b7db7e8f3488f5555799320b736a8038161c49cbd3b"
    }
   }
  }
 },
 "nbformat": 4,
 "nbformat_minor": 2,
 "cells": [
  {
   "source": [
    "# Welcome! \n",
    "\n",
    "This Jupyter notebook will hold my notes and my practice code as a learn Python. \n",
    "\n",
    "## Why use a Jupyter Notebook?\n",
    "\n",
    "The benefits of using a Jupyter notebook is so that I can write notes and write code within the same notebook and it is interactice instead of using a OneNote page which would not allow me the same felixiblity.\n",
    "\n",
    "This [article](https://towardsdatascience.com/getting-started-with-jupyter-notebooks-in-visual-studio-code-5dcccb3f739b) helped me to learn how to use Markdownn together wthin the notebook.\n",
    "\n",
    "You can also refer to Micrsoft's [documentation](https://code.visualstudio.com/docs/python/jupyter-support) on how to set up your VS Code Jupyter/Python environment which was quite helpful.\n",
    "\n",
    "## Courses that I used to learn Python:\n",
    "\n",
    "- [**Python Tutorial - Python for Beginners** by *Mosh Hamedani*](https://www.youtube.com/watch?v=_uQrJ0TkZlc)\n",
    "- [**Google IT Automation with Python Professional Certificate** by *Grow with Google* on Coursera](https://www.coursera.org/professional-certificates/google-it-automation)\n",
    "- [**Automate the Boring Stuff by Python** by *Al Sweigart*](https://www.udemy.com/course/automate/)\n",
    "\n",
    "**Note**: Mosh Hamedani's Python course can also be found on [Teachable](https://teachable.com/)\n",
    "\n",
    "## Books that I used to learn Python:\n",
    "\n",
    "- [**Automate the Boring Stuff with Python** by *Al Sweigart*](https://automatetheboringstuff.com/)\n",
    "- [**Python Crash Course: A Hands-On, Project-Based Introduction to Python** by *Eric Mathes*](https://nostarch.com/pythoncrashcourse2e)"
   ],
   "cell_type": "markdown",
   "metadata": {}
  },
  {
   "source": [
    "# Getting Started with Python\n",
    "\n",
    "Python is the fastest growing programming language.\n",
    "\n",
    "Why use Python?\n",
    "\n",
    "1. Solve complex problems in **less time** with **fewer lines of code**.\n",
    "2. Python is multi-purpose\n",
    "    - Can be used for a wide range of jobs and applications\n",
    "        - Data Analysis\n",
    "        - AI/ML \n",
    "        - Web applications\n",
    "        - Mobile applications\n",
    "        - Desktop applications\n",
    "        - Testing\n",
    "        - Hacking\n",
    "3. High-level language\n",
    "4. Cross-platform\n",
    "5. Huge Community\n",
    "6. Large Ecosystem\n",
    "\n",
    "There are 2 versions of Python:\n",
    "- Python 2\n",
    "    - Not used anymore, was deprecated in 2020.\n",
    "- Python 3\n",
    "\n",
    "## Installing Python\n",
    "\n",
    "1. Go to: [Python's Web Page](http://python.org).\n",
    "2. Go to Downloads and download the latest version.\n",
    "3. Ensure that you **Add Python to PATH when installing.\n",
    "4. Once installed, open of CMD and type in PYthon to check that Python is installed. You can do the same thing in macOS using the Terminal.\n",
    "\n",
    "You can use the interpreter which is installed when you install Python or you can use a **code editor**. You will want to ensure you have a code editor installed to make life easier while programming.\n",
    "\n",
    "### macOS\n",
    "\n",
    "If you are using macOS be aware that **Python 2* is already installed on the operating system because it is a dependency for programs on the OS.\n",
    "\n",
    "When using Python 3 you will need to specify Python 3 in the Terminal. [^1]\n",
    "\n",
    "```\n",
    ">> python3 [command goes here]\n",
    "```\n",
    "\n",
    "### Windows\n",
    "\n",
    "Windows does not come with PYthon installed natively. [^1]\n",
    "\n",
    "You can check to see if python is already installed by typing in this command into CMD or PowerShell:\n",
    "\n",
    "```\n",
    ">> python --version\n",
    "```\n",
    "\n",
    "or:\n",
    "\n",
    "```\n",
    ">> py --version\n",
    "```\n",
    "\n",
    "If you are using Windows 10, you can just use:\n",
    "\n",
    "```\n",
    ">> python [command goes here]\n",
    "```\n",
    "\n",
    "or:\n",
    "\n",
    "```\n",
    ">> py [command goes here]\n",
    "```\n",
    "\n",
    "And everything should work fine.\n",
    "\n",
    "Please reference these sources for further information:\n",
    "\n",
    "[Using Python on Windows](https://docs.python.org/3/using/windows.html)\n",
    "\n",
    "[Python 3 Installation & Setup Guide](https://realpython.com/installing-python/)\n",
    "- Windows and macOS installation guide.<br>\n",
    "\n",
    "[Using Python on a Macintosh](https://docs.python.org/3/using/mac.html)\n",
    "\n",
    "\n",
    "\n",
    "## Code Editors\n",
    "\n",
    "### 2 Options\n",
    "\n",
    "**Editor** \n",
    "- VSCode\n",
    "    - This editor is from Microsoft and has a lot fo extensibility. This is the code editor I recommend using.\n",
    "- Atom\n",
    "- Sublime\n",
    "    - This is an alternative to VS Code from Microsoft. This also has a lot of extensibility and is beginner friendly.\n",
    "\n",
    "\n",
    "**Integrated Development Environment (IDE)**\n",
    "- Autocompletion\n",
    "- Debugging\n",
    "- Testing\n",
    "\n",
    "Exmaples:\n",
    "- PyCharm\n",
    "\n",
    "I use VSCode for almost everything I do so that is the code editor of choice for me. I have used Sublime as well and prefer that as well if not VSCode.\n",
    "\n",
    "VSCode can provide us with a lot of the functionality that PyCharm doesn by installing the appropriate extensions. So I have a lot of extenions related to Markdown, Python and PowerShell installed to name a few.\n",
    "\n",
    "You can download VSCode [here](http://code.visualstudio.com). \n",
    "\n",
    "## Online Resources\n",
    "\n",
    "### Resources for **Python Crash Course**\n",
    "\n",
    "- [Resources on No Starch Press (Publisher of the Book)](https://nostarch.com/pythoncrashcourse2e)\n",
    "- [Python Crash Course Github Resources](http://ehmatthes.github.io/pcc_2e)\n",
    "\n",
    "Use these resources for:\n",
    "- Setup Instructions\n",
    "- Updates for the Book\n",
    "- Solutions to exercises from the Book\n",
    "- Cheat sheets\n",
    "\n",
    "[^1]: Eric Matthes, *Python Crash Course* (San Francisco: No Starch Press, 2019), 5-9"
   ],
   "cell_type": "markdown",
   "metadata": {}
  },
  {
   "source": [
    "# Hello World!\n",
    "\n",
    "Hello World is the first program almost any programmer writes when first getting their hands on a programming language."
   ],
   "cell_type": "markdown",
   "metadata": {}
  },
  {
   "cell_type": "code",
   "execution_count": 1,
   "metadata": {},
   "outputs": [
    {
     "output_type": "stream",
     "name": "stdout",
     "text": [
      "Hello World!\n"
     ]
    }
   ],
   "source": [
    "# First Program\n",
    "\n",
    "print(\"Hello World!\") # Calling the print function.\n"
   ]
  },
  {
   "source": [
    "The **print** function is a built-in Python function we use to print text to the console. The above code is simple and straight forward. We are just calling the print function and adding some text in-between some quotes. The text within the print function evaluates to a data type called a **string** which is just anything that is plain text.\n",
    "\n",
    "Below, I will write the dame thing, except for I am going to write 10 '*' across the bottom of \"Hello World\" to show that you can also repeat a string mutliple times using this method instead of writing things out many times."
   ],
   "cell_type": "markdown",
   "metadata": {}
  },
  {
   "cell_type": "code",
   "execution_count": 6,
   "metadata": {},
   "outputs": [
    {
     "output_type": "stream",
     "name": "stdout",
     "text": [
      "Hello World!\n**********\n"
     ]
    }
   ],
   "source": [
    "print(\"Hello World!\") # Calling the print function.\n",
    "print(\"*\" * 10)"
   ]
  },
  {
   "cell_type": "code",
   "execution_count": null,
   "metadata": {},
   "outputs": [],
   "source": []
  },
  {
   "source": [
    "# Turning VS Code into a Python IDE\n",
    "\n",
    "We can use VS Code as an IDE by installing extensions which add additional functionality to VS Code.\n",
    "\n",
    "Right within VS Code there should be an icon in the side bard that looks like 4 boxes. You can lcik that or type Crt+Shift+X to get there. \n",
    "\n",
    "You will want to install the Python extension and the features you will get are:\n",
    "- Linting\n",
    "    - Analyzing coe for potential errors\n",
    "- Autocompletion\n",
    "    - Helps to write code faster\n",
    "- Unit Testing\n",
    "    - Writing tests for code\n",
    "- Debugging\n",
    "    - Helping us understand errors\n",
    "- Code Formatting\n",
    "    - Clean and readbale coee\n",
    "- Code Snippets\n",
    "    - Reuasable code blocks \n",
    "\n",
    "When you install the Python extension from Microsof tyou will also need to ensure you are on the correct PYthon environment (Python 3.9) and then install Pylint. VS Code shoudl prompt you to install it. \n",
    "\n",
    "What's nice about this tool is that ti will underline your incorrect code and tell you want's wrong. \n",
    "\n",
    "**Note**: While working with code inside of VS Code you can use the problems panel: Shift+Ctrl+M and it will show you all of the current problems across all fo your files you are working with."
   ],
   "cell_type": "markdown",
   "metadata": {}
  },
  {
   "source": [
    "# Formatting Python Code\n",
    "\n",
    "PEP: Python Enchancement Proposals\n",
    "\n",
    "Once of the most popular PEP is PEP8 which is the *Style Guide for Python Code*"
   ],
   "cell_type": "markdown",
   "metadata": {}
  },
  {
   "cell_type": "code",
   "execution_count": null,
   "metadata": {},
   "outputs": [],
   "source": [
    "x=1 #ugly code\n",
    "\n",
    "x = 1 # beautiful code"
   ]
  },
  {
   "source": [
    "There are tools which can help you inside of VS Code to format your code. One of them is called **autopep8** which will format your code for you."
   ],
   "cell_type": "markdown",
   "metadata": {}
  },
  {
   "source": [
    "# Python Implementations\n",
    "\n",
    "Language: \n",
    "- Rules\n",
    "\n",
    "Implementation:\n",
    "- Program\n",
    "    - CPython: Default Implementation\n",
    "    - Jython: Java\n",
    "    - IronPYthon: C#\n",
    "    - PyPy: Subset of Python\n",
    "\n",
    "Features will gradually come to the other Implementations but CPython is the **default**.\n",
    "\n",
    "## Why do we have several Implementations\n",
    "\n",
    "Just as we have various OS's and Browsers, it's the same with these implementations. \n",
    "\n",
    "If you are a Java or C# program you want to make sure you use the correct implemention.\n",
    "\n",
    "# How Python Code is Executed\n",
    "\n",
    "Humans understand the High-level language like Python and Java\n",
    "\n",
    "\n",
    "But computers only understand machine code.\n",
    "\n",
    "Java Compiler does not compile into machine code, it converts into Java Bytecode. There is the Java Virtual Machine which does this for us.\n",
    "\n",
    "Wheras the C compiler compiles for a specific OS.\n",
    "\n",
    "When Python executes code this is how it flows: \n",
    "\n",
    "Python Code --> **CPython** --> Python Bytecode --> **Python Virtual Machine** --> Machine Code\n",
    "\n",
    "So, the various implementations that are available just help you if you are coding in Java or C#. \n",
    "    "
   ],
   "cell_type": "markdown",
   "metadata": {}
  },
  {
   "source": [
    "# Summary\n",
    "\n",
    "That's all for this Python notebook, please refer to the other notebooks for other topics relating to Python."
   ],
   "cell_type": "markdown",
   "metadata": {}
  }
 ]
}