{
 "metadata": {
  "language_info": {
   "codemirror_mode": {
    "name": "ipython",
    "version": 3
   },
   "file_extension": ".py",
   "mimetype": "text/x-python",
   "name": "python",
   "nbconvert_exporter": "python",
   "pygments_lexer": "ipython3",
   "version": "3.9.0-final"
  },
  "orig_nbformat": 2,
  "kernelspec": {
   "name": "python3",
   "display_name": "Python 3.9.0 64-bit",
   "metadata": {
    "interpreter": {
     "hash": "5122ed099dc5123678099b7db7e8f3488f5555799320b736a8038161c49cbd3b"
    }
   }
  }
 },
 "nbformat": 4,
 "nbformat_minor": 2,
 "cells": [
  {
   "source": [
    "# Welcome! \n",
    "\n",
    "This Jupyter notebook will hold my notes and my practice code as a learn Python. \n",
    "\n",
    "## Why use a Jupyter Notebook?\n",
    "\n",
    "The benefits of using a Jupyter notebook is so that I can write notes and write code within the same notebook and it is interactice instead of using a OneNote page which would not allow me the same felixiblity.\n",
    "\n",
    "This [article](https://towardsdatascience.com/getting-started-with-jupyter-notebooks-in-visual-studio-code-5dcccb3f739b) helped me to learn how to use Markdownn together wthin the notebook.\n",
    "\n",
    "You can also refer to Micrsoft's [documentation](https://code.visualstudio.com/docs/python/jupyter-support) on how to set up your VS Code Jupyter/Python environment which was quite helpful.\n",
    "\n",
    "## Courses that I used to learn Python:\n",
    "\n",
    "- [**Python Tutorial - Python for Beginners** by *Mosh Hamedani*](https://www.youtube.com/watch?v=_uQrJ0TkZlc)\n",
    "- [**Google IT Automation with Python Professional Certificate** by *Grow with Google* on Coursera](https://www.coursera.org/professional-certificates/google-it-automation)\n",
    "- [**Automate the Boring Stuff by Python** by *Al Sweigart*](https://www.udemy.com/course/automate/)\n",
    "\n",
    "**Note**: Mosh Hamedani's Python course can also be found on [Teachable](https://teachable.com/)\n",
    "\n",
    "## Books that I used to learn Python:\n",
    "\n",
    "- [**Automate the Boring Stuff with Python** by *Al Sweigart*](https://automatetheboringstuff.com/)"
   ],
   "cell_type": "markdown",
   "metadata": {}
  },
  {
   "source": [
    "# Getting Started with Python\n",
    "\n",
    "Python is the fastest growing programming language.\n",
    "\n",
    "Why use Python?\n",
    "\n",
    "1. Solve complex problems in **less time** with **fewer lines of code**.\n",
    "2. Python is multi-purpose\n",
    "    - Can be used for a wide range of jobs and applications\n",
    "        - Data Analysis\n",
    "        - AI/ML \n",
    "        - Web applications\n",
    "        - Mobile applications\n",
    "        - Desktop applications\n",
    "        - Testing\n",
    "        - Hacking\n",
    "3. High-level language\n",
    "4. Cross-platform\n",
    "5. Huge Community\n",
    "6. Large Ecosystem\n",
    "\n",
    "There are 2 versions of Python:\n",
    "- Python 2\n",
    "    - Not used anymore, was deprecated in 2020.\n",
    "- Python 3\n",
    "\n",
    "## Installing Python\n",
    "\n",
    "1. Go to: [Python's Web Page](http://python.org).\n",
    "2. Go to Downloads and download the latest version.\n",
    "3. Ensure that you **Add Python to PATH when installing.\n",
    "4. Once installed, open of CMD and type in PYthon to check that Python is installed. You can do the same thing in macOS using the Terminal.\n",
    "\n",
    "You can use the interpreter which is installed when you install Python or you can use a **code editor**. You will want to ensure you have a code editor installed to make life easier while programming.\n",
    "\n",
    "## Code Editors\n",
    "\n",
    "### 2 Options\n",
    "\n",
    "**Editor** \n",
    "- VCCode\n",
    "- Atom\n",
    "- Sublime\n",
    "\n",
    "\n",
    "**Integrated Development Environment (IDE)**\n",
    "- Autocompletion\n",
    "- Debugging\n",
    "- Testing\n",
    "\n",
    "Exmaples:\n",
    "- PyCharm\n",
    "\n",
    "I use VSCode for almost everything I do so that is the code editor of choice for me. I have used Sublime as well and prefer that as well if not VSCode.\n",
    "\n",
    "VSCode can provide us with a lot of the functionality that PyCharm doesn by installing the appropriate extensions. So I have a lot of extenions related to Markdown, Python and PowerShell installed to name a few.\n",
    "\n",
    "You can download VSCode [here](http://code.visualstudio.com). "
   ],
   "cell_type": "markdown",
   "metadata": {}
  },
  {
   "cell_type": "code",
   "execution_count": 5,
   "metadata": {},
   "outputs": [
    {
     "output_type": "stream",
     "name": "stdout",
     "text": [
      "Hello World!\n"
     ]
    }
   ],
   "source": [
    "# First Program\n",
    "\n",
    "print(\"Hello World!\") # Calling the print function.\n"
   ]
  },
  {
   "cell_type": "code",
   "execution_count": 6,
   "metadata": {},
   "outputs": [
    {
     "output_type": "stream",
     "name": "stdout",
     "text": [
      "Hello World!\n**********\n"
     ]
    }
   ],
   "source": [
    "print(\"Hello World!\") # Calling the print function.\n",
    "print(\"*\" * 10)"
   ]
  },
  {
   "cell_type": "code",
   "execution_count": null,
   "metadata": {},
   "outputs": [],
   "source": []
  }
 ]
}