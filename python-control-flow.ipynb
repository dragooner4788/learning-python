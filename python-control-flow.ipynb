{
 "metadata": {
  "language_info": {
   "codemirror_mode": {
    "name": "ipython",
    "version": 3
   },
   "file_extension": ".py",
   "mimetype": "text/x-python",
   "name": "python",
   "nbconvert_exporter": "python",
   "pygments_lexer": "ipython3",
   "version": "3.9.0-final"
  },
  "orig_nbformat": 2,
  "kernelspec": {
   "name": "python3",
   "display_name": "Python 3.9.0 64-bit",
   "metadata": {
    "interpreter": {
     "hash": "5122ed099dc5123678099b7db7e8f3488f5555799320b736a8038161c49cbd3b"
    }
   }
  }
 },
 "nbformat": 4,
 "nbformat_minor": 2,
 "cells": [
  {
   "source": [
    "# Comparison Operators\n",
    "\n",
    "Use comparison operators to compare values."
   ],
   "cell_type": "markdown",
   "metadata": {}
  },
  {
   "source": [
    "## Using Comparison Operaotrs with Numbers"
   ],
   "cell_type": "markdown",
   "metadata": {}
  },
  {
   "cell_type": "code",
   "execution_count": 1,
   "metadata": {},
   "outputs": [
    {
     "output_type": "execute_result",
     "data": {
      "text/plain": [
       "True"
      ]
     },
     "metadata": {},
     "execution_count": 1
    }
   ],
   "source": [
    "10 > 3"
   ]
  },
  {
   "cell_type": "code",
   "execution_count": 4,
   "metadata": {},
   "outputs": [
    {
     "output_type": "execute_result",
     "data": {
      "text/plain": [
       "True"
      ]
     },
     "metadata": {},
     "execution_count": 4
    }
   ],
   "source": [
    "10 >= 3"
   ]
  },
  {
   "cell_type": "code",
   "execution_count": 3,
   "metadata": {},
   "outputs": [
    {
     "output_type": "execute_result",
     "data": {
      "text/plain": [
       "True"
      ]
     },
     "metadata": {},
     "execution_count": 3
    }
   ],
   "source": [
    "10 < 20"
   ]
  },
  {
   "cell_type": "code",
   "execution_count": 2,
   "metadata": {},
   "outputs": [
    {
     "output_type": "execute_result",
     "data": {
      "text/plain": [
       "True"
      ]
     },
     "metadata": {},
     "execution_count": 2
    }
   ],
   "source": [
    "10 <= 20"
   ]
  },
  {
   "cell_type": "code",
   "execution_count": 5,
   "metadata": {},
   "outputs": [
    {
     "output_type": "execute_result",
     "data": {
      "text/plain": [
       "True"
      ]
     },
     "metadata": {},
     "execution_count": 5
    }
   ],
   "source": [
    "10 == 10"
   ]
  },
  {
   "cell_type": "code",
   "execution_count": 6,
   "metadata": {},
   "outputs": [
    {
     "output_type": "execute_result",
     "data": {
      "text/plain": [
       "False"
      ]
     },
     "metadata": {},
     "execution_count": 6
    }
   ],
   "source": [
    "10 == \"10\""
   ]
  },
  {
   "cell_type": "code",
   "execution_count": 7,
   "metadata": {},
   "outputs": [
    {
     "output_type": "execute_result",
     "data": {
      "text/plain": [
       "True"
      ]
     },
     "metadata": {},
     "execution_count": 7
    }
   ],
   "source": [
    "10 != \"10\""
   ]
  },
  {
   "source": [
    "## Using Comparison operators with Strings"
   ],
   "cell_type": "markdown",
   "metadata": {}
  },
  {
   "cell_type": "code",
   "execution_count": 8,
   "metadata": {},
   "outputs": [
    {
     "output_type": "execute_result",
     "data": {
      "text/plain": [
       "True"
      ]
     },
     "metadata": {},
     "execution_count": 8
    }
   ],
   "source": [
    "\"bag\" > \"apple\""
   ]
  },
  {
   "cell_type": "code",
   "execution_count": 9,
   "metadata": {},
   "outputs": [
    {
     "output_type": "execute_result",
     "data": {
      "text/plain": [
       "False"
      ]
     },
     "metadata": {},
     "execution_count": 9
    }
   ],
   "source": [
    "\"bag\" == \"BAG\""
   ]
  },
  {
   "cell_type": "code",
   "execution_count": 10,
   "metadata": {},
   "outputs": [
    {
     "output_type": "execute_result",
     "data": {
      "text/plain": [
       "98"
      ]
     },
     "metadata": {},
     "execution_count": 10
    }
   ],
   "source": [
    "ord(\"b\")"
   ]
  },
  {
   "cell_type": "code",
   "execution_count": 11,
   "metadata": {},
   "outputs": [
    {
     "output_type": "execute_result",
     "data": {
      "text/plain": [
       "66"
      ]
     },
     "metadata": {},
     "execution_count": 11
    }
   ],
   "source": [
    "ord(\"B\")"
   ]
  },
  {
   "source": [
    "# Conditonal Statements"
   ],
   "cell_type": "markdown",
   "metadata": {}
  },
  {
   "cell_type": "code",
   "execution_count": 15,
   "metadata": {},
   "outputs": [
    {
     "output_type": "stream",
     "name": "stdout",
     "text": [
      "Don't go outside.\n"
     ]
    }
   ],
   "source": [
    "temperature = 19\n",
    "\n",
    "if temperature > 30:\n",
    "    print(\"Go outside\")\n",
    "elif temperature > 20:\n",
    "    print(\"It's cold!\")\n",
    "else:\n",
    "    print(\"Don't go outside.\")"
   ]
  },
  {
   "source": [
    "# Ternary Operator\n",
    "\n",
    "Ternary operators also known as conditional expressions are operators that evaluate something based on a condition being true or false. It was added to Python in version 2.5.\n",
    "It simply allows to test a condition in a single line replacing the multiline if-else making the code compact.\n",
    "\n",
    "Syntax :\n",
    "\n",
    "*on_true* if *expression* else *on_false* \n",
    "\n",
    "Read more on Ternary operators [here](https://www.geeksforgeeks.org/ternary-operator-in-python/)"
   ],
   "cell_type": "markdown",
   "metadata": {}
  },
  {
   "cell_type": "code",
   "execution_count": 16,
   "metadata": {},
   "outputs": [
    {
     "output_type": "stream",
     "name": "stdout",
     "text": [
      "Eligible\n"
     ]
    }
   ],
   "source": [
    "age = 22\n",
    "\n",
    "if age >= 18:\n",
    "    print(\"Eligible\")\n",
    "else:\n",
    "    print(\"Not elgibile\")"
   ]
  },
  {
   "cell_type": "code",
   "execution_count": 17,
   "metadata": {},
   "outputs": [
    {
     "output_type": "stream",
     "name": "stdout",
     "text": [
      "Eligible\n"
     ]
    }
   ],
   "source": [
    "# Cleaner way using Ternary\n",
    "\n",
    "age = 22\n",
    "\n",
    "message = \"Eligible\" if age >= 18 else \"Not Eligible\"\n",
    "\n",
    "print(message)"
   ]
  },
  {
   "cell_type": "code",
   "execution_count": 20,
   "metadata": {},
   "outputs": [
    {
     "output_type": "stream",
     "name": "stdout",
     "text": [
      "Go outside\n"
     ]
    }
   ],
   "source": [
    "temperature = 32 \n",
    "\n",
    "message = \"Go outside\" if temperature >= 32 else \"Dont go outside\"\n",
    "\n",
    "print(message)"
   ]
  },
  {
   "source": [
    "# Logical Operators\n",
    "\n"
   ],
   "cell_type": "markdown",
   "metadata": {}
  },
  {
   "cell_type": "code",
   "execution_count": 23,
   "metadata": {},
   "outputs": [
    {
     "output_type": "stream",
     "name": "stdout",
     "text": [
      "Not Eligible\n"
     ]
    }
   ],
   "source": [
    "# 3 Logical Operators\n",
    "\n",
    "# and\n",
    "\n",
    "# or\n",
    "\n",
    "# not\n",
    "\n",
    "# Using and\n",
    "\n",
    "high_income = False\n",
    "\n",
    "good_credit = True\n",
    "\n",
    "if high_income and good_credit:\n",
    "    print(\"Eligible\")\n",
    "else:\n",
    "    print(\"Not Eligible\")"
   ]
  },
  {
   "cell_type": "code",
   "execution_count": 24,
   "metadata": {},
   "outputs": [
    {
     "output_type": "stream",
     "name": "stdout",
     "text": [
      "Eligible\n"
     ]
    }
   ],
   "source": [
    "# Using or\n",
    "\n",
    "high_income = False\n",
    "\n",
    "good_credit = True\n",
    "\n",
    "if high_income or good_credit:\n",
    "    print(\"Eligible\")\n",
    "else:\n",
    "    print(\"Not Eligible\")"
   ]
  },
  {
   "cell_type": "code",
   "execution_count": 25,
   "metadata": {},
   "outputs": [
    {
     "output_type": "stream",
     "name": "stdout",
     "text": [
      "Not Eligible\n"
     ]
    }
   ],
   "source": [
    "# Using not \n",
    "\n",
    "high_income = False\n",
    "\n",
    "good_credit = True\n",
    "\n",
    "student = True\n",
    "\n",
    "if not student:\n",
    "    print(\"Eligible\")\n",
    "else:\n",
    "    print(\"Not Eligible\")"
   ]
  },
  {
   "cell_type": "code",
   "execution_count": 28,
   "metadata": {},
   "outputs": [
    {
     "output_type": "stream",
     "name": "stdout",
     "text": [
      "Not Eligible\n"
     ]
    }
   ],
   "source": [
    "# Using not\n",
    "\n",
    "high_income = False\n",
    "\n",
    "good_credit = True\n",
    "\n",
    "student = True\n",
    "\n",
    "if (high_income or good_credit) and not student:\n",
    "    print(\"Eligible\")\n",
    "else:\n",
    "    print(\"Not Eligible\")"
   ]
  },
  {
   "source": [
    "# Short Circuit Evaluation"
   ],
   "cell_type": "markdown",
   "metadata": {}
  },
  {
   "cell_type": "code",
   "execution_count": 29,
   "metadata": {},
   "outputs": [
    {
     "output_type": "stream",
     "name": "stdout",
     "text": [
      "Not Eligible\n"
     ]
    }
   ],
   "source": [
    "high_income = True\n",
    "\n",
    "good_credit = True\n",
    "\n",
    "student = True\n",
    "\n",
    "if high_income and good_credit and not student:\n",
    "    print(\"Eligible\")\n",
    "else:\n",
    "    print(\"Not Eligible\")"
   ]
  },
  {
   "source": [
    "As soon as one of the evaluations in the above code is FALSE the interpreter stops."
   ],
   "cell_type": "markdown",
   "metadata": {}
  },
  {
   "source": [
    "## AND operator"
   ],
   "cell_type": "markdown",
   "metadata": {}
  },
  {
   "cell_type": "code",
   "execution_count": 30,
   "metadata": {},
   "outputs": [
    {
     "output_type": "stream",
     "name": "stdout",
     "text": [
      "Not Eligible\n"
     ]
    }
   ],
   "source": [
    "high_income = False\n",
    "\n",
    "good_credit = True\n",
    "\n",
    "student = True\n",
    "\n",
    "if high_income and good_credit and not student: # This is short-circuitng. As soon as one argument is FALSE it stops.\n",
    "    print(\"Eligible\")\n",
    "else:\n",
    "    print(\"Not Eligible\")"
   ]
  },
  {
   "source": [
    "## OR operator"
   ],
   "cell_type": "markdown",
   "metadata": {}
  },
  {
   "cell_type": "code",
   "execution_count": 31,
   "metadata": {},
   "outputs": [
    {
     "output_type": "stream",
     "name": "stdout",
     "text": [
      "Eligible\n"
     ]
    }
   ],
   "source": [
    "high_income = False\n",
    "\n",
    "good_credit = True\n",
    "\n",
    "student = True\n",
    "\n",
    "if high_income or good_credit or not student: # This is short-circuitng. As soon as one argument is FALSE it stops.\n",
    "    print(\"Eligible\")\n",
    "else:\n",
    "    print(\"Not Eligible\")"
   ]
  },
  {
   "source": [
    "# Chain Comparison Operators"
   ],
   "cell_type": "markdown",
   "metadata": {}
  },
  {
   "cell_type": "code",
   "execution_count": 32,
   "metadata": {},
   "outputs": [
    {
     "output_type": "stream",
     "name": "stdout",
     "text": [
      "Eligible\n"
     ]
    }
   ],
   "source": [
    "# age should be between 18 and 65\n",
    "\n",
    "age = 22 \n",
    "\n",
    "if age >= 18 and age < 65:\n",
    "    print(\"Eligible\")"
   ]
  },
  {
   "source": [
    "Cleaner code using the math way..."
   ],
   "cell_type": "markdown",
   "metadata": {}
  },
  {
   "cell_type": "code",
   "execution_count": 33,
   "metadata": {},
   "outputs": [
    {
     "output_type": "stream",
     "name": "stdout",
     "text": [
      "Eligible\n"
     ]
    }
   ],
   "source": [
    "# age should be between 18 and 65\n",
    "\n",
    "age = 22 \n",
    "\n",
    "if 18 <= age < 65:\n",
    "    print(\"Eligible\")"
   ]
  },
  {
   "source": [
    "# For Loops"
   ],
   "cell_type": "markdown",
   "metadata": {}
  },
  {
   "cell_type": "code",
   "execution_count": 34,
   "metadata": {},
   "outputs": [
    {
     "output_type": "stream",
     "name": "stdout",
     "text": [
      "Sending a message\nSending a message\nSending a message\n"
     ]
    }
   ],
   "source": [
    "# Sending a message\n",
    "\n",
    "for number in range(3):\n",
    "    print(\"Sending a message\")"
   ]
  },
  {
   "cell_type": "code",
   "execution_count": 35,
   "metadata": {},
   "outputs": [
    {
     "output_type": "stream",
     "name": "stdout",
     "text": [
      "Sending a message 0\nSending a message 1\nSending a message 2\n"
     ]
    }
   ],
   "source": [
    "# Sending a message\n",
    "\n",
    "for number in range(3):\n",
    "    print(\"Sending a message\", number)"
   ]
  },
  {
   "cell_type": "code",
   "execution_count": 36,
   "metadata": {},
   "outputs": [
    {
     "output_type": "stream",
     "name": "stdout",
     "text": [
      "Sending a message 1\nSending a message 2\nSending a message 3\n"
     ]
    }
   ],
   "source": [
    "# Sending a message\n",
    "\n",
    "for number in range(3):\n",
    "    print(\"Sending a message\", number + 1)"
   ]
  },
  {
   "cell_type": "code",
   "execution_count": 37,
   "metadata": {},
   "outputs": [
    {
     "output_type": "stream",
     "name": "stdout",
     "text": [
      "Sending a message 1 .\nSending a message 2 ..\nSending a message 3 ...\n"
     ]
    }
   ],
   "source": [
    "# Sending a message\n",
    "\n",
    "for number in range(3):\n",
    "    print(\"Sending a message\", number + 1, (number + 1) * \".\")"
   ]
  },
  {
   "cell_type": "code",
   "execution_count": 38,
   "metadata": {},
   "outputs": [
    {
     "output_type": "stream",
     "name": "stdout",
     "text": [
      "Sending a message 1 .\nSending a message 2 ..\nSending a message 3 ...\n"
     ]
    }
   ],
   "source": [
    "# Sending a message\n",
    "\n",
    "for number in range(1,4):\n",
    "    print(\"Sending a message\", number, number * \".\")"
   ]
  },
  {
   "cell_type": "code",
   "execution_count": 39,
   "metadata": {},
   "outputs": [
    {
     "output_type": "stream",
     "name": "stdout",
     "text": [
      "Sending a message 1 .\nSending a message 3 ...\nSending a message 5 .....\nSending a message 7 .......\nSending a message 9 .........\n"
     ]
    }
   ],
   "source": [
    "# Sending a message\n",
    "\n",
    "for number in range(1, 10, 2):\n",
    "    print(\"Sending a message\", number, number * \".\")"
   ]
  },
  {
   "source": [
    "# For Else"
   ],
   "cell_type": "markdown",
   "metadata": {}
  },
  {
   "cell_type": "code",
   "execution_count": 40,
   "metadata": {},
   "outputs": [
    {
     "output_type": "stream",
     "name": "stdout",
     "text": [
      "Sending a message\nSuccessful\n"
     ]
    }
   ],
   "source": [
    "# Sending a message\n",
    "\n",
    "successful = True\n",
    "\n",
    "for number in range(3):\n",
    "    print(\"Sending a message\")\n",
    "    if successful:\n",
    "        print(\"Successful\")\n",
    "        break "
   ]
  },
  {
   "cell_type": "code",
   "execution_count": 44,
   "metadata": {},
   "outputs": [
    {
     "output_type": "stream",
     "name": "stdout",
     "text": [
      "Sending a message\nSuccessful\n"
     ]
    }
   ],
   "source": [
    "# Sending a message\n",
    "\n",
    "successful = False\n",
    "\n",
    "for number in range(1,4):\n",
    "    print(\"Sending a message\")\n",
    "    if successful:\n",
    "        print(\"Successful\")\n",
    "        break \n",
    "else:\n",
    "    print(f\"Unsuccessful. Attempted {number} times.\")"
   ]
  },
  {
   "cell_type": "code",
   "execution_count": null,
   "metadata": {},
   "outputs": [],
   "source": [
    "# Sending a message\n",
    "\n",
    "successful = True\n",
    "\n",
    "for number in range(1,4):\n",
    "    print(\"Sending a message\")\n",
    "    if successful:\n",
    "        print(\"Successful\")\n",
    "        break \n",
    "else:\n",
    "    print(f\"Unsuccessful. Attempted {number} times.\")"
   ]
  },
  {
   "source": [
    "# Nested Loops\n",
    "\n",
    "Can put loop inside of another."
   ],
   "cell_type": "markdown",
   "metadata": {}
  },
  {
   "cell_type": "code",
   "execution_count": 46,
   "metadata": {},
   "outputs": [
    {
     "output_type": "stream",
     "name": "stdout",
     "text": [
      "(0, 0)\n(0, 1)\n(0, 2)\n(1, 0)\n(1, 1)\n(1, 2)\n(2, 0)\n(2, 1)\n(2, 2)\n(3, 0)\n(3, 1)\n(3, 2)\n(4, 0)\n(4, 1)\n(4, 2)\n"
     ]
    }
   ],
   "source": [
    "for x in range(5): # Outer Loop\n",
    "    for y in range(3): # Inner Loop\n",
    "        print(f\"({x}, {y})\")"
   ]
  },
  {
   "source": [
    "We have and outer loop and inner loop. \n",
    "\n",
    "The outer loop starts at 0, and then executes the inner loop 3 times. \n",
    "\n",
    "And then the outer loop goes to 1 and then executes the inner loop 3 times."
   ],
   "cell_type": "markdown",
   "metadata": {}
  },
  {
   "source": [
    "# Iterables"
   ],
   "cell_type": "markdown",
   "metadata": {}
  },
  {
   "cell_type": "code",
   "execution_count": 48,
   "metadata": {},
   "outputs": [
    {
     "output_type": "stream",
     "name": "stdout",
     "text": [
      "<class 'int'>\n<class 'range'>\n"
     ]
    }
   ],
   "source": [
    "# How Iterables work...\n",
    "\n",
    "print(type(5)) # returns int class\n",
    "\n",
    "print(type(range(5))) # returns range class -- complex type\n",
    "\n",
    "# Iterable, we can use this in a for loop."
   ]
  },
  {
   "cell_type": "code",
   "execution_count": 47,
   "metadata": {},
   "outputs": [
    {
     "output_type": "stream",
     "name": "stdout",
     "text": [
      "P\ny\nt\nh\no\nn\n"
     ]
    }
   ],
   "source": [
    "for x in \"Python\":\n",
    "    print(x)"
   ]
  },
  {
   "cell_type": "code",
   "execution_count": 49,
   "metadata": {},
   "outputs": [
    {
     "output_type": "stream",
     "name": "stdout",
     "text": [
      "1\n2\n3\n4\n"
     ]
    }
   ],
   "source": [
    "for x in [1,2,3,4]:\n",
    "    print(x)"
   ]
  },
  {
   "source": [
    "# While Loops"
   ],
   "cell_type": "markdown",
   "metadata": {}
  },
  {
   "cell_type": "code",
   "execution_count": 50,
   "metadata": {},
   "outputs": [
    {
     "output_type": "stream",
     "name": "stdout",
     "text": [
      "100\n50\n25\n12\n6\n3\n1\n"
     ]
    }
   ],
   "source": [
    "number  = 100\n",
    "\n",
    "while number > 0:\n",
    "    print(number)\n",
    "    number //= 2"
   ]
  },
  {
   "cell_type": "code",
   "execution_count": 53,
   "metadata": {},
   "outputs": [
    {
     "output_type": "stream",
     "name": "stdout",
     "text": [
      "ECHO apple\n",
      "ECHO turtle\n",
      "ECHO quit\n"
     ]
    }
   ],
   "source": [
    "command = \"\"\n",
    "\n",
    "while command != \"quit\":\n",
    "    command = input(\">\")\n",
    "    print(\"ECHO\", command)"
   ]
  },
  {
   "source": [
    "What if someone types Quit or QUIT? "
   ],
   "cell_type": "markdown",
   "metadata": {}
  },
  {
   "cell_type": "code",
   "execution_count": 55,
   "metadata": {},
   "outputs": [
    {
     "output_type": "stream",
     "name": "stdout",
     "text": [
      "ECHO stuff\n",
      "ECHO QUIT\n"
     ]
    }
   ],
   "source": [
    "command = \"\"\n",
    "\n",
    "while command.lower() != \"quit\":\n",
    "    command = input(\">\")\n",
    "    print(\"ECHO\", command)"
   ]
  },
  {
   "source": [
    "# Infinite Loops\n",
    "\n",
    "A Loop that runs forever."
   ],
   "cell_type": "markdown",
   "metadata": {}
  },
  {
   "cell_type": "code",
   "execution_count": null,
   "metadata": {},
   "outputs": [],
   "source": [
    "command = \"\"\n",
    "\n",
    "while True: # This will always run\n",
    "    command = input(\">\")\n",
    "    print(\"ECHO\", command)"
   ]
  },
  {
   "cell_type": "code",
   "execution_count": 1,
   "metadata": {},
   "outputs": [],
   "source": [
    "# this is a better implementation of the loop...\n",
    "\n",
    "while True:\n",
    "    command= input(\">\")\n",
    "    print(\"ECHO\",command)\n",
    "    if command.lower() == \"quit\":\n",
    "        break"
   ]
  },
  {
   "cell_type": "code",
   "execution_count": null,
   "metadata": {},
   "outputs": [],
   "source": []
  }
 ]
}